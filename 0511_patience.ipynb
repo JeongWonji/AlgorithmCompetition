{
 "cells": [
  {
   "cell_type": "markdown",
   "id": "5ff38562",
   "metadata": {},
   "source": [
    "- regnet160\n",
    "- patience=50\n",
    "- epochs=200\n",
    "- crop 추가"
   ]
  },
  {
   "cell_type": "markdown",
   "id": "dd4479e2",
   "metadata": {},
   "source": [
    "- Ubuntu 18.04, Cuda 11\n",
    "- opencv-python\n",
    "- numpy\n",
    "- pandas\n",
    "- timm\n",
    "- torch==1.8.0 torchvision 0.9.0 with cuda 11.1\n",
    "- natsort\n",
    "- scikit-learn\n",
    "- pillow\n",
    "- torch_optimizer\n",
    "- tqdm\n",
    "- ptflops\n",
    "- easydict\n",
    "- matplotlib"
   ]
  },
  {
   "cell_type": "markdown",
   "id": "1c38e7b2",
   "metadata": {},
   "source": [
    "# Library"
   ]
  },
  {
   "cell_type": "code",
   "execution_count": 1,
   "id": "38c90d23",
   "metadata": {},
   "outputs": [
    {
     "name": "stderr",
     "output_type": "stream",
     "text": [
      "C:\\Users\\onegt\\anaconda3\\envs\\project2\\lib\\site-packages\\tqdm\\auto.py:22: TqdmWarning: IProgress not found. Please update jupyter and ipywidgets. See https://ipywidgets.readthedocs.io/en/stable/user_install.html\n",
      "  from .autonotebook import tqdm as notebook_tqdm\n"
     ]
    }
   ],
   "source": [
    "import os\n",
    "import cv2\n",
    "import time\n",
    "import random\n",
    "import logging  # 로그 출력\n",
    "import easydict  # 속성으로 dict 값에 access할 수 있음\n",
    "import numpy as np\n",
    "import pandas as pd\n",
    "from tqdm import tqdm  # process bar\n",
    "from os.path import join as opj\n",
    "from ptflops import get_model_complexity_info\n",
    "from sklearn.model_selection import StratifiedKFold\n",
    "from sklearn.metrics import f1_score\n",
    "# from PIL import Image\n",
    "\n",
    "import timm\n",
    "import torch\n",
    "import torch.nn as nn\n",
    "import torch_optimizer as optim\n",
    "from torch.utils.data import Dataset, DataLoader\n",
    "from torch.cuda.amp import autocast, grad_scaler\n",
    "from torchvision import transforms\n",
    "\n",
    "import warnings\n",
    "warnings.filterwarnings('ignore')"
   ]
  },
  {
   "cell_type": "markdown",
   "id": "a2c90e8a",
   "metadata": {},
   "source": [
    "# Config"
   ]
  },
  {
   "cell_type": "markdown",
   "id": "73ff47ae",
   "metadata": {},
   "source": [
    "Hyper-parameter 정의"
   ]
  },
  {
   "cell_type": "code",
   "execution_count": 2,
   "id": "30d4e5b6",
   "metadata": {},
   "outputs": [],
   "source": [
    "args = easydict.EasyDict(\n",
    "    {'exp_num':'0',\n",
    "     \n",
    "     # Path settings\n",
    "     'data_path':'./data',\n",
    "     'Kfold':5,\n",
    "     'model_path':'results/',\n",
    "\n",
    "     # Model parameter settings  # 고려사항\n",
    "#      'encoder_name':'regnety_040',  \n",
    "     'encoder_name':'regnety_160',\n",
    "#      'encoder_name':'efficientnet_b3',\n",
    "     'drop_path_rate':0.2,\n",
    "     \n",
    "     # Training parameter settings\n",
    "     ## Base Parameter\n",
    "     'img_size':224,  # 고려사항\n",
    "     'batch_size':16, # 고려사항\n",
    "#      'epochs':100,  # 고려사항\n",
    "     'epochs':500,\n",
    "     'optimizer':'Lamb',\n",
    "     'initial_lr':5e-6,\n",
    "     'weight_decay':1e-3,\n",
    "\n",
    "     ## Augmentation\n",
    "     'aug_ver':2,\n",
    "\n",
    "     ## Scheduler (OnecycleLR)\n",
    "     'scheduler':'cycle',\n",
    "     'warm_epoch':5,\n",
    "     'max_lr':1e-3,\n",
    "\n",
    "     ### Cosine Annealing\n",
    "     'min_lr':5e-6,\n",
    "     'tmax':145,\n",
    "\n",
    "     ## etc.\n",
    "     'patience':50,\n",
    "     'clipping':None,\n",
    "\n",
    "     # Hardware settings\n",
    "     'amp':True,\n",
    "     'multi_gpu':False,\n",
    "     'logging':False,\n",
    "     'num_workers':0,  # RuntimeError: DataLoader worker 오류 발생으로 0으로 설정\n",
    "#      'num_workers':4,  # 고려사항\n",
    "     'seed':42\n",
    "    })"
   ]
  },
  {
   "cell_type": "markdown",
   "id": "eabf0e95",
   "metadata": {},
   "source": [
    "# Utils for training and Logging"
   ]
  },
  {
   "cell_type": "code",
   "execution_count": 3,
   "id": "d74a4b3b",
   "metadata": {},
   "outputs": [],
   "source": [
    "# Warmup Learning rate scheduler\n",
    "from torch.optim.lr_scheduler import _LRScheduler\n",
    "class WarmUpLR(_LRScheduler):\n",
    "    \"\"\"warmup_training learning rate scheduler\n",
    "    Args:\n",
    "        optimizer: optimizer(e.g. SGD)\n",
    "        total_iters: totoal_iters of warmup phase\n",
    "    \"\"\"\n",
    "    def __init__(self, optimizer, total_iters, last_epoch=-1):\n",
    "        \n",
    "        self.total_iters = total_iters\n",
    "        super().__init__(optimizer, last_epoch)\n",
    "\n",
    "    def get_lr(self):\n",
    "        \"\"\"we will use the first m batches, and set the learning\n",
    "        rate to base_lr * m / total_iters\n",
    "        \"\"\"\n",
    "        return [base_lr * self.last_epoch / (self.total_iters + 1e-8) for base_lr in self.base_lrs]\n",
    "\n",
    "# Logging\n",
    "def get_root_logger(logger_name='basicsr',\n",
    "                    log_level=logging.INFO,\n",
    "                    log_file=None):\n",
    "\n",
    "    logger = logging.getLogger(logger_name)\n",
    "    # if the logger has been initialized, just return it\n",
    "    if logger.hasHandlers():\n",
    "        return logger\n",
    "\n",
    "    format_str = '%(asctime)s %(levelname)s: %(message)s'\n",
    "    logging.basicConfig(format=format_str, level=log_level)\n",
    "\n",
    "    if log_file is not None:\n",
    "        file_handler = logging.FileHandler(log_file, 'w')\n",
    "        file_handler.setFormatter(logging.Formatter(format_str))\n",
    "        file_handler.setLevel(log_level)\n",
    "        logger.addHandler(file_handler)\n",
    "\n",
    "    return logger\n",
    "\n",
    "class AvgMeter(object):\n",
    "    def __init__(self):\n",
    "        self.reset()\n",
    "\n",
    "    def reset(self):\n",
    "        self.val = 0\n",
    "        self.avg = 0\n",
    "        self.sum = 0\n",
    "        self.count = 0\n",
    "        self.losses = []\n",
    "\n",
    "    def update(self, val, n=1):\n",
    "        self.val = val\n",
    "        self.sum += val * n\n",
    "        self.count += n\n",
    "        self.avg = self.sum / self.count\n",
    "        self.losses.append(val)"
   ]
  },
  {
   "cell_type": "markdown",
   "id": "af0c91ef",
   "metadata": {},
   "source": [
    "# Data Preprocessing\n",
    "- 원본 이미지 사이즈가 큰 점을 감안해 (256,256)로 resize하여 데이터를 새롭게 저장"
   ]
  },
  {
   "cell_type": "code",
   "execution_count": 4,
   "id": "58036821",
   "metadata": {},
   "outputs": [],
   "source": [
    "# df = pd.read_csv('./data/train_df.csv')\n",
    "\n",
    "# # Resize Train Images\n",
    "# save_path = './data/train_256_new'  # 새로 저장할 폴더 경로\n",
    "# os.makedirs(save_path, exist_ok=True)\n",
    "# for img in tqdm(df['file_name']):  # train_df의 'file_name' 컬럼을 참고하여\n",
    "#     name = os.path.basename(img)\n",
    "#     img = cv2.imread(opj('./data/train/', img))  # 해당 경로에 있는 png 이미지 읽어서\n",
    "# #     img = cv2.resize(img, dsize=(256, 256))  # resize한 후\n",
    "#     img = cv2.resize(img, dsize=(256, 256), interpolation=cv2.INTER_AREA) # 고려사항\n",
    "#     img = cv2.imwrite(opj(save_path, name), img)  # 새 폴더에 저장\n",
    "\n",
    "# # Resize Test Images\n",
    "# df = pd.read_csv('./data/test_df.csv')\n",
    "# save_path = './data/test_256_new'\n",
    "# os.makedirs(save_path, exist_ok=True)\n",
    "# for img in tqdm(df['file_name']):\n",
    "#     name = os.path.basename(img)\n",
    "#     img = cv2.imread(opj('./data/test/', img))\n",
    "# #     img = cv2.resize(img, dsize=(256, 256))\n",
    "#     img = cv2.resize(img, dsize=(256, 256), interpolation=cv2.INTER_AREA) # 고려사항\n",
    "#     img = cv2.imwrite(opj(save_path, name), img)"
   ]
  },
  {
   "cell_type": "markdown",
   "id": "34eb9c5b",
   "metadata": {},
   "source": [
    "# Dataset & Loader"
   ]
  },
  {
   "cell_type": "code",
   "execution_count": 5,
   "id": "16ad6970",
   "metadata": {},
   "outputs": [],
   "source": [
    "class Train_Dataset(Dataset):\n",
    "    def __init__(self, df, transform=None):\n",
    "        self.file_name = df['file_name'].values\n",
    "        # 각 label을 str->index로 변환\n",
    "        labels = ['bottle-broken_large', 'bottle-broken_small', 'bottle-contamination', 'bottle-good', 'cable-bent_wire', 'cable-cable_swap', 'cable-combined', 'cable-cut_inner_insulation', 'cable-cut_outer_insulation', 'cable-good', 'cable-missing_cable', 'cable-missing_wire', 'cable-poke_insulation', 'capsule-crack', 'capsule-faulty_imprint', 'capsule-good', 'capsule-poke', 'capsule-scratch', 'capsule-squeeze', 'carpet-color', 'carpet-cut', 'carpet-good', 'carpet-hole', 'carpet-metal_contamination', 'carpet-thread', 'grid-bent', 'grid-broken', 'grid-glue', 'grid-good', 'grid-metal_contamination', 'grid-thread', 'hazelnut-crack', 'hazelnut-cut', 'hazelnut-good', 'hazelnut-hole', 'hazelnut-print', 'leather-color', 'leather-cut', 'leather-fold', 'leather-glue', 'leather-good', 'leather-poke', 'metal_nut-bent', 'metal_nut-color', 'metal_nut-flip', 'metal_nut-good', 'metal_nut-scratch', 'pill-color', 'pill-combined', 'pill-contamination', 'pill-crack', 'pill-faulty_imprint', 'pill-good', 'pill-pill_type', 'pill-scratch', 'screw-good', 'screw-manipulated_front', 'screw-scratch_head', 'screw-scratch_neck', 'screw-thread_side', 'screw-thread_top', 'tile-crack', 'tile-glue_strip', 'tile-good', 'tile-gray_stroke', 'tile-oil', 'tile-rough', 'toothbrush-defective', 'toothbrush-good', 'transistor-bent_lead', 'transistor-cut_lead', 'transistor-damaged_case', 'transistor-good', 'transistor-misplaced', 'wood-color', 'wood-combined', 'wood-good', 'wood-hole', 'wood-liquid', 'wood-scratch', 'zipper-broken_teeth', 'zipper-combined', 'zipper-fabric_border', 'zipper-fabric_interior', 'zipper-good', 'zipper-rough', 'zipper-split_teeth', 'zipper-squeezed_teeth']\n",
    "        new = dict(zip(range(len(labels)),labels))\n",
    "        label_decoder = {val:key for key, val in new.items()}\n",
    "        df['label'] = df['label'].replace(label_decoder)\n",
    "\n",
    "        self.target = df['label'].values  # 목표는 label\n",
    "        self.transform = transform\n",
    "\n",
    "        print(f'Dataset size:{len(self.file_name)}')\n",
    "\n",
    "    def __getitem__(self, idx):  # train 경로에 있는 png 이미지 읽어서 float32로 변환\n",
    "        image = cv2.imread(opj('./data/train_256_new/', self.file_name[idx])).astype(np.float32)\n",
    "        image = cv2.cvtColor(image, cv2.COLOR_BGR2RGB) / 255.0  # BGR=>RGB 변환\n",
    "        \n",
    "        # PIL 사용 # 고려사항\n",
    "#         image = Image.open(opj('./data/train_256/', self.file_name[idx])).convert('RGB')\n",
    "#         image = self.transform(image)\n",
    "        \n",
    "        target = self.target[idx]\n",
    "#         print(f'target:{target}')\n",
    "\n",
    "        if self.transform is not None:\n",
    "        # HWC => CHW-layout 변환\n",
    "            image = self.transform(torch.from_numpy(image.transpose(2,0,1)))\n",
    "\n",
    "        return image, target\n",
    "\n",
    "    def __len__(self):\n",
    "        return len(self.file_name)\n",
    "\n",
    "class Test_dataset(Dataset):\n",
    "    def __init__(self, df, transform=None):\n",
    "        self.test_file_name = df['file_name'].values\n",
    "        self.transform = transform\n",
    "\n",
    "        print(f'Test Dataset size:{len(self.test_file_name)}')\n",
    "\n",
    "    def __getitem__(self, idx): # test 경로에 있는 png 이미지 읽어서 float32로 변환\n",
    "        image = cv2.imread(opj('./data/test_256_new/', self.test_file_name[idx])).astype(np.float32)\n",
    "        image = cv2.cvtColor(image, cv2.COLOR_BGR2RGB) / 255.0  # BGR=>RGB 변환\n",
    "\n",
    "        if self.transform is not None:\n",
    "            image = self.transform(torch.from_numpy(image.transpose(2,0,1)))\n",
    "\n",
    "        return image\n",
    "\n",
    "    def __len__(self):\n",
    "        return len(self.test_file_name)\n",
    "\n",
    "def get_loader(df, phase: str, batch_size, shuffle,\n",
    "               num_workers, transform):\n",
    "    if phase == 'test':\n",
    "        dataset = Test_dataset(df, transform)  \n",
    "        # num_workers : 데이터 로딩에 사용하는 subprocess 개수\n",
    "        # pin_memory : True - 데이터로더가 Tensor를 CUDA 고정 메모리에 올림\n",
    "        # drop_last : batch의 크기에 따른 의존도 높은 함수를 사용할 때 우려되는 경우 마지막 batch를 사용하지 않을 수 있음\n",
    "        data_loader = DataLoader(dataset, batch_size=batch_size, shuffle=shuffle, num_workers=num_workers, pin_memory=True)\n",
    "    else:\n",
    "        dataset = Train_Dataset(df, transform)\n",
    "        data_loader = DataLoader(dataset, batch_size=batch_size, shuffle=shuffle, num_workers=num_workers, pin_memory=True,\n",
    "                                 drop_last=False)\n",
    "    return data_loader\n",
    "\n",
    "def get_train_augmentation(img_size, ver):\n",
    "    if ver == 1: # for validset\n",
    "        transform = transforms.Compose([\n",
    "#                 transforms.Resize((img_size, img_size)),\n",
    "                transforms.Normalize(mean=[0.485, 0.456, 0.406],\n",
    "                                     std=[0.229, 0.224, 0.225]),\n",
    "                ])\n",
    "\n",
    "    if ver == 2:\n",
    "        transform = transforms.Compose([\n",
    "                transforms.RandomHorizontalFlip(),\n",
    "                transforms.RandomVerticalFlip(),  # 추가\n",
    "                transforms.RandomCrop(224),  # 추가\n",
    "                transforms.RandomPerspective(),  # 추가\n",
    "                transforms.RandomAffine((20)),  # x, y축으로 이미지 늘림\n",
    "                transforms.RandomRotation(90),\n",
    "#                 transforms.Resize((img_size, img_size)),\n",
    "                transforms.Normalize(mean=[0.485, 0.456, 0.406],\n",
    "                                     std=[0.229, 0.224, 0.225]),\n",
    "            ])\n",
    "    \n",
    "    \n",
    "    return transform"
   ]
  },
  {
   "cell_type": "markdown",
   "id": "496a3605",
   "metadata": {},
   "source": [
    "# Network"
   ]
  },
  {
   "cell_type": "code",
   "execution_count": 6,
   "id": "98c73038",
   "metadata": {},
   "outputs": [],
   "source": [
    "class Network(nn.Module):\n",
    "    def __init__(self, args):\n",
    "        super().__init__()\n",
    "        # 사전 학습된 모델 사용하기\n",
    "        self.encoder = timm.create_model(args.encoder_name, pretrained=True,\n",
    "                                    drop_path_rate=args.drop_path_rate,\n",
    "                                    )\n",
    "#         num_head = self.encoder.head.fc.in_features  # Number of parallel attention heads\n",
    "#         self.encoder.head.fc = nn.Linear(num_head, 88)\n",
    "        \n",
    "        if 'regnet' in args.encoder_name:        \n",
    "            num_head = self.encoder.head.fc.in_features\n",
    "            self.encoder.head.fc = nn.Linear(num_head, 88)\n",
    "        \n",
    "        elif 'efficient' in args.encoder_name:\n",
    "            num_head = self.encoder.classifier.in_features\n",
    "            self.encoder.classifier = nn.Linear(num_head, 88)\n",
    "\n",
    "    def forward(self, x):\n",
    "        x = self.encoder(x)\n",
    "        return x\n",
    "\n",
    "class Network_test(nn.Module):\n",
    "    def __init__(self, encoder_name):\n",
    "        super().__init__()\n",
    "        self.encoder = timm.create_model(encoder_name, pretrained=True,\n",
    "                                    drop_path_rate=0,\n",
    "                                    )\n",
    "#         num_head = self.encoder.head.fc.in_features\n",
    "#         self.encoder.head.fc = nn.Linear(num_head, 88)\n",
    "        \n",
    "        if 'regnet' in encoder_name:        \n",
    "            num_head = self.encoder.head.fc.in_features\n",
    "            self.encoder.head.fc = nn.Linear(num_head, 88)\n",
    "        \n",
    "        elif 'efficient' in encoder_name:\n",
    "            num_head = self.encoder.classifier.in_features\n",
    "            self.encoder.classifier = nn.Linear(num_head, 88)\n",
    "    \n",
    "    def forward(self, x):\n",
    "        x = self.encoder(x)\n",
    "        return x"
   ]
  },
  {
   "cell_type": "markdown",
   "id": "574592ec",
   "metadata": {},
   "source": [
    "# Trainer for Training & Validation"
   ]
  },
  {
   "cell_type": "code",
   "execution_count": 7,
   "id": "d3456802",
   "metadata": {},
   "outputs": [],
   "source": [
    "class Trainer():\n",
    "    def __init__(self, args, save_path):\n",
    "        '''\n",
    "        args: arguments\n",
    "        save_path: Model 가중치 저장 경로\n",
    "        '''\n",
    "        super(Trainer, self).__init__()\n",
    "        self.device = torch.device('cuda' if torch.cuda.is_available() else 'cpu')\n",
    "\n",
    "        # Logging\n",
    "        log_file = os.path.join(save_path, 'log_0511_1.log')\n",
    "        self.logger = get_root_logger(logger_name='IR', log_level=logging.INFO, log_file=log_file)\n",
    "        self.logger.info(args)\n",
    "        # self.logger.info(args.tag)\n",
    "\n",
    "        # Train, Valid Set load\n",
    "        ############################################################################\n",
    "        df_train = pd.read_csv(opj(args.data_path, 'train_df.csv'))\n",
    "        print('Read train_df.csv')\n",
    "            \n",
    "#         if args.step == 0 :\n",
    "#             df_train = pd.read_csv(opj(args.data_path, 'train_df.csv'))\n",
    "#             print('Read train_df.csv')\n",
    "#         else :\n",
    "#             df_train = pd.read_csv(opj(args.data_path, f'aws_0505_esb_train_{args.step}step.csv'))\n",
    "#             print(f'Read {args.step}step.csv')\n",
    "\n",
    "#         if args.image_type is not None:\n",
    "#             df_train['file_name'] = df_train['file_name'].apply(lambda x:x.replace('train_imgs', args.image_type))\n",
    "#             df_train['file_name'] = df_train['file_name'].apply(lambda x:x.replace('test_imgs', 'test_512'))\n",
    "\n",
    "        kf = StratifiedKFold(n_splits=args.Kfold, shuffle=True, random_state=args.seed)\n",
    "        for fold, (train_idx, val_idx) in enumerate(kf.split(range(len(df_train)), y=df_train['label'])):\n",
    "            df_train.loc[val_idx, 'fold'] = fold\n",
    "        val_idx = list(df_train[df_train['fold'] == int(args.fold)].index)\n",
    "\n",
    "        df_val = df_train[df_train['fold'] == args.fold].reset_index(drop=True)\n",
    "        df_train = df_train[df_train['fold'] != args.fold].reset_index(drop=True)\n",
    "\n",
    "        # Augmentation\n",
    "        self.train_transform = get_train_augmentation(img_size=args.img_size, ver=args.aug_ver)\n",
    "        self.test_transform = get_train_augmentation(img_size=args.img_size, ver=1)\n",
    "\n",
    "        # TrainLoader\n",
    "        self.train_loader = get_loader(df_train, phase='train', batch_size=args.batch_size, shuffle=True,\n",
    "                                       num_workers=args.num_workers, transform=self.train_transform)\n",
    "        self.val_loader = get_loader(df_val, phase='train', batch_size=args.batch_size, shuffle=False,\n",
    "                                       num_workers=args.num_workers, transform=self.test_transform)\n",
    "\n",
    "        # Network\n",
    "        self.model = Network(args).to(self.device)\n",
    "        macs, params = get_model_complexity_info(self.model, (3, args.img_size, args.img_size), as_strings=True,\n",
    "                                                 print_per_layer_stat=False, verbose=False)\n",
    "        self.logger.info('{:<30}  {:<8}'.format('Computational complexity: ', macs))\n",
    "        self.logger.info('{:<30}  {:<8}'.format('Number of parameters: ', params))\n",
    "\n",
    "        # Loss\n",
    "        self.criterion = nn.CrossEntropyLoss()\n",
    "        \n",
    "        # Optimizer & Scheduler\n",
    "        self.optimizer = optim.Lamb(self.model.parameters(), lr=args.initial_lr, weight_decay=args.weight_decay)\n",
    "        \n",
    "        iter_per_epoch = len(self.train_loader)\n",
    "        self.warmup_scheduler = WarmUpLR(self.optimizer, iter_per_epoch * args.warm_epoch)\n",
    "\n",
    "        if args.scheduler == 'step':\n",
    "            self.scheduler = torch.optim.lr_scheduler.MultiStepLR(self.optimizer, milestones=args.milestone, gamma=args.lr_factor, verbose=True)\n",
    "        elif args.scheduler == 'cos':\n",
    "            tmax = args.tmax # half-cycle \n",
    "            self.scheduler = torch.optim.lr_scheduler.CosineAnnealingLR(self.optimizer, T_max = tmax, eta_min=args.min_lr, verbose=True)\n",
    "        elif args.scheduler == 'cycle':\n",
    "            self.scheduler = torch.optim.lr_scheduler.OneCycleLR(self.optimizer, max_lr=args.max_lr, steps_per_epoch=iter_per_epoch, epochs=args.epochs)\n",
    "\n",
    "        if args.multi_gpu:\n",
    "            self.model = nn.DataParallel(self.model).to(self.device)\n",
    "\n",
    "        # Train / Validate\n",
    "        best_loss = np.inf\n",
    "        best_acc = 0\n",
    "        best_epoch = 0\n",
    "        early_stopping = 0\n",
    "        start = time.time()\n",
    "        for epoch in range(1, args.epochs+1):\n",
    "            self.epoch = epoch\n",
    "\n",
    "            if args.scheduler == 'cos':\n",
    "                if epoch > args.warm_epoch:\n",
    "                    self.scheduler.step()\n",
    "\n",
    "            # Training\n",
    "            train_loss, train_acc, train_f1 = self.training(args)\n",
    "\n",
    "            # Model weight in Multi_GPU or Single GPU\n",
    "            state_dict= self.model.module.state_dict() if args.multi_gpu else self.model.state_dict()\n",
    "\n",
    "            # Validation\n",
    "            val_loss, val_acc, val_f1 = self.validate(args, phase='val')\n",
    "\n",
    "            # Save models\n",
    "            if val_loss < best_loss:\n",
    "                early_stopping = 0\n",
    "                best_epoch = epoch\n",
    "                best_loss = val_loss\n",
    "                best_acc = val_acc\n",
    "                best_f1 = val_f1\n",
    "\n",
    "                torch.save({'epoch':epoch,\n",
    "                            'state_dict':state_dict,\n",
    "                            'optimizer': self.optimizer.state_dict(),\n",
    "                            'scheduler': self.scheduler.state_dict(),\n",
    "                    }, os.path.join(save_path, 'best_model_0511_1.pth'))\n",
    "                self.logger.info(f'-----------------SAVE:{best_epoch}epoch----------------')\n",
    "            else:\n",
    "                early_stopping += 1\n",
    "\n",
    "            # Early Stopping\n",
    "            if early_stopping == args.patience:\n",
    "                break\n",
    "                \n",
    "            print(f'\\nbest epoch:{best_epoch}/loss:{best_loss:.4f}/f1:{best_f1:.4f}')\n",
    "\n",
    "        self.logger.info(f'\\nBest Val Epoch:{best_epoch} | Val Loss:{best_loss:.4f} | Val Acc:{best_acc:.4f} | Val F1:{best_f1:.4f}')\n",
    "        end = time.time()\n",
    "        self.logger.info(f'Total Process time:{(end - start) / 60:.3f}Minute')\n",
    "\n",
    "    # Training\n",
    "    def training(self, args):\n",
    "        self.model.train()\n",
    "        train_loss = AvgMeter()\n",
    "        train_acc = 0\n",
    "        preds_list = []\n",
    "        targets_list = []\n",
    "\n",
    "        scaler = grad_scaler.GradScaler()\n",
    "        for i, (images, targets) in enumerate(tqdm(self.train_loader)):\n",
    "            images = torch.tensor(images, device=self.device, dtype=torch.float32)\n",
    "            # ValueError: too many dimensions 'str'\n",
    "#             targets = torch.tensor(int(targets), device=self.device, dtype=torch.long)\n",
    "            targets = torch.tensor(targets, device=self.device, dtype=torch.long)\n",
    "            \n",
    "            if self.epoch <= args.warm_epoch:\n",
    "                self.warmup_scheduler.step()\n",
    "\n",
    "            self.model.zero_grad(set_to_none=True)\n",
    "            if args.amp:\n",
    "                with autocast():\n",
    "                    preds = self.model(images)\n",
    "                    loss = self.criterion(preds, targets)\n",
    "                scaler.scale(loss).backward()\n",
    "\n",
    "                # Gradient Clipping\n",
    "                if args.clipping is not None:\n",
    "                    scaler.unscale_(self.optimizer)\n",
    "                    torch.nn.utils.clip_grad_norm_(self.model.parameters(), args.clipping)\n",
    "\n",
    "                scaler.step(self.optimizer)\n",
    "                scaler.update()\n",
    "\n",
    "            else:\n",
    "                preds = self.model(images)\n",
    "                loss = self.criterion(preds, targets)\n",
    "                loss.backward()\n",
    "                nn.utils.clip_grad_norm_(self.model.parameters(), args.clipping)\n",
    "                self.optimizer.step()\n",
    "\n",
    "            if args.scheduler == 'cycle':\n",
    "                if self.epoch > args.warm_epoch:\n",
    "                    self.scheduler.step()\n",
    "\n",
    "            # Metric\n",
    "            train_acc += (preds.argmax(dim=1) == targets).sum().item()\n",
    "            preds_list.extend(preds.argmax(dim=1).cpu().detach().numpy())\n",
    "            targets_list.extend(targets.cpu().detach().numpy())\n",
    "            # log\n",
    "            train_loss.update(loss.item(), n=images.size(0))\n",
    "\n",
    "        train_acc /= len(self.train_loader.dataset)\n",
    "        train_f1 = f1_score(np.array(targets_list), np.array(preds_list), average='macro')\n",
    "\n",
    "        self.logger.info(f'Epoch:[{self.epoch:03d}/{args.epochs:03d}]')\n",
    "        self.logger.info(f'Train Loss:{train_loss.avg:.3f} | Acc:{train_acc:.4f} | F1:{train_f1:.4f}')\n",
    "        return train_loss.avg, train_acc, train_f1\n",
    "            \n",
    "    # Validation or Dev\n",
    "    def validate(self, args, phase='val'):\n",
    "        self.model.eval()\n",
    "        with torch.no_grad():\n",
    "            val_loss = AvgMeter()\n",
    "            val_acc = 0\n",
    "            preds_list = []\n",
    "            targets_list = []\n",
    "\n",
    "            for i, (images, targets) in enumerate(self.val_loader):\n",
    "                images = torch.tensor(images, device=self.device, dtype=torch.float32)\n",
    "                targets = torch.tensor(targets, device=self.device, dtype=torch.long)\n",
    "\n",
    "                preds = self.model(images)\n",
    "                loss = self.criterion(preds, targets)\n",
    "\n",
    "                # Metric\n",
    "                val_acc += (preds.argmax(dim=1) == targets).sum().item()\n",
    "                preds_list.extend(preds.argmax(dim=1).cpu().detach().numpy())\n",
    "                targets_list.extend(targets.cpu().detach().numpy())\n",
    "\n",
    "                # log\n",
    "                val_loss.update(loss.item(), n=images.size(0))\n",
    "            val_acc /= len(self.val_loader.dataset)\n",
    "            val_f1 = f1_score(np.array(targets_list), np.array(preds_list), average='macro')\n",
    "\n",
    "            self.logger.info(f'{phase} Loss:{val_loss.avg:.3f} | Acc:{val_acc:.4f} | F1:{val_f1:.4f}')\n",
    "        return val_loss.avg, val_acc, val_f1"
   ]
  },
  {
   "cell_type": "markdown",
   "id": "dc66f503",
   "metadata": {},
   "source": [
    "# Main"
   ]
  },
  {
   "cell_type": "code",
   "execution_count": 8,
   "id": "54d2a0a3",
   "metadata": {},
   "outputs": [],
   "source": [
    "def main(args):\n",
    "    print('<---- Training Params ---->')\n",
    "    \n",
    "    # Random Seed\n",
    "    seed = args.seed\n",
    "    os.environ['PYTHONHASHSEED'] = str(seed)\n",
    "    random.seed(seed)\n",
    "    np.random.seed(seed)\n",
    "    torch.manual_seed(seed)\n",
    "    torch.cuda.manual_seed(seed)\n",
    "    torch.cuda.manual_seed_all(seed)\n",
    "    torch.backends.cudnn.benchmark = True\n",
    "\n",
    "    save_path = os.path.join(args.model_path, (args.exp_num).zfill(3))\n",
    "    \n",
    "    # Create model directory\n",
    "    os.makedirs(save_path, exist_ok=True)\n",
    "    Trainer(args, save_path)\n",
    "\n",
    "    return save_path"
   ]
  },
  {
   "cell_type": "markdown",
   "id": "7e5763bf",
   "metadata": {},
   "source": [
    "# Inference & Make pseudo label set"
   ]
  },
  {
   "cell_type": "code",
   "execution_count": 9,
   "id": "0beb201c",
   "metadata": {},
   "outputs": [],
   "source": [
    "def predict(encoder_name, test_loader, device, model_path):\n",
    "    model = Network_test(encoder_name).to(device)\n",
    "    model.load_state_dict(torch.load(opj(model_path, 'best_model_0511_1.pth'))['state_dict'])\n",
    "    model.eval()\n",
    "    preds_list = []\n",
    "    with torch.no_grad():\n",
    "        for images in tqdm(test_loader):\n",
    "            images = torch.as_tensor(images, device=device, dtype=torch.float32)\n",
    "            preds = model(images)\n",
    "            preds = torch.softmax(preds, dim=1)\n",
    "            preds_list.extend(preds.cpu().tolist())\n",
    "\n",
    "    return np.array(preds_list)\n",
    "\n",
    "def ensemble_5fold(model_path_list, test_loader, device):\n",
    "    predict_list = []\n",
    "    for model_path in model_path_list:  # 고려사항\n",
    "#         prediction = predict(encoder_name= 'efficientnet_b3', \n",
    "        prediction = predict(encoder_name= 'regnety_160', \n",
    "#         prediction = predict(encoder_name= 'regnety_040', \n",
    "                             test_loader = test_loader, device = device, model_path = model_path)\n",
    "        predict_list.append(prediction)\n",
    "    ensemble = (predict_list[0] + predict_list[1] + predict_list[2] + predict_list[3] + predict_list[4])/len(predict_list)\n",
    "\n",
    "    return ensemble\n",
    "\n",
    "\n",
    "# def make_pseudo_df(train_df, test_df, ensemble, step, threshold = 0.9, z_sample = 500): \n",
    "#     train_df_copy = train_df.copy()\n",
    "#     test_df_copy = test_df.copy()\n",
    "\n",
    "#     test_df_copy['label'] = ensemble.argmax(axis=1)\n",
    "#     pseudo_test_df = test_df_copy.iloc[np.where(ensemble > threshold)[0]].reset_index(drop=True)\n",
    "#     z_idx  = pseudo_test_df[pseudo_test_df['label'] == 0].sample(n=z_sample, random_state=42).index.tolist()\n",
    "#     ot_idx = pseudo_test_df[pseudo_test_df['label'].isin([*range(1,88)])].index.tolist()  # 고려사항\n",
    "#     pseudo_test_df = pseudo_test_df.iloc[z_idx + ot_idx]\n",
    "\n",
    "#     train_df_copy = train_df_copy.append(pseudo_test_df, ignore_index=True).reset_index(drop=True) # reset_index\n",
    "#     train_df_copy.to_csv(f'./data/0505_1_train_{step}step.csv', index=False)\n",
    "#     print(f'Make train_{step}step.csv')"
   ]
  },
  {
   "cell_type": "markdown",
   "id": "3ee8c70a",
   "metadata": {},
   "source": [
    "# Train & Inference\n",
    "- 5fold Training -> Inference & Ensemble -> Make or Update Pseudo label set -> Add Dataset(Trainset + Pseudo label set)\n",
    "다음과 과정을 반복하기 때문에 Training과 Inference를 동시에 진행했습니다."
   ]
  },
  {
   "cell_type": "code",
   "execution_count": 10,
   "id": "866d58ae",
   "metadata": {},
   "outputs": [],
   "source": [
    "# img_size = 256  # 고려사항\n",
    "img_size = 224\n",
    "device = torch.device('cuda' if torch.cuda.is_available() else 'cpu')\n",
    "sub = pd.read_csv('./data/sample_submission.csv')\n",
    "df_train = pd.read_csv('./data/train_df.csv')\n",
    "df_test = pd.read_csv('./data/test_df.csv')"
   ]
  },
  {
   "cell_type": "code",
   "execution_count": 11,
   "id": "89b1d73a",
   "metadata": {},
   "outputs": [
    {
     "name": "stdout",
     "output_type": "stream",
     "text": [
      "Test Dataset size:2154\n"
     ]
    }
   ],
   "source": [
    "# df_test['file_name'] = df_test['file_name'].apply(lambda x:x.replace('test_imgs', 'test_1024'))\n",
    "test_transform = get_train_augmentation(img_size=img_size, ver=1)\n",
    "test_dataset = Test_dataset(df_test, test_transform)\n",
    "test_loader = DataLoader(test_dataset, batch_size=64, shuffle=False, num_workers=0)\n",
    "# test_loader = DataLoader(test_dataset, batch_size=32, shuffle=False, num_workers=0)  # 고려사항"
   ]
  },
  {
   "cell_type": "code",
   "execution_count": 12,
   "id": "94941098",
   "metadata": {
    "scrolled": true
   },
   "outputs": [
    {
     "name": "stderr",
     "output_type": "stream",
     "text": [
      "2022-05-12 18:18:01,535 INFO: {'exp_num': '0', 'data_path': './data', 'Kfold': 5, 'model_path': 'results/', 'encoder_name': 'regnety_160', 'drop_path_rate': 0.2, 'img_size': 224, 'batch_size': 16, 'epochs': 500, 'optimizer': 'Lamb', 'initial_lr': 5e-06, 'weight_decay': 0.001, 'aug_ver': 2, 'scheduler': 'cycle', 'warm_epoch': 5, 'max_lr': 0.001, 'min_lr': 5e-06, 'tmax': 145, 'patience': 50, 'clipping': None, 'amp': True, 'multi_gpu': False, 'logging': False, 'num_workers': 0, 'seed': 42, 'fold': 0}\n"
     ]
    },
    {
     "name": "stdout",
     "output_type": "stream",
     "text": [
      "<---- Training Params ---->\n",
      "Read train_df.csv\n",
      "Dataset size:3421\n",
      "Dataset size:856\n"
     ]
    },
    {
     "name": "stderr",
     "output_type": "stream",
     "text": [
      "2022-05-12 18:18:02,345 INFO: Loading pretrained weights from url (https://dl.fbaipublicfiles.com/deit/regnety_160-a5fe301d.pth)\n",
      "Downloading: \"https://dl.fbaipublicfiles.com/deit/regnety_160-a5fe301d.pth\" to C:\\Users\\onegt/.cache\\torch\\hub\\checkpoints\\regnety_160-a5fe301d.pth\n",
      "2022-05-12 18:21:35,646 INFO: Computational complexity:       15.93 GMac\n",
      "2022-05-12 18:21:35,647 INFO: Number of parameters:           80.83 M \n",
      "100%|████████████████████████████████████████████████████████████████████████████████| 214/214 [04:08<00:00,  1.16s/it]\n",
      "2022-05-12 18:25:44,345 INFO: Epoch:[001/500]\n",
      "2022-05-12 18:25:44,346 INFO: Train Loss:4.494 | Acc:0.0102 | F1:0.0047\n",
      "2022-05-12 18:26:05,566 INFO: val Loss:4.554 | Acc:0.0000 | F1:0.0000\n",
      "2022-05-12 18:26:07,474 INFO: -----------------SAVE:1epoch----------------\n"
     ]
    },
    {
     "name": "stdout",
     "output_type": "stream",
     "text": [
      "\n",
      "best epoch:1/loss:4.5544/f1:0.0000\n"
     ]
    },
    {
     "name": "stderr",
     "output_type": "stream",
     "text": [
      "100%|████████████████████████████████████████████████████████████████████████████████| 214/214 [03:43<00:00,  1.04s/it]\n",
      "2022-05-12 18:29:50,981 INFO: Epoch:[002/500]\n",
      "2022-05-12 18:29:50,981 INFO: Train Loss:4.481 | Acc:0.0117 | F1:0.0051\n",
      "2022-05-12 18:30:08,169 INFO: val Loss:4.545 | Acc:0.0000 | F1:0.0000\n",
      "2022-05-12 18:30:10,104 INFO: -----------------SAVE:2epoch----------------\n"
     ]
    },
    {
     "name": "stdout",
     "output_type": "stream",
     "text": [
      "\n",
      "best epoch:2/loss:4.5451/f1:0.0000\n"
     ]
    },
    {
     "name": "stderr",
     "output_type": "stream",
     "text": [
      "100%|████████████████████████████████████████████████████████████████████████████████| 214/214 [03:39<00:00,  1.03s/it]\n",
      "2022-05-12 18:33:49,818 INFO: Epoch:[003/500]\n",
      "2022-05-12 18:33:49,818 INFO: Train Loss:4.485 | Acc:0.0076 | F1:0.0023\n",
      "2022-05-12 18:34:05,853 INFO: val Loss:4.533 | Acc:0.0000 | F1:0.0000\n",
      "2022-05-12 18:34:07,679 INFO: -----------------SAVE:3epoch----------------\n"
     ]
    },
    {
     "name": "stdout",
     "output_type": "stream",
     "text": [
      "\n",
      "best epoch:3/loss:4.5333/f1:0.0000\n"
     ]
    },
    {
     "name": "stderr",
     "output_type": "stream",
     "text": [
      "100%|████████████████████████████████████████████████████████████████████████████████| 214/214 [03:38<00:00,  1.02s/it]\n",
      "2022-05-12 18:37:46,286 INFO: Epoch:[004/500]\n",
      "2022-05-12 18:37:46,286 INFO: Train Loss:4.476 | Acc:0.0108 | F1:0.0033\n",
      "2022-05-12 18:38:03,599 INFO: val Loss:4.534 | Acc:0.0000 | F1:0.0000\n"
     ]
    },
    {
     "name": "stdout",
     "output_type": "stream",
     "text": [
      "\n",
      "best epoch:3/loss:4.5333/f1:0.0000\n"
     ]
    },
    {
     "name": "stderr",
     "output_type": "stream",
     "text": [
      "100%|████████████████████████████████████████████████████████████████████████████████| 214/214 [03:51<00:00,  1.08s/it]\n",
      "2022-05-12 18:41:54,825 INFO: Epoch:[005/500]\n",
      "2022-05-12 18:41:54,825 INFO: Train Loss:4.468 | Acc:0.0111 | F1:0.0036\n",
      "2022-05-12 18:42:11,979 INFO: val Loss:4.529 | Acc:0.0000 | F1:0.0000\n",
      "2022-05-12 18:42:13,777 INFO: -----------------SAVE:5epoch----------------\n"
     ]
    },
    {
     "name": "stdout",
     "output_type": "stream",
     "text": [
      "\n",
      "best epoch:5/loss:4.5288/f1:0.0000\n"
     ]
    },
    {
     "name": "stderr",
     "output_type": "stream",
     "text": [
      "100%|████████████████████████████████████████████████████████████████████████████████| 214/214 [03:46<00:00,  1.06s/it]\n",
      "2022-05-12 18:46:00,294 INFO: Epoch:[006/500]\n",
      "2022-05-12 18:46:00,294 INFO: Train Loss:4.434 | Acc:0.0181 | F1:0.0049\n",
      "2022-05-12 18:46:17,378 INFO: val Loss:4.482 | Acc:0.0035 | F1:0.0005\n",
      "2022-05-12 18:46:19,202 INFO: -----------------SAVE:6epoch----------------\n"
     ]
    },
    {
     "name": "stdout",
     "output_type": "stream",
     "text": [
      "\n",
      "best epoch:6/loss:4.4820/f1:0.0005\n"
     ]
    },
    {
     "name": "stderr",
     "output_type": "stream",
     "text": [
      "100%|████████████████████████████████████████████████████████████████████████████████| 214/214 [03:38<00:00,  1.02s/it]\n",
      "2022-05-12 18:49:58,050 INFO: Epoch:[007/500]\n",
      "2022-05-12 18:49:58,050 INFO: Train Loss:4.363 | Acc:0.0415 | F1:0.0066\n",
      "2022-05-12 18:50:13,334 INFO: val Loss:4.438 | Acc:0.0117 | F1:0.0013\n",
      "2022-05-12 18:50:15,183 INFO: -----------------SAVE:7epoch----------------\n"
     ]
    },
    {
     "name": "stdout",
     "output_type": "stream",
     "text": [
      "\n",
      "best epoch:7/loss:4.4384/f1:0.0013\n"
     ]
    },
    {
     "name": "stderr",
     "output_type": "stream",
     "text": [
      "100%|████████████████████████████████████████████████████████████████████████████████| 214/214 [03:28<00:00,  1.02it/s]\n",
      "2022-05-12 18:53:44,061 INFO: Epoch:[008/500]\n",
      "2022-05-12 18:53:44,062 INFO: Train Loss:4.292 | Acc:0.0614 | F1:0.0094\n",
      "2022-05-12 18:53:59,342 INFO: val Loss:4.381 | Acc:0.0199 | F1:0.0019\n",
      "2022-05-12 18:54:01,207 INFO: -----------------SAVE:8epoch----------------\n"
     ]
    },
    {
     "name": "stdout",
     "output_type": "stream",
     "text": [
      "\n",
      "best epoch:8/loss:4.3809/f1:0.0019\n"
     ]
    },
    {
     "name": "stderr",
     "output_type": "stream",
     "text": [
      "100%|████████████████████████████████████████████████████████████████████████████████| 214/214 [03:27<00:00,  1.03it/s]\n",
      "2022-05-12 18:57:28,323 INFO: Epoch:[009/500]\n",
      "2022-05-12 18:57:28,323 INFO: Train Loss:4.226 | Acc:0.0816 | F1:0.0109\n",
      "2022-05-12 18:57:43,656 INFO: val Loss:4.328 | Acc:0.0397 | F1:0.0036\n",
      "2022-05-12 18:57:45,707 INFO: -----------------SAVE:9epoch----------------\n"
     ]
    },
    {
     "name": "stdout",
     "output_type": "stream",
     "text": [
      "\n",
      "best epoch:9/loss:4.3285/f1:0.0036\n"
     ]
    },
    {
     "name": "stderr",
     "output_type": "stream",
     "text": [
      "100%|████████████████████████████████████████████████████████████████████████████████| 214/214 [03:39<00:00,  1.03s/it]\n",
      "2022-05-12 19:01:25,466 INFO: Epoch:[010/500]\n",
      "2022-05-12 19:01:25,467 INFO: Train Loss:4.157 | Acc:0.0921 | F1:0.0103\n",
      "2022-05-12 19:01:41,948 INFO: val Loss:4.268 | Acc:0.0537 | F1:0.0052\n",
      "2022-05-12 19:01:43,922 INFO: -----------------SAVE:10epoch----------------\n"
     ]
    },
    {
     "name": "stdout",
     "output_type": "stream",
     "text": [
      "\n",
      "best epoch:10/loss:4.2676/f1:0.0052\n"
     ]
    },
    {
     "name": "stderr",
     "output_type": "stream",
     "text": [
      "100%|████████████████████████████████████████████████████████████████████████████████| 214/214 [03:42<00:00,  1.04s/it]\n",
      "2022-05-12 19:05:26,321 INFO: Epoch:[011/500]\n",
      "2022-05-12 19:05:26,322 INFO: Train Loss:4.085 | Acc:0.1041 | F1:0.0113\n",
      "2022-05-12 19:05:42,902 INFO: val Loss:4.214 | Acc:0.0654 | F1:0.0057\n",
      "2022-05-12 19:05:45,036 INFO: -----------------SAVE:11epoch----------------\n"
     ]
    },
    {
     "name": "stdout",
     "output_type": "stream",
     "text": [
      "\n",
      "best epoch:11/loss:4.2137/f1:0.0057\n"
     ]
    },
    {
     "name": "stderr",
     "output_type": "stream",
     "text": [
      "100%|████████████████████████████████████████████████████████████████████████████████| 214/214 [03:44<00:00,  1.05s/it]\n",
      "2022-05-12 19:09:29,738 INFO: Epoch:[012/500]\n",
      "2022-05-12 19:09:29,738 INFO: Train Loss:4.014 | Acc:0.1198 | F1:0.0129\n",
      "2022-05-12 19:09:45,979 INFO: val Loss:4.181 | Acc:0.0689 | F1:0.0059\n",
      "2022-05-12 19:09:47,813 INFO: -----------------SAVE:12epoch----------------\n"
     ]
    },
    {
     "name": "stdout",
     "output_type": "stream",
     "text": [
      "\n",
      "best epoch:12/loss:4.1806/f1:0.0059\n"
     ]
    },
    {
     "name": "stderr",
     "output_type": "stream",
     "text": [
      "100%|████████████████████████████████████████████████████████████████████████████████| 214/214 [03:42<00:00,  1.04s/it]\n",
      "2022-05-12 19:13:30,708 INFO: Epoch:[013/500]\n",
      "2022-05-12 19:13:30,708 INFO: Train Loss:3.942 | Acc:0.1345 | F1:0.0143\n",
      "2022-05-12 19:13:46,477 INFO: val Loss:4.114 | Acc:0.0911 | F1:0.0072\n",
      "2022-05-12 19:13:48,602 INFO: -----------------SAVE:13epoch----------------\n"
     ]
    },
    {
     "name": "stdout",
     "output_type": "stream",
     "text": [
      "\n",
      "best epoch:13/loss:4.1137/f1:0.0072\n"
     ]
    },
    {
     "name": "stderr",
     "output_type": "stream",
     "text": [
      "100%|████████████████████████████████████████████████████████████████████████████████| 214/214 [03:36<00:00,  1.01s/it]\n",
      "2022-05-12 19:17:25,245 INFO: Epoch:[014/500]\n",
      "2022-05-12 19:17:25,245 INFO: Train Loss:3.873 | Acc:0.1438 | F1:0.0154\n",
      "2022-05-12 19:17:40,906 INFO: val Loss:4.055 | Acc:0.1180 | F1:0.0093\n",
      "2022-05-12 19:17:42,974 INFO: -----------------SAVE:14epoch----------------\n"
     ]
    },
    {
     "name": "stdout",
     "output_type": "stream",
     "text": [
      "\n",
      "best epoch:14/loss:4.0552/f1:0.0093\n"
     ]
    },
    {
     "name": "stderr",
     "output_type": "stream",
     "text": [
      "100%|████████████████████████████████████████████████████████████████████████████████| 214/214 [03:32<00:00,  1.01it/s]\n",
      "2022-05-12 19:21:15,444 INFO: Epoch:[015/500]\n",
      "2022-05-12 19:21:15,445 INFO: Train Loss:3.793 | Acc:0.1631 | F1:0.0189\n",
      "2022-05-12 19:21:30,727 INFO: val Loss:3.982 | Acc:0.1215 | F1:0.0110\n",
      "2022-05-12 19:21:32,769 INFO: -----------------SAVE:15epoch----------------\n"
     ]
    },
    {
     "name": "stdout",
     "output_type": "stream",
     "text": [
      "\n",
      "best epoch:15/loss:3.9818/f1:0.0110\n"
     ]
    },
    {
     "name": "stderr",
     "output_type": "stream",
     "text": [
      "100%|████████████████████████████████████████████████████████████████████████████████| 214/214 [03:30<00:00,  1.02it/s]\n",
      "2022-05-12 19:25:03,004 INFO: Epoch:[016/500]\n",
      "2022-05-12 19:25:03,004 INFO: Train Loss:3.729 | Acc:0.1844 | F1:0.0221\n",
      "2022-05-12 19:25:17,725 INFO: val Loss:3.934 | Acc:0.1332 | F1:0.0117\n",
      "2022-05-12 19:25:19,771 INFO: -----------------SAVE:16epoch----------------\n"
     ]
    },
    {
     "name": "stdout",
     "output_type": "stream",
     "text": [
      "\n",
      "best epoch:16/loss:3.9336/f1:0.0117\n"
     ]
    },
    {
     "name": "stderr",
     "output_type": "stream",
     "text": [
      "100%|████████████████████████████████████████████████████████████████████████████████| 214/214 [03:26<00:00,  1.04it/s]\n",
      "2022-05-12 19:28:45,895 INFO: Epoch:[017/500]\n",
      "2022-05-12 19:28:45,896 INFO: Train Loss:3.662 | Acc:0.2093 | F1:0.0259\n",
      "2022-05-12 19:29:00,631 INFO: val Loss:3.872 | Acc:0.1752 | F1:0.0157\n",
      "2022-05-12 19:29:02,755 INFO: -----------------SAVE:17epoch----------------\n"
     ]
    },
    {
     "name": "stdout",
     "output_type": "stream",
     "text": [
      "\n",
      "best epoch:17/loss:3.8720/f1:0.0157\n"
     ]
    },
    {
     "name": "stderr",
     "output_type": "stream",
     "text": [
      "100%|████████████████████████████████████████████████████████████████████████████████| 214/214 [03:23<00:00,  1.05it/s]\n",
      "2022-05-12 19:32:25,883 INFO: Epoch:[018/500]\n",
      "2022-05-12 19:32:25,883 INFO: Train Loss:3.584 | Acc:0.2362 | F1:0.0295\n",
      "2022-05-12 19:32:40,486 INFO: val Loss:3.789 | Acc:0.1764 | F1:0.0174\n",
      "2022-05-12 19:32:42,571 INFO: -----------------SAVE:18epoch----------------\n"
     ]
    },
    {
     "name": "stdout",
     "output_type": "stream",
     "text": [
      "\n",
      "best epoch:18/loss:3.7885/f1:0.0174\n"
     ]
    },
    {
     "name": "stderr",
     "output_type": "stream",
     "text": [
      "100%|████████████████████████████████████████████████████████████████████████████████| 214/214 [03:13<00:00,  1.11it/s]\n",
      "2022-05-12 19:35:55,635 INFO: Epoch:[019/500]\n",
      "2022-05-12 19:35:55,636 INFO: Train Loss:3.516 | Acc:0.2584 | F1:0.0335\n",
      "2022-05-12 19:36:08,608 INFO: val Loss:3.717 | Acc:0.2103 | F1:0.0207\n",
      "2022-05-12 19:36:10,786 INFO: -----------------SAVE:19epoch----------------\n"
     ]
    },
    {
     "name": "stdout",
     "output_type": "stream",
     "text": [
      "\n",
      "best epoch:19/loss:3.7166/f1:0.0207\n"
     ]
    },
    {
     "name": "stderr",
     "output_type": "stream",
     "text": [
      "100%|████████████████████████████████████████████████████████████████████████████████| 214/214 [02:59<00:00,  1.19it/s]\n",
      "2022-05-12 19:39:10,317 INFO: Epoch:[020/500]\n",
      "2022-05-12 19:39:10,318 INFO: Train Loss:3.436 | Acc:0.2841 | F1:0.0388\n",
      "2022-05-12 19:39:23,392 INFO: val Loss:3.642 | Acc:0.2301 | F1:0.0241\n",
      "2022-05-12 19:39:25,429 INFO: -----------------SAVE:20epoch----------------\n"
     ]
    },
    {
     "name": "stdout",
     "output_type": "stream",
     "text": [
      "\n",
      "best epoch:20/loss:3.6419/f1:0.0241\n"
     ]
    },
    {
     "name": "stderr",
     "output_type": "stream",
     "text": [
      "100%|████████████████████████████████████████████████████████████████████████████████| 214/214 [02:59<00:00,  1.19it/s]\n",
      "2022-05-12 19:42:24,851 INFO: Epoch:[021/500]\n",
      "2022-05-12 19:42:24,852 INFO: Train Loss:3.352 | Acc:0.3321 | F1:0.0487\n",
      "2022-05-12 19:42:37,764 INFO: val Loss:3.554 | Acc:0.2804 | F1:0.0360\n",
      "2022-05-12 19:42:39,705 INFO: -----------------SAVE:21epoch----------------\n"
     ]
    },
    {
     "name": "stdout",
     "output_type": "stream",
     "text": [
      "\n",
      "best epoch:21/loss:3.5535/f1:0.0360\n"
     ]
    },
    {
     "name": "stderr",
     "output_type": "stream",
     "text": [
      "100%|████████████████████████████████████████████████████████████████████████████████| 214/214 [02:59<00:00,  1.19it/s]\n",
      "2022-05-12 19:45:39,174 INFO: Epoch:[022/500]\n",
      "2022-05-12 19:45:39,176 INFO: Train Loss:3.278 | Acc:0.3750 | F1:0.0568\n",
      "2022-05-12 19:45:52,053 INFO: val Loss:3.504 | Acc:0.3189 | F1:0.0434\n",
      "2022-05-12 19:45:53,777 INFO: -----------------SAVE:22epoch----------------\n"
     ]
    },
    {
     "name": "stdout",
     "output_type": "stream",
     "text": [
      "\n",
      "best epoch:22/loss:3.5042/f1:0.0434\n"
     ]
    },
    {
     "name": "stderr",
     "output_type": "stream",
     "text": [
      "100%|████████████████████████████████████████████████████████████████████████████████| 214/214 [02:59<00:00,  1.19it/s]\n",
      "2022-05-12 19:48:52,983 INFO: Epoch:[023/500]\n",
      "2022-05-12 19:48:52,984 INFO: Train Loss:3.213 | Acc:0.4195 | F1:0.0657\n",
      "2022-05-12 19:49:05,881 INFO: val Loss:3.379 | Acc:0.4147 | F1:0.0623\n",
      "2022-05-12 19:49:07,786 INFO: -----------------SAVE:23epoch----------------\n"
     ]
    },
    {
     "name": "stdout",
     "output_type": "stream",
     "text": [
      "\n",
      "best epoch:23/loss:3.3786/f1:0.0623\n"
     ]
    },
    {
     "name": "stderr",
     "output_type": "stream",
     "text": [
      "100%|████████████████████████████████████████████████████████████████████████████████| 214/214 [02:59<00:00,  1.19it/s]\n",
      "2022-05-12 19:52:06,974 INFO: Epoch:[024/500]\n",
      "2022-05-12 19:52:06,975 INFO: Train Loss:3.133 | Acc:0.4630 | F1:0.0752\n",
      "2022-05-12 19:52:19,861 INFO: val Loss:3.296 | Acc:0.4509 | F1:0.0676\n",
      "2022-05-12 19:52:21,636 INFO: -----------------SAVE:24epoch----------------\n"
     ]
    },
    {
     "name": "stdout",
     "output_type": "stream",
     "text": [
      "\n",
      "best epoch:24/loss:3.2961/f1:0.0676\n"
     ]
    },
    {
     "name": "stderr",
     "output_type": "stream",
     "text": [
      "100%|████████████████████████████████████████████████████████████████████████████████| 214/214 [02:58<00:00,  1.20it/s]\n",
      "2022-05-12 19:55:20,633 INFO: Epoch:[025/500]\n",
      "2022-05-12 19:55:20,634 INFO: Train Loss:3.040 | Acc:0.5130 | F1:0.0853\n",
      "2022-05-12 19:55:33,531 INFO: val Loss:3.191 | Acc:0.4988 | F1:0.0749\n",
      "2022-05-12 19:55:35,214 INFO: -----------------SAVE:25epoch----------------\n"
     ]
    },
    {
     "name": "stdout",
     "output_type": "stream",
     "text": [
      "\n",
      "best epoch:25/loss:3.1908/f1:0.0749\n"
     ]
    },
    {
     "name": "stderr",
     "output_type": "stream",
     "text": [
      "100%|████████████████████████████████████████████████████████████████████████████████| 214/214 [02:58<00:00,  1.20it/s]\n",
      "2022-05-12 19:58:34,155 INFO: Epoch:[026/500]\n",
      "2022-05-12 19:58:34,155 INFO: Train Loss:2.955 | Acc:0.5551 | F1:0.0937\n",
      "2022-05-12 19:58:47,057 INFO: val Loss:3.152 | Acc:0.5526 | F1:0.0867\n",
      "2022-05-12 19:58:48,784 INFO: -----------------SAVE:26epoch----------------\n"
     ]
    },
    {
     "name": "stdout",
     "output_type": "stream",
     "text": [
      "\n",
      "best epoch:26/loss:3.1520/f1:0.0867\n"
     ]
    },
    {
     "name": "stderr",
     "output_type": "stream",
     "text": [
      "100%|████████████████████████████████████████████████████████████████████████████████| 214/214 [02:59<00:00,  1.19it/s]\n",
      "2022-05-12 20:01:48,033 INFO: Epoch:[027/500]\n",
      "2022-05-12 20:01:48,034 INFO: Train Loss:2.873 | Acc:0.5913 | F1:0.1004\n",
      "2022-05-12 20:02:00,915 INFO: val Loss:3.018 | Acc:0.6227 | F1:0.1005\n",
      "2022-05-12 20:02:02,550 INFO: -----------------SAVE:27epoch----------------\n"
     ]
    },
    {
     "name": "stdout",
     "output_type": "stream",
     "text": [
      "\n",
      "best epoch:27/loss:3.0182/f1:0.1005\n"
     ]
    },
    {
     "name": "stderr",
     "output_type": "stream",
     "text": [
      "100%|████████████████████████████████████████████████████████████████████████████████| 214/214 [02:58<00:00,  1.20it/s]\n",
      "2022-05-12 20:05:00,596 INFO: Epoch:[028/500]\n",
      "2022-05-12 20:05:00,596 INFO: Train Loss:2.790 | Acc:0.6329 | F1:0.1090\n",
      "2022-05-12 20:05:13,379 INFO: val Loss:2.888 | Acc:0.6577 | F1:0.1092\n",
      "2022-05-12 20:05:15,037 INFO: -----------------SAVE:28epoch----------------\n"
     ]
    },
    {
     "name": "stdout",
     "output_type": "stream",
     "text": [
      "\n",
      "best epoch:28/loss:2.8882/f1:0.1092\n"
     ]
    },
    {
     "name": "stderr",
     "output_type": "stream",
     "text": [
      "100%|████████████████████████████████████████████████████████████████████████████████| 214/214 [02:56<00:00,  1.21it/s]\n",
      "2022-05-12 20:08:11,354 INFO: Epoch:[029/500]\n",
      "2022-05-12 20:08:11,354 INFO: Train Loss:2.694 | Acc:0.6644 | F1:0.1149\n",
      "2022-05-12 20:08:24,057 INFO: val Loss:2.747 | Acc:0.7091 | F1:0.1189\n",
      "2022-05-12 20:08:25,769 INFO: -----------------SAVE:29epoch----------------\n"
     ]
    },
    {
     "name": "stdout",
     "output_type": "stream",
     "text": [
      "\n",
      "best epoch:29/loss:2.7474/f1:0.1189\n"
     ]
    },
    {
     "name": "stderr",
     "output_type": "stream",
     "text": [
      "100%|████████████████████████████████████████████████████████████████████████████████| 214/214 [02:56<00:00,  1.21it/s]\n",
      "2022-05-12 20:11:22,054 INFO: Epoch:[030/500]\n",
      "2022-05-12 20:11:22,054 INFO: Train Loss:2.603 | Acc:0.7115 | F1:0.1233\n",
      "2022-05-12 20:11:34,769 INFO: val Loss:2.696 | Acc:0.7348 | F1:0.1246\n",
      "2022-05-12 20:11:36,423 INFO: -----------------SAVE:30epoch----------------\n"
     ]
    },
    {
     "name": "stdout",
     "output_type": "stream",
     "text": [
      "\n",
      "best epoch:30/loss:2.6961/f1:0.1246\n"
     ]
    },
    {
     "name": "stderr",
     "output_type": "stream",
     "text": [
      "100%|████████████████████████████████████████████████████████████████████████████████| 214/214 [02:55<00:00,  1.22it/s]\n",
      "2022-05-12 20:14:31,895 INFO: Epoch:[031/500]\n",
      "2022-05-12 20:14:31,895 INFO: Train Loss:2.501 | Acc:0.7401 | F1:0.1287\n",
      "2022-05-12 20:14:44,745 INFO: val Loss:2.565 | Acc:0.7477 | F1:0.1276\n",
      "2022-05-12 20:14:46,385 INFO: -----------------SAVE:31epoch----------------\n"
     ]
    },
    {
     "name": "stdout",
     "output_type": "stream",
     "text": [
      "\n",
      "best epoch:31/loss:2.5647/f1:0.1276\n"
     ]
    },
    {
     "name": "stderr",
     "output_type": "stream",
     "text": [
      "100%|████████████████████████████████████████████████████████████████████████████████| 214/214 [02:55<00:00,  1.22it/s]\n",
      "2022-05-12 20:17:41,752 INFO: Epoch:[032/500]\n",
      "2022-05-12 20:17:41,753 INFO: Train Loss:2.420 | Acc:0.7474 | F1:0.1298\n",
      "2022-05-12 20:17:54,483 INFO: val Loss:2.497 | Acc:0.7792 | F1:0.1350\n",
      "2022-05-12 20:17:56,104 INFO: -----------------SAVE:32epoch----------------\n"
     ]
    },
    {
     "name": "stdout",
     "output_type": "stream",
     "text": [
      "\n",
      "best epoch:32/loss:2.4971/f1:0.1350\n"
     ]
    },
    {
     "name": "stderr",
     "output_type": "stream",
     "text": [
      "100%|████████████████████████████████████████████████████████████████████████████████| 214/214 [02:55<00:00,  1.22it/s]\n",
      "2022-05-12 20:20:51,272 INFO: Epoch:[033/500]\n",
      "2022-05-12 20:20:51,272 INFO: Train Loss:2.331 | Acc:0.7705 | F1:0.1341\n",
      "2022-05-12 20:21:04,011 INFO: val Loss:2.311 | Acc:0.7991 | F1:0.1383\n",
      "2022-05-12 20:21:05,791 INFO: -----------------SAVE:33epoch----------------\n"
     ]
    },
    {
     "name": "stdout",
     "output_type": "stream",
     "text": [
      "\n",
      "best epoch:33/loss:2.3110/f1:0.1383\n"
     ]
    },
    {
     "name": "stderr",
     "output_type": "stream",
     "text": [
      "100%|████████████████████████████████████████████████████████████████████████████████| 214/214 [02:54<00:00,  1.22it/s]\n",
      "2022-05-12 20:24:00,751 INFO: Epoch:[034/500]\n",
      "2022-05-12 20:24:00,751 INFO: Train Loss:2.248 | Acc:0.7808 | F1:0.1357\n",
      "2022-05-12 20:24:13,502 INFO: val Loss:2.215 | Acc:0.8096 | F1:0.1402\n",
      "2022-05-12 20:24:15,152 INFO: -----------------SAVE:34epoch----------------\n"
     ]
    },
    {
     "name": "stdout",
     "output_type": "stream",
     "text": [
      "\n",
      "best epoch:34/loss:2.2148/f1:0.1402\n"
     ]
    },
    {
     "name": "stderr",
     "output_type": "stream",
     "text": [
      "100%|████████████████████████████████████████████████████████████████████████████████| 214/214 [02:55<00:00,  1.22it/s]\n",
      "2022-05-12 20:27:10,504 INFO: Epoch:[035/500]\n",
      "2022-05-12 20:27:10,505 INFO: Train Loss:2.182 | Acc:0.7939 | F1:0.1380\n",
      "2022-05-12 20:27:23,244 INFO: val Loss:2.131 | Acc:0.8213 | F1:0.1427\n",
      "2022-05-12 20:27:24,927 INFO: -----------------SAVE:35epoch----------------\n"
     ]
    },
    {
     "name": "stdout",
     "output_type": "stream",
     "text": [
      "\n",
      "best epoch:35/loss:2.1313/f1:0.1427\n"
     ]
    },
    {
     "name": "stderr",
     "output_type": "stream",
     "text": [
      "100%|████████████████████████████████████████████████████████████████████████████████| 214/214 [02:55<00:00,  1.22it/s]\n",
      "2022-05-12 20:30:20,117 INFO: Epoch:[036/500]\n",
      "2022-05-12 20:30:20,117 INFO: Train Loss:2.115 | Acc:0.8024 | F1:0.1395\n",
      "2022-05-12 20:30:32,832 INFO: val Loss:1.993 | Acc:0.8189 | F1:0.1421\n",
      "2022-05-12 20:30:34,513 INFO: -----------------SAVE:36epoch----------------\n"
     ]
    },
    {
     "name": "stdout",
     "output_type": "stream",
     "text": [
      "\n",
      "best epoch:36/loss:1.9932/f1:0.1421\n"
     ]
    },
    {
     "name": "stderr",
     "output_type": "stream",
     "text": [
      "100%|████████████████████████████████████████████████████████████████████████████████| 214/214 [02:55<00:00,  1.22it/s]\n",
      "2022-05-12 20:33:29,808 INFO: Epoch:[037/500]\n",
      "2022-05-12 20:33:29,809 INFO: Train Loss:2.049 | Acc:0.8074 | F1:0.1401\n",
      "2022-05-12 20:33:42,519 INFO: val Loss:1.863 | Acc:0.8166 | F1:0.1417\n",
      "2022-05-12 20:33:44,240 INFO: -----------------SAVE:37epoch----------------\n"
     ]
    },
    {
     "name": "stdout",
     "output_type": "stream",
     "text": [
      "\n",
      "best epoch:37/loss:1.8631/f1:0.1417\n"
     ]
    },
    {
     "name": "stderr",
     "output_type": "stream",
     "text": [
      "100%|████████████████████████████████████████████████████████████████████████████████| 214/214 [02:55<00:00,  1.22it/s]\n",
      "2022-05-12 20:36:39,678 INFO: Epoch:[038/500]\n",
      "2022-05-12 20:36:39,679 INFO: Train Loss:1.986 | Acc:0.8112 | F1:0.1409\n",
      "2022-05-12 20:36:52,374 INFO: val Loss:1.868 | Acc:0.8306 | F1:0.1440\n"
     ]
    },
    {
     "name": "stdout",
     "output_type": "stream",
     "text": [
      "\n",
      "best epoch:37/loss:1.8631/f1:0.1417\n"
     ]
    },
    {
     "name": "stderr",
     "output_type": "stream",
     "text": [
      "100%|████████████████████████████████████████████████████████████████████████████████| 214/214 [02:54<00:00,  1.22it/s]\n",
      "2022-05-12 20:39:47,162 INFO: Epoch:[039/500]\n",
      "2022-05-12 20:39:47,163 INFO: Train Loss:1.932 | Acc:0.8135 | F1:0.1417\n",
      "2022-05-12 20:39:59,870 INFO: val Loss:1.745 | Acc:0.8306 | F1:0.1440\n",
      "2022-05-12 20:40:01,515 INFO: -----------------SAVE:39epoch----------------\n"
     ]
    },
    {
     "name": "stdout",
     "output_type": "stream",
     "text": [
      "\n",
      "best epoch:39/loss:1.7453/f1:0.1440\n"
     ]
    },
    {
     "name": "stderr",
     "output_type": "stream",
     "text": [
      "100%|████████████████████████████████████████████████████████████████████████████████| 214/214 [02:55<00:00,  1.22it/s]\n",
      "2022-05-12 20:42:56,650 INFO: Epoch:[040/500]\n",
      "2022-05-12 20:42:56,650 INFO: Train Loss:1.919 | Acc:0.8161 | F1:0.1425\n",
      "2022-05-12 20:43:09,375 INFO: val Loss:1.708 | Acc:0.8318 | F1:0.1442\n",
      "2022-05-12 20:43:11,004 INFO: -----------------SAVE:40epoch----------------\n"
     ]
    },
    {
     "name": "stdout",
     "output_type": "stream",
     "text": [
      "\n",
      "best epoch:40/loss:1.7079/f1:0.1442\n"
     ]
    },
    {
     "name": "stderr",
     "output_type": "stream",
     "text": [
      "100%|████████████████████████████████████████████████████████████████████████████████| 214/214 [02:55<00:00,  1.22it/s]\n",
      "2022-05-12 20:46:06,454 INFO: Epoch:[041/500]\n",
      "2022-05-12 20:46:06,454 INFO: Train Loss:1.868 | Acc:0.8170 | F1:0.1444\n",
      "2022-05-12 20:46:19,159 INFO: val Loss:1.745 | Acc:0.8341 | F1:0.1445\n"
     ]
    },
    {
     "name": "stdout",
     "output_type": "stream",
     "text": [
      "\n",
      "best epoch:40/loss:1.7079/f1:0.1442\n"
     ]
    },
    {
     "name": "stderr",
     "output_type": "stream",
     "text": [
      "100%|████████████████████████████████████████████████████████████████████████████████| 214/214 [02:54<00:00,  1.22it/s]\n",
      "2022-05-12 20:49:14,021 INFO: Epoch:[042/500]\n",
      "2022-05-12 20:49:14,021 INFO: Train Loss:1.843 | Acc:0.8202 | F1:0.1450\n",
      "2022-05-12 20:49:26,758 INFO: val Loss:1.668 | Acc:0.8341 | F1:0.1446\n",
      "2022-05-12 20:49:28,485 INFO: -----------------SAVE:42epoch----------------\n"
     ]
    },
    {
     "name": "stdout",
     "output_type": "stream",
     "text": [
      "\n",
      "best epoch:42/loss:1.6684/f1:0.1446\n"
     ]
    },
    {
     "name": "stderr",
     "output_type": "stream",
     "text": [
      "100%|████████████████████████████████████████████████████████████████████████████████| 214/214 [02:55<00:00,  1.22it/s]\n",
      "2022-05-12 20:52:23,930 INFO: Epoch:[043/500]\n",
      "2022-05-12 20:52:23,930 INFO: Train Loss:1.834 | Acc:0.8240 | F1:0.1488\n",
      "2022-05-12 20:52:36,654 INFO: val Loss:1.606 | Acc:0.8341 | F1:0.1446\n",
      "2022-05-12 20:52:38,313 INFO: -----------------SAVE:43epoch----------------\n"
     ]
    },
    {
     "name": "stdout",
     "output_type": "stream",
     "text": [
      "\n",
      "best epoch:43/loss:1.6055/f1:0.1446\n"
     ]
    },
    {
     "name": "stderr",
     "output_type": "stream",
     "text": [
      "100%|████████████████████████████████████████████████████████████████████████████████| 214/214 [02:55<00:00,  1.22it/s]\n",
      "2022-05-12 20:55:33,765 INFO: Epoch:[044/500]\n",
      "2022-05-12 20:55:33,766 INFO: Train Loss:1.833 | Acc:0.8232 | F1:0.1491\n",
      "2022-05-12 20:55:46,501 INFO: val Loss:1.601 | Acc:0.8341 | F1:0.1446\n",
      "2022-05-12 20:55:48,225 INFO: -----------------SAVE:44epoch----------------\n"
     ]
    },
    {
     "name": "stdout",
     "output_type": "stream",
     "text": [
      "\n",
      "best epoch:44/loss:1.6009/f1:0.1446\n"
     ]
    },
    {
     "name": "stderr",
     "output_type": "stream",
     "text": [
      "100%|████████████████████████████████████████████████████████████████████████████████| 214/214 [02:55<00:00,  1.22it/s]\n",
      "2022-05-12 20:58:43,569 INFO: Epoch:[045/500]\n",
      "2022-05-12 20:58:43,570 INFO: Train Loss:1.846 | Acc:0.8258 | F1:0.1498\n",
      "2022-05-12 20:58:56,314 INFO: val Loss:1.589 | Acc:0.8353 | F1:0.1464\n",
      "2022-05-12 20:58:57,973 INFO: -----------------SAVE:45epoch----------------\n"
     ]
    },
    {
     "name": "stdout",
     "output_type": "stream",
     "text": [
      "\n",
      "best epoch:45/loss:1.5888/f1:0.1464\n"
     ]
    },
    {
     "name": "stderr",
     "output_type": "stream",
     "text": [
      "100%|████████████████████████████████████████████████████████████████████████████████| 214/214 [02:55<00:00,  1.22it/s]\n",
      "2022-05-12 21:01:53,122 INFO: Epoch:[046/500]\n",
      "2022-05-12 21:01:53,122 INFO: Train Loss:1.842 | Acc:0.8226 | F1:0.1488\n",
      "2022-05-12 21:02:05,884 INFO: val Loss:1.583 | Acc:0.8353 | F1:0.1464\n",
      "2022-05-12 21:02:07,560 INFO: -----------------SAVE:46epoch----------------\n"
     ]
    },
    {
     "name": "stdout",
     "output_type": "stream",
     "text": [
      "\n",
      "best epoch:46/loss:1.5830/f1:0.1464\n"
     ]
    },
    {
     "name": "stderr",
     "output_type": "stream",
     "text": [
      "100%|████████████████████████████████████████████████████████████████████████████████| 214/214 [02:55<00:00,  1.22it/s]\n",
      "2022-05-12 21:05:02,815 INFO: Epoch:[047/500]\n",
      "2022-05-12 21:05:02,816 INFO: Train Loss:1.893 | Acc:0.8240 | F1:0.1499\n",
      "2022-05-12 21:05:15,533 INFO: val Loss:1.584 | Acc:0.8341 | F1:0.1447\n"
     ]
    },
    {
     "name": "stdout",
     "output_type": "stream",
     "text": [
      "\n",
      "best epoch:46/loss:1.5830/f1:0.1464\n"
     ]
    },
    {
     "name": "stderr",
     "output_type": "stream",
     "text": [
      "100%|████████████████████████████████████████████████████████████████████████████████| 214/214 [02:55<00:00,  1.22it/s]\n",
      "2022-05-12 21:08:10,591 INFO: Epoch:[048/500]\n",
      "2022-05-12 21:08:10,591 INFO: Train Loss:1.924 | Acc:0.8258 | F1:0.1514\n",
      "2022-05-12 21:08:23,315 INFO: val Loss:1.579 | Acc:0.8423 | F1:0.1529\n",
      "2022-05-12 21:08:25,037 INFO: -----------------SAVE:48epoch----------------\n"
     ]
    },
    {
     "name": "stdout",
     "output_type": "stream",
     "text": [
      "\n",
      "best epoch:48/loss:1.5787/f1:0.1529\n"
     ]
    },
    {
     "name": "stderr",
     "output_type": "stream",
     "text": [
      "100%|████████████████████████████████████████████████████████████████████████████████| 214/214 [02:55<00:00,  1.22it/s]\n",
      "2022-05-12 21:11:20,055 INFO: Epoch:[049/500]\n",
      "2022-05-12 21:11:20,055 INFO: Train Loss:1.989 | Acc:0.8188 | F1:0.1490\n",
      "2022-05-12 21:11:32,757 INFO: val Loss:1.620 | Acc:0.8388 | F1:0.1501\n"
     ]
    },
    {
     "name": "stdout",
     "output_type": "stream",
     "text": [
      "\n",
      "best epoch:48/loss:1.5787/f1:0.1529\n"
     ]
    },
    {
     "name": "stderr",
     "output_type": "stream",
     "text": [
      "100%|████████████████████████████████████████████████████████████████████████████████| 214/214 [02:55<00:00,  1.22it/s]\n",
      "2022-05-12 21:14:28,066 INFO: Epoch:[050/500]\n",
      "2022-05-12 21:14:28,066 INFO: Train Loss:2.049 | Acc:0.8179 | F1:0.1490\n",
      "2022-05-12 21:14:40,895 INFO: val Loss:1.652 | Acc:0.8435 | F1:0.1542\n"
     ]
    },
    {
     "name": "stdout",
     "output_type": "stream",
     "text": [
      "\n",
      "best epoch:48/loss:1.5787/f1:0.1529\n"
     ]
    },
    {
     "name": "stderr",
     "output_type": "stream",
     "text": [
      "100%|████████████████████████████████████████████████████████████████████████████████| 214/214 [03:04<00:00,  1.16it/s]\n",
      "2022-05-12 21:17:45,075 INFO: Epoch:[051/500]\n",
      "2022-05-12 21:17:45,075 INFO: Train Loss:2.081 | Acc:0.8246 | F1:0.1503\n",
      "2022-05-12 21:17:58,202 INFO: val Loss:1.696 | Acc:0.8458 | F1:0.1551\n"
     ]
    },
    {
     "name": "stdout",
     "output_type": "stream",
     "text": [
      "\n",
      "best epoch:48/loss:1.5787/f1:0.1529\n"
     ]
    },
    {
     "name": "stderr",
     "output_type": "stream",
     "text": [
      "100%|████████████████████████████████████████████████████████████████████████████████| 214/214 [02:58<00:00,  1.20it/s]\n",
      "2022-05-12 21:20:56,811 INFO: Epoch:[052/500]\n",
      "2022-05-12 21:20:56,811 INFO: Train Loss:2.168 | Acc:0.8161 | F1:0.1480\n",
      "2022-05-12 21:21:09,749 INFO: val Loss:1.870 | Acc:0.8283 | F1:0.1436\n"
     ]
    },
    {
     "name": "stdout",
     "output_type": "stream",
     "text": [
      "\n",
      "best epoch:48/loss:1.5787/f1:0.1529\n"
     ]
    },
    {
     "name": "stderr",
     "output_type": "stream",
     "text": [
      "100%|████████████████████████████████████████████████████████████████████████████████| 214/214 [02:57<00:00,  1.21it/s]\n",
      "2022-05-12 21:24:07,334 INFO: Epoch:[053/500]\n",
      "2022-05-12 21:24:07,335 INFO: Train Loss:2.332 | Acc:0.8085 | F1:0.1461\n",
      "2022-05-12 21:24:20,243 INFO: val Loss:2.131 | Acc:0.7944 | F1:0.1367\n"
     ]
    },
    {
     "name": "stdout",
     "output_type": "stream",
     "text": [
      "\n",
      "best epoch:48/loss:1.5787/f1:0.1529\n"
     ]
    },
    {
     "name": "stderr",
     "output_type": "stream",
     "text": [
      "100%|████████████████████████████████████████████████████████████████████████████████| 214/214 [02:57<00:00,  1.20it/s]\n",
      "2022-05-12 21:27:17,844 INFO: Epoch:[054/500]\n",
      "2022-05-12 21:27:17,845 INFO: Train Loss:2.501 | Acc:0.8012 | F1:0.1461\n",
      "2022-05-12 21:27:30,776 INFO: val Loss:2.025 | Acc:0.8154 | F1:0.1426\n"
     ]
    },
    {
     "name": "stdout",
     "output_type": "stream",
     "text": [
      "\n",
      "best epoch:48/loss:1.5787/f1:0.1529\n"
     ]
    },
    {
     "name": "stderr",
     "output_type": "stream",
     "text": [
      "100%|████████████████████████████████████████████████████████████████████████████████| 214/214 [02:57<00:00,  1.21it/s]\n",
      "2022-05-12 21:30:28,302 INFO: Epoch:[055/500]\n",
      "2022-05-12 21:30:28,303 INFO: Train Loss:2.818 | Acc:0.7881 | F1:0.1434\n",
      "2022-05-12 21:30:41,207 INFO: val Loss:2.372 | Acc:0.8224 | F1:0.1479\n"
     ]
    },
    {
     "name": "stdout",
     "output_type": "stream",
     "text": [
      "\n",
      "best epoch:48/loss:1.5787/f1:0.1529\n"
     ]
    },
    {
     "name": "stderr",
     "output_type": "stream",
     "text": [
      "100%|████████████████████████████████████████████████████████████████████████████████| 214/214 [02:57<00:00,  1.21it/s]\n",
      "2022-05-12 21:33:38,676 INFO: Epoch:[056/500]\n",
      "2022-05-12 21:33:38,676 INFO: Train Loss:3.079 | Acc:0.7594 | F1:0.1384\n",
      "2022-05-12 21:33:51,581 INFO: val Loss:2.714 | Acc:0.8271 | F1:0.1449\n"
     ]
    },
    {
     "name": "stdout",
     "output_type": "stream",
     "text": [
      "\n",
      "best epoch:48/loss:1.5787/f1:0.1529\n"
     ]
    },
    {
     "name": "stderr",
     "output_type": "stream",
     "text": [
      "100%|████████████████████████████████████████████████████████████████████████████████| 214/214 [02:57<00:00,  1.21it/s]\n",
      "2022-05-12 21:36:49,026 INFO: Epoch:[057/500]\n",
      "2022-05-12 21:36:49,026 INFO: Train Loss:3.112 | Acc:0.7448 | F1:0.1358\n",
      "2022-05-12 21:37:01,927 INFO: val Loss:2.724 | Acc:0.8294 | F1:0.1439\n"
     ]
    },
    {
     "name": "stdout",
     "output_type": "stream",
     "text": [
      "\n",
      "best epoch:48/loss:1.5787/f1:0.1529\n"
     ]
    },
    {
     "name": "stderr",
     "output_type": "stream",
     "text": [
      "100%|████████████████████████████████████████████████████████████████████████████████| 214/214 [02:57<00:00,  1.21it/s]\n",
      "2022-05-12 21:39:59,386 INFO: Epoch:[058/500]\n",
      "2022-05-12 21:39:59,387 INFO: Train Loss:3.186 | Acc:0.7445 | F1:0.1371\n",
      "2022-05-12 21:40:12,313 INFO: val Loss:2.518 | Acc:0.8189 | F1:0.1446\n"
     ]
    },
    {
     "name": "stdout",
     "output_type": "stream",
     "text": [
      "\n",
      "best epoch:48/loss:1.5787/f1:0.1529\n"
     ]
    },
    {
     "name": "stderr",
     "output_type": "stream",
     "text": [
      "100%|████████████████████████████████████████████████████████████████████████████████| 214/214 [02:58<00:00,  1.20it/s]\n",
      "2022-05-12 21:43:10,356 INFO: Epoch:[059/500]\n",
      "2022-05-12 21:43:10,357 INFO: Train Loss:3.228 | Acc:0.7305 | F1:0.1336\n",
      "2022-05-12 21:43:23,288 INFO: val Loss:2.710 | Acc:0.8248 | F1:0.1544\n"
     ]
    },
    {
     "name": "stdout",
     "output_type": "stream",
     "text": [
      "\n",
      "best epoch:48/loss:1.5787/f1:0.1529\n"
     ]
    },
    {
     "name": "stderr",
     "output_type": "stream",
     "text": [
      "100%|████████████████████████████████████████████████████████████████████████████████| 214/214 [02:57<00:00,  1.21it/s]\n",
      "2022-05-12 21:46:20,533 INFO: Epoch:[060/500]\n",
      "2022-05-12 21:46:20,533 INFO: Train Loss:3.289 | Acc:0.7100 | F1:0.1326\n",
      "2022-05-12 21:46:33,418 INFO: val Loss:2.846 | Acc:0.8271 | F1:0.1510\n"
     ]
    },
    {
     "name": "stdout",
     "output_type": "stream",
     "text": [
      "\n",
      "best epoch:48/loss:1.5787/f1:0.1529\n"
     ]
    },
    {
     "name": "stderr",
     "output_type": "stream",
     "text": [
      "100%|████████████████████████████████████████████████████████████████████████████████| 214/214 [02:58<00:00,  1.20it/s]\n",
      "2022-05-12 21:49:32,396 INFO: Epoch:[061/500]\n",
      "2022-05-12 21:49:32,396 INFO: Train Loss:3.347 | Acc:0.6951 | F1:0.1331\n",
      "2022-05-12 21:49:45,127 INFO: val Loss:2.769 | Acc:0.8131 | F1:0.1557\n"
     ]
    },
    {
     "name": "stdout",
     "output_type": "stream",
     "text": [
      "\n",
      "best epoch:48/loss:1.5787/f1:0.1529\n"
     ]
    },
    {
     "name": "stderr",
     "output_type": "stream",
     "text": [
      "100%|████████████████████████████████████████████████████████████████████████████████| 214/214 [02:56<00:00,  1.22it/s]\n",
      "2022-05-12 21:52:41,180 INFO: Epoch:[062/500]\n",
      "2022-05-12 21:52:41,181 INFO: Train Loss:3.367 | Acc:0.6823 | F1:0.1272\n",
      "2022-05-12 21:52:54,102 INFO: val Loss:2.629 | Acc:0.8248 | F1:0.1619\n"
     ]
    },
    {
     "name": "stdout",
     "output_type": "stream",
     "text": [
      "\n",
      "best epoch:48/loss:1.5787/f1:0.1529\n"
     ]
    },
    {
     "name": "stderr",
     "output_type": "stream",
     "text": [
      "100%|████████████████████████████████████████████████████████████████████████████████| 214/214 [02:57<00:00,  1.21it/s]\n",
      "2022-05-12 21:55:51,472 INFO: Epoch:[063/500]\n",
      "2022-05-12 21:55:51,472 INFO: Train Loss:3.450 | Acc:0.6659 | F1:0.1256\n",
      "2022-05-12 21:56:04,402 INFO: val Loss:2.745 | Acc:0.8084 | F1:0.1478\n"
     ]
    },
    {
     "name": "stdout",
     "output_type": "stream",
     "text": [
      "\n",
      "best epoch:48/loss:1.5787/f1:0.1529\n"
     ]
    },
    {
     "name": "stderr",
     "output_type": "stream",
     "text": [
      "100%|████████████████████████████████████████████████████████████████████████████████| 214/214 [02:58<00:00,  1.20it/s]\n",
      "2022-05-12 21:59:02,827 INFO: Epoch:[064/500]\n",
      "2022-05-12 21:59:02,828 INFO: Train Loss:3.425 | Acc:0.6501 | F1:0.1234\n",
      "2022-05-12 21:59:15,727 INFO: val Loss:2.946 | Acc:0.7967 | F1:0.1412\n"
     ]
    },
    {
     "name": "stdout",
     "output_type": "stream",
     "text": [
      "\n",
      "best epoch:48/loss:1.5787/f1:0.1529\n"
     ]
    },
    {
     "name": "stderr",
     "output_type": "stream",
     "text": [
      "100%|████████████████████████████████████████████████████████████████████████████████| 214/214 [02:58<00:00,  1.20it/s]\n",
      "2022-05-12 22:02:14,194 INFO: Epoch:[065/500]\n",
      "2022-05-12 22:02:14,195 INFO: Train Loss:3.471 | Acc:0.6381 | F1:0.1204\n",
      "2022-05-12 22:02:27,144 INFO: val Loss:3.256 | Acc:0.8143 | F1:0.1496\n"
     ]
    },
    {
     "name": "stdout",
     "output_type": "stream",
     "text": [
      "\n",
      "best epoch:48/loss:1.5787/f1:0.1529\n"
     ]
    },
    {
     "name": "stderr",
     "output_type": "stream",
     "text": [
      "100%|████████████████████████████████████████████████████████████████████████████████| 214/214 [02:57<00:00,  1.21it/s]\n",
      "2022-05-12 22:05:24,643 INFO: Epoch:[066/500]\n",
      "2022-05-12 22:05:24,643 INFO: Train Loss:3.530 | Acc:0.6098 | F1:0.1169\n",
      "2022-05-12 22:05:37,617 INFO: val Loss:3.479 | Acc:0.7757 | F1:0.1384\n"
     ]
    },
    {
     "name": "stdout",
     "output_type": "stream",
     "text": [
      "\n",
      "best epoch:48/loss:1.5787/f1:0.1529\n"
     ]
    },
    {
     "name": "stderr",
     "output_type": "stream",
     "text": [
      "100%|████████████████████████████████████████████████████████████████████████████████| 214/214 [02:57<00:00,  1.21it/s]\n",
      "2022-05-12 22:08:34,859 INFO: Epoch:[067/500]\n",
      "2022-05-12 22:08:34,860 INFO: Train Loss:3.503 | Acc:0.5995 | F1:0.1132\n",
      "2022-05-12 22:08:47,753 INFO: val Loss:3.434 | Acc:0.7710 | F1:0.1387\n"
     ]
    },
    {
     "name": "stdout",
     "output_type": "stream",
     "text": [
      "\n",
      "best epoch:48/loss:1.5787/f1:0.1529\n"
     ]
    },
    {
     "name": "stderr",
     "output_type": "stream",
     "text": [
      "100%|████████████████████████████████████████████████████████████████████████████████| 214/214 [02:57<00:00,  1.21it/s]\n",
      "2022-05-12 22:11:45,179 INFO: Epoch:[068/500]\n",
      "2022-05-12 22:11:45,180 INFO: Train Loss:3.523 | Acc:0.5870 | F1:0.1104\n",
      "2022-05-12 22:11:58,080 INFO: val Loss:3.275 | Acc:0.7617 | F1:0.1382\n"
     ]
    },
    {
     "name": "stdout",
     "output_type": "stream",
     "text": [
      "\n",
      "best epoch:48/loss:1.5787/f1:0.1529\n"
     ]
    },
    {
     "name": "stderr",
     "output_type": "stream",
     "text": [
      "100%|████████████████████████████████████████████████████████████████████████████████| 214/214 [02:56<00:00,  1.21it/s]\n",
      "2022-05-12 22:14:54,684 INFO: Epoch:[069/500]\n",
      "2022-05-12 22:14:54,685 INFO: Train Loss:3.572 | Acc:0.5624 | F1:0.1052\n",
      "2022-05-12 22:15:07,419 INFO: val Loss:4.268 | Acc:0.7301 | F1:0.1253\n"
     ]
    },
    {
     "name": "stdout",
     "output_type": "stream",
     "text": [
      "\n",
      "best epoch:48/loss:1.5787/f1:0.1529\n"
     ]
    },
    {
     "name": "stderr",
     "output_type": "stream",
     "text": [
      "100%|████████████████████████████████████████████████████████████████████████████████| 214/214 [02:58<00:00,  1.20it/s]\n",
      "2022-05-12 22:18:05,652 INFO: Epoch:[070/500]\n",
      "2022-05-12 22:18:05,653 INFO: Train Loss:3.668 | Acc:0.5399 | F1:0.1003\n",
      "2022-05-12 22:18:18,766 INFO: val Loss:4.242 | Acc:0.7033 | F1:0.1222\n"
     ]
    },
    {
     "name": "stdout",
     "output_type": "stream",
     "text": [
      "\n",
      "best epoch:48/loss:1.5787/f1:0.1529\n"
     ]
    },
    {
     "name": "stderr",
     "output_type": "stream",
     "text": [
      "100%|████████████████████████████████████████████████████████████████████████████████| 214/214 [02:57<00:00,  1.21it/s]\n",
      "2022-05-12 22:21:16,196 INFO: Epoch:[071/500]\n",
      "2022-05-12 22:21:16,197 INFO: Train Loss:3.787 | Acc:0.4955 | F1:0.0919\n",
      "2022-05-12 22:21:29,097 INFO: val Loss:4.968 | Acc:0.6647 | F1:0.1155\n"
     ]
    },
    {
     "name": "stdout",
     "output_type": "stream",
     "text": [
      "\n",
      "best epoch:48/loss:1.5787/f1:0.1529\n"
     ]
    },
    {
     "name": "stderr",
     "output_type": "stream",
     "text": [
      "100%|████████████████████████████████████████████████████████████████████████████████| 214/214 [02:55<00:00,  1.22it/s]\n",
      "2022-05-12 22:24:24,786 INFO: Epoch:[072/500]\n",
      "2022-05-12 22:24:24,787 INFO: Train Loss:3.812 | Acc:0.4581 | F1:0.0853\n",
      "2022-05-12 22:24:37,520 INFO: val Loss:4.288 | Acc:0.5935 | F1:0.0986\n"
     ]
    },
    {
     "name": "stdout",
     "output_type": "stream",
     "text": [
      "\n",
      "best epoch:48/loss:1.5787/f1:0.1529\n"
     ]
    },
    {
     "name": "stderr",
     "output_type": "stream",
     "text": [
      "100%|████████████████████████████████████████████████████████████████████████████████| 214/214 [02:54<00:00,  1.22it/s]\n",
      "2022-05-12 22:27:32,345 INFO: Epoch:[073/500]\n",
      "2022-05-12 22:27:32,345 INFO: Train Loss:3.859 | Acc:0.4247 | F1:0.0801\n",
      "2022-05-12 22:27:45,091 INFO: val Loss:3.930 | Acc:0.5070 | F1:0.0851\n"
     ]
    },
    {
     "name": "stdout",
     "output_type": "stream",
     "text": [
      "\n",
      "best epoch:48/loss:1.5787/f1:0.1529\n"
     ]
    },
    {
     "name": "stderr",
     "output_type": "stream",
     "text": [
      "100%|████████████████████████████████████████████████████████████████████████████████| 214/214 [03:00<00:00,  1.19it/s]\n",
      "2022-05-12 22:30:45,337 INFO: Epoch:[074/500]\n",
      "2022-05-12 22:30:45,337 INFO: Train Loss:3.891 | Acc:0.3987 | F1:0.0730\n",
      "2022-05-12 22:30:58,266 INFO: val Loss:3.953 | Acc:0.5035 | F1:0.0862\n"
     ]
    },
    {
     "name": "stdout",
     "output_type": "stream",
     "text": [
      "\n",
      "best epoch:48/loss:1.5787/f1:0.1529\n"
     ]
    },
    {
     "name": "stderr",
     "output_type": "stream",
     "text": [
      "100%|████████████████████████████████████████████████████████████████████████████████| 214/214 [02:57<00:00,  1.20it/s]\n",
      "2022-05-12 22:33:56,054 INFO: Epoch:[075/500]\n",
      "2022-05-12 22:33:56,055 INFO: Train Loss:3.952 | Acc:0.3499 | F1:0.0620\n",
      "2022-05-12 22:34:08,825 INFO: val Loss:4.074 | Acc:0.3750 | F1:0.0579\n"
     ]
    },
    {
     "name": "stdout",
     "output_type": "stream",
     "text": [
      "\n",
      "best epoch:48/loss:1.5787/f1:0.1529\n"
     ]
    },
    {
     "name": "stderr",
     "output_type": "stream",
     "text": [
      "100%|████████████████████████████████████████████████████████████████████████████████| 214/214 [02:57<00:00,  1.20it/s]\n",
      "2022-05-12 22:37:06,754 INFO: Epoch:[076/500]\n",
      "2022-05-12 22:37:06,755 INFO: Train Loss:4.004 | Acc:0.3002 | F1:0.0513\n",
      "2022-05-12 22:37:19,656 INFO: val Loss:4.179 | Acc:0.2395 | F1:0.0347\n"
     ]
    },
    {
     "name": "stdout",
     "output_type": "stream",
     "text": [
      "\n",
      "best epoch:48/loss:1.5787/f1:0.1529\n"
     ]
    },
    {
     "name": "stderr",
     "output_type": "stream",
     "text": [
      "100%|████████████████████████████████████████████████████████████████████████████████| 214/214 [02:57<00:00,  1.21it/s]\n",
      "2022-05-12 22:40:17,025 INFO: Epoch:[077/500]\n",
      "2022-05-12 22:40:17,025 INFO: Train Loss:4.064 | Acc:0.2426 | F1:0.0375\n",
      "2022-05-12 22:40:29,953 INFO: val Loss:4.190 | Acc:0.1659 | F1:0.0186\n"
     ]
    },
    {
     "name": "stdout",
     "output_type": "stream",
     "text": [
      "\n",
      "best epoch:48/loss:1.5787/f1:0.1529\n"
     ]
    },
    {
     "name": "stderr",
     "output_type": "stream",
     "text": [
      "100%|████████████████████████████████████████████████████████████████████████████████| 214/214 [02:57<00:00,  1.21it/s]\n",
      "2022-05-12 22:43:27,216 INFO: Epoch:[078/500]\n",
      "2022-05-12 22:43:27,216 INFO: Train Loss:4.118 | Acc:0.2061 | F1:0.0292\n",
      "2022-05-12 22:43:40,146 INFO: val Loss:4.203 | Acc:0.1612 | F1:0.0171\n"
     ]
    },
    {
     "name": "stdout",
     "output_type": "stream",
     "text": [
      "\n",
      "best epoch:48/loss:1.5787/f1:0.1529\n"
     ]
    },
    {
     "name": "stderr",
     "output_type": "stream",
     "text": [
      "100%|████████████████████████████████████████████████████████████████████████████████| 214/214 [03:10<00:00,  1.12it/s]\n",
      "2022-05-12 22:46:50,997 INFO: Epoch:[079/500]\n",
      "2022-05-12 22:46:50,997 INFO: Train Loss:4.132 | Acc:0.1874 | F1:0.0231\n",
      "2022-05-12 22:47:07,572 INFO: val Loss:4.257 | Acc:0.1484 | F1:0.0151\n"
     ]
    },
    {
     "name": "stdout",
     "output_type": "stream",
     "text": [
      "\n",
      "best epoch:48/loss:1.5787/f1:0.1529\n"
     ]
    },
    {
     "name": "stderr",
     "output_type": "stream",
     "text": [
      "100%|████████████████████████████████████████████████████████████████████████████████| 214/214 [03:44<00:00,  1.05s/it]\n",
      "2022-05-12 22:50:52,465 INFO: Epoch:[080/500]\n",
      "2022-05-12 22:50:52,466 INFO: Train Loss:4.073 | Acc:0.1681 | F1:0.0215\n",
      "2022-05-12 22:51:09,143 INFO: val Loss:4.239 | Acc:0.0981 | F1:0.0043\n"
     ]
    },
    {
     "name": "stdout",
     "output_type": "stream",
     "text": [
      "\n",
      "best epoch:48/loss:1.5787/f1:0.1529\n"
     ]
    },
    {
     "name": "stderr",
     "output_type": "stream",
     "text": [
      "100%|████████████████████████████████████████████████████████████████████████████████| 214/214 [03:43<00:00,  1.05s/it]\n",
      "2022-05-12 22:54:52,838 INFO: Epoch:[081/500]\n",
      "2022-05-12 22:54:52,838 INFO: Train Loss:3.986 | Acc:0.1616 | F1:0.0165\n",
      "2022-05-12 22:55:09,985 INFO: val Loss:4.126 | Acc:0.1636 | F1:0.0122\n"
     ]
    },
    {
     "name": "stdout",
     "output_type": "stream",
     "text": [
      "\n",
      "best epoch:48/loss:1.5787/f1:0.1529\n"
     ]
    },
    {
     "name": "stderr",
     "output_type": "stream",
     "text": [
      "100%|████████████████████████████████████████████████████████████████████████████████| 214/214 [03:43<00:00,  1.04s/it]\n",
      "2022-05-12 22:58:53,229 INFO: Epoch:[082/500]\n",
      "2022-05-12 22:58:53,230 INFO: Train Loss:3.844 | Acc:0.1833 | F1:0.0212\n",
      "2022-05-12 22:59:09,204 INFO: val Loss:4.195 | Acc:0.1402 | F1:0.0085\n"
     ]
    },
    {
     "name": "stdout",
     "output_type": "stream",
     "text": [
      "\n",
      "best epoch:48/loss:1.5787/f1:0.1529\n"
     ]
    },
    {
     "name": "stderr",
     "output_type": "stream",
     "text": [
      "100%|████████████████████████████████████████████████████████████████████████████████| 214/214 [03:41<00:00,  1.03s/it]\n",
      "2022-05-12 23:02:50,332 INFO: Epoch:[083/500]\n",
      "2022-05-12 23:02:50,332 INFO: Train Loss:3.775 | Acc:0.1745 | F1:0.0183\n",
      "2022-05-12 23:03:06,541 INFO: val Loss:3.893 | Acc:0.1145 | F1:0.0074\n"
     ]
    },
    {
     "name": "stdout",
     "output_type": "stream",
     "text": [
      "\n",
      "best epoch:48/loss:1.5787/f1:0.1529\n"
     ]
    },
    {
     "name": "stderr",
     "output_type": "stream",
     "text": [
      "100%|████████████████████████████████████████████████████████████████████████████████| 214/214 [03:12<00:00,  1.11it/s]\n",
      "2022-05-12 23:06:19,136 INFO: Epoch:[084/500]\n",
      "2022-05-12 23:06:19,136 INFO: Train Loss:3.706 | Acc:0.1722 | F1:0.0174\n",
      "2022-05-12 23:06:32,008 INFO: val Loss:3.886 | Acc:0.1121 | F1:0.0086\n"
     ]
    },
    {
     "name": "stdout",
     "output_type": "stream",
     "text": [
      "\n",
      "best epoch:48/loss:1.5787/f1:0.1529\n"
     ]
    },
    {
     "name": "stderr",
     "output_type": "stream",
     "text": [
      "100%|████████████████████████████████████████████████████████████████████████████████| 214/214 [02:56<00:00,  1.21it/s]\n",
      "2022-05-12 23:09:28,589 INFO: Epoch:[085/500]\n",
      "2022-05-12 23:09:28,590 INFO: Train Loss:3.726 | Acc:0.1394 | F1:0.0143\n",
      "2022-05-12 23:09:41,440 INFO: val Loss:6.381 | Acc:0.1507 | F1:0.0102\n"
     ]
    },
    {
     "name": "stdout",
     "output_type": "stream",
     "text": [
      "\n",
      "best epoch:48/loss:1.5787/f1:0.1529\n"
     ]
    },
    {
     "name": "stderr",
     "output_type": "stream",
     "text": [
      "100%|████████████████████████████████████████████████████████████████████████████████| 214/214 [02:55<00:00,  1.22it/s]\n",
      "2022-05-12 23:12:36,669 INFO: Epoch:[086/500]\n",
      "2022-05-12 23:12:36,670 INFO: Train Loss:3.804 | Acc:0.0856 | F1:0.0077\n",
      "2022-05-12 23:12:49,427 INFO: val Loss:4.146 | Acc:0.0958 | F1:0.0037\n"
     ]
    },
    {
     "name": "stdout",
     "output_type": "stream",
     "text": [
      "\n",
      "best epoch:48/loss:1.5787/f1:0.1529\n"
     ]
    },
    {
     "name": "stderr",
     "output_type": "stream",
     "text": [
      "100%|████████████████████████████████████████████████████████████████████████████████| 214/214 [02:54<00:00,  1.23it/s]\n",
      "2022-05-12 23:15:44,086 INFO: Epoch:[087/500]\n",
      "2022-05-12 23:15:44,086 INFO: Train Loss:3.730 | Acc:0.1087 | F1:0.0110\n",
      "2022-05-12 23:15:56,836 INFO: val Loss:4.139 | Acc:0.0748 | F1:0.0018\n"
     ]
    },
    {
     "name": "stdout",
     "output_type": "stream",
     "text": [
      "\n",
      "best epoch:48/loss:1.5787/f1:0.1529\n"
     ]
    },
    {
     "name": "stderr",
     "output_type": "stream",
     "text": [
      "100%|████████████████████████████████████████████████████████████████████████████████| 214/214 [02:55<00:00,  1.22it/s]\n",
      "2022-05-12 23:18:51,859 INFO: Epoch:[088/500]\n",
      "2022-05-12 23:18:51,859 INFO: Train Loss:3.710 | Acc:0.1099 | F1:0.0108\n",
      "2022-05-12 23:19:04,646 INFO: val Loss:28.343 | Acc:0.0561 | F1:0.0012\n"
     ]
    },
    {
     "name": "stdout",
     "output_type": "stream",
     "text": [
      "\n",
      "best epoch:48/loss:1.5787/f1:0.1529\n"
     ]
    },
    {
     "name": "stderr",
     "output_type": "stream",
     "text": [
      "100%|████████████████████████████████████████████████████████████████████████████████| 214/214 [02:55<00:00,  1.22it/s]\n",
      "2022-05-12 23:22:00,048 INFO: Epoch:[089/500]\n",
      "2022-05-12 23:22:00,048 INFO: Train Loss:3.547 | Acc:0.1190 | F1:0.0112\n",
      "2022-05-12 23:22:12,815 INFO: val Loss:3.696 | Acc:0.0210 | F1:0.0005\n"
     ]
    },
    {
     "name": "stdout",
     "output_type": "stream",
     "text": [
      "\n",
      "best epoch:48/loss:1.5787/f1:0.1529\n"
     ]
    },
    {
     "name": "stderr",
     "output_type": "stream",
     "text": [
      "100%|████████████████████████████████████████████████████████████████████████████████| 214/214 [02:54<00:00,  1.22it/s]\n",
      "2022-05-12 23:25:07,803 INFO: Epoch:[090/500]\n",
      "2022-05-12 23:25:07,803 INFO: Train Loss:3.477 | Acc:0.1008 | F1:0.0093\n",
      "2022-05-12 23:25:20,531 INFO: val Loss:3.512 | Acc:0.0654 | F1:0.0015\n"
     ]
    },
    {
     "name": "stdout",
     "output_type": "stream",
     "text": [
      "\n",
      "best epoch:48/loss:1.5787/f1:0.1529\n"
     ]
    },
    {
     "name": "stderr",
     "output_type": "stream",
     "text": [
      "100%|████████████████████████████████████████████████████████████████████████████████| 214/214 [02:54<00:00,  1.23it/s]\n",
      "2022-05-12 23:28:15,045 INFO: Epoch:[091/500]\n",
      "2022-05-12 23:28:15,045 INFO: Train Loss:3.406 | Acc:0.1146 | F1:0.0084\n",
      "2022-05-12 23:28:27,784 INFO: val Loss:3.607 | Acc:0.0678 | F1:0.0018\n"
     ]
    },
    {
     "name": "stdout",
     "output_type": "stream",
     "text": [
      "\n",
      "best epoch:48/loss:1.5787/f1:0.1529\n"
     ]
    },
    {
     "name": "stderr",
     "output_type": "stream",
     "text": [
      "100%|████████████████████████████████████████████████████████████████████████████████| 214/214 [02:54<00:00,  1.23it/s]\n",
      "2022-05-12 23:31:22,329 INFO: Epoch:[092/500]\n",
      "2022-05-12 23:31:22,329 INFO: Train Loss:3.338 | Acc:0.1225 | F1:0.0063\n",
      "2022-05-12 23:31:35,074 INFO: val Loss:3.437 | Acc:0.0654 | F1:0.0014\n"
     ]
    },
    {
     "name": "stdout",
     "output_type": "stream",
     "text": [
      "\n",
      "best epoch:48/loss:1.5787/f1:0.1529\n"
     ]
    },
    {
     "name": "stderr",
     "output_type": "stream",
     "text": [
      "100%|████████████████████████████████████████████████████████████████████████████████| 214/214 [02:54<00:00,  1.22it/s]\n",
      "2022-05-12 23:34:29,818 INFO: Epoch:[093/500]\n",
      "2022-05-12 23:34:29,818 INFO: Train Loss:3.385 | Acc:0.1225 | F1:0.0075\n",
      "2022-05-12 23:34:42,579 INFO: val Loss:3.386 | Acc:0.0911 | F1:0.0019\n"
     ]
    },
    {
     "name": "stdout",
     "output_type": "stream",
     "text": [
      "\n",
      "best epoch:48/loss:1.5787/f1:0.1529\n"
     ]
    },
    {
     "name": "stderr",
     "output_type": "stream",
     "text": [
      "100%|████████████████████████████████████████████████████████████████████████████████| 214/214 [02:54<00:00,  1.22it/s]\n",
      "2022-05-12 23:37:37,415 INFO: Epoch:[094/500]\n",
      "2022-05-12 23:37:37,415 INFO: Train Loss:3.470 | Acc:0.0982 | F1:0.0037\n",
      "2022-05-12 23:37:50,143 INFO: val Loss:3.587 | Acc:0.0911 | F1:0.0019\n"
     ]
    },
    {
     "name": "stdout",
     "output_type": "stream",
     "text": [
      "\n",
      "best epoch:48/loss:1.5787/f1:0.1529\n"
     ]
    },
    {
     "name": "stderr",
     "output_type": "stream",
     "text": [
      "100%|████████████████████████████████████████████████████████████████████████████████| 214/214 [02:54<00:00,  1.23it/s]\n",
      "2022-05-12 23:40:44,804 INFO: Epoch:[095/500]\n",
      "2022-05-12 23:40:44,804 INFO: Train Loss:3.483 | Acc:0.0912 | F1:0.0022\n",
      "2022-05-12 23:40:57,580 INFO: val Loss:3.636 | Acc:0.0911 | F1:0.0019\n"
     ]
    },
    {
     "name": "stdout",
     "output_type": "stream",
     "text": [
      "\n",
      "best epoch:48/loss:1.5787/f1:0.1529\n"
     ]
    },
    {
     "name": "stderr",
     "output_type": "stream",
     "text": [
      "100%|████████████████████████████████████████████████████████████████████████████████| 214/214 [02:54<00:00,  1.23it/s]\n",
      "2022-05-12 23:43:52,257 INFO: Epoch:[096/500]\n",
      "2022-05-12 23:43:52,258 INFO: Train Loss:3.474 | Acc:0.0915 | F1:0.0019\n",
      "2022-05-12 23:44:04,986 INFO: val Loss:3.661 | Acc:0.0911 | F1:0.0019\n"
     ]
    },
    {
     "name": "stdout",
     "output_type": "stream",
     "text": [
      "\n",
      "best epoch:48/loss:1.5787/f1:0.1529\n"
     ]
    },
    {
     "name": "stderr",
     "output_type": "stream",
     "text": [
      "100%|████████████████████████████████████████████████████████████████████████████████| 214/214 [02:54<00:00,  1.22it/s]\n",
      "2022-05-12 23:46:59,838 INFO: Epoch:[097/500]\n",
      "2022-05-12 23:46:59,838 INFO: Train Loss:3.479 | Acc:0.0918 | F1:0.0020\n",
      "2022-05-12 23:47:12,594 INFO: val Loss:3.694 | Acc:0.0911 | F1:0.0019\n"
     ]
    },
    {
     "name": "stdout",
     "output_type": "stream",
     "text": [
      "\n",
      "best epoch:48/loss:1.5787/f1:0.1529\n"
     ]
    },
    {
     "name": "stderr",
     "output_type": "stream",
     "text": [
      "100%|████████████████████████████████████████████████████████████████████████████████| 214/214 [02:54<00:00,  1.23it/s]\n",
      "2022-05-12 23:50:07,174 INFO: Epoch:[098/500]\n",
      "2022-05-12 23:50:07,175 INFO: Train Loss:3.520 | Acc:0.0918 | F1:0.0025\n",
      "2022-05-12 23:50:19,913 INFO: val Loss:3.399 | Acc:0.0911 | F1:0.0019\n",
      "2022-05-12 23:50:19,914 INFO: \n",
      "Best Val Epoch:48 | Val Loss:1.5787 | Val Acc:0.8423 | Val F1:0.1529\n",
      "2022-05-12 23:50:19,914 INFO: Total Process time:328.738Minute\n",
      "2022-05-12 23:50:19,916 INFO: {'exp_num': '1', 'data_path': './data', 'Kfold': 5, 'model_path': 'results/', 'encoder_name': 'regnety_160', 'drop_path_rate': 0.2, 'img_size': 224, 'batch_size': 16, 'epochs': 500, 'optimizer': 'Lamb', 'initial_lr': 5e-06, 'weight_decay': 0.001, 'aug_ver': 2, 'scheduler': 'cycle', 'warm_epoch': 5, 'max_lr': 0.001, 'min_lr': 5e-06, 'tmax': 145, 'patience': 50, 'clipping': None, 'amp': True, 'multi_gpu': False, 'logging': False, 'num_workers': 0, 'seed': 42, 'fold': 1}\n"
     ]
    },
    {
     "name": "stdout",
     "output_type": "stream",
     "text": [
      "<---- Training Params ---->\n",
      "Read train_df.csv\n",
      "Dataset size:3421\n",
      "Dataset size:856\n"
     ]
    },
    {
     "name": "stderr",
     "output_type": "stream",
     "text": [
      "2022-05-12 23:50:20,690 INFO: Loading pretrained weights from url (https://dl.fbaipublicfiles.com/deit/regnety_160-a5fe301d.pth)\n",
      "2022-05-12 23:50:21,706 INFO: Computational complexity:       15.93 GMac\n",
      "2022-05-12 23:50:21,707 INFO: Number of parameters:           80.83 M \n",
      "100%|████████████████████████████████████████████████████████████████████████████████| 214/214 [02:55<00:00,  1.22it/s]\n",
      "2022-05-12 23:53:17,023 INFO: Epoch:[001/500]\n",
      "2022-05-12 23:53:17,023 INFO: Train Loss:4.484 | Acc:0.0094 | F1:0.0038\n",
      "2022-05-12 23:53:29,835 INFO: val Loss:4.543 | Acc:0.0000 | F1:0.0000\n",
      "2022-05-12 23:53:31,371 INFO: -----------------SAVE:1epoch----------------\n"
     ]
    },
    {
     "name": "stdout",
     "output_type": "stream",
     "text": [
      "\n",
      "best epoch:1/loss:4.5425/f1:0.0000\n"
     ]
    },
    {
     "name": "stderr",
     "output_type": "stream",
     "text": [
      "100%|████████████████████████████████████████████████████████████████████████████████| 214/214 [02:55<00:00,  1.22it/s]\n",
      "2022-05-12 23:56:26,411 INFO: Epoch:[002/500]\n",
      "2022-05-12 23:56:26,412 INFO: Train Loss:4.484 | Acc:0.0114 | F1:0.0034\n",
      "2022-05-12 23:56:39,166 INFO: val Loss:4.544 | Acc:0.0000 | F1:0.0000\n"
     ]
    },
    {
     "name": "stdout",
     "output_type": "stream",
     "text": [
      "\n",
      "best epoch:1/loss:4.5425/f1:0.0000\n"
     ]
    },
    {
     "name": "stderr",
     "output_type": "stream",
     "text": [
      "100%|████████████████████████████████████████████████████████████████████████████████| 214/214 [02:55<00:00,  1.22it/s]\n",
      "2022-05-12 23:59:34,272 INFO: Epoch:[003/500]\n",
      "2022-05-12 23:59:34,272 INFO: Train Loss:4.480 | Acc:0.0111 | F1:0.0029\n",
      "2022-05-12 23:59:46,999 INFO: val Loss:4.536 | Acc:0.0000 | F1:0.0000\n",
      "2022-05-12 23:59:48,796 INFO: -----------------SAVE:3epoch----------------\n"
     ]
    },
    {
     "name": "stdout",
     "output_type": "stream",
     "text": [
      "\n",
      "best epoch:3/loss:4.5357/f1:0.0000\n"
     ]
    },
    {
     "name": "stderr",
     "output_type": "stream",
     "text": [
      "100%|████████████████████████████████████████████████████████████████████████████████| 214/214 [02:55<00:00,  1.22it/s]\n",
      "2022-05-13 00:02:44,494 INFO: Epoch:[004/500]\n",
      "2022-05-13 00:02:44,494 INFO: Train Loss:4.480 | Acc:0.0117 | F1:0.0036\n",
      "2022-05-13 00:02:57,212 INFO: val Loss:4.533 | Acc:0.0000 | F1:0.0000\n",
      "2022-05-13 00:02:58,845 INFO: -----------------SAVE:4epoch----------------\n"
     ]
    },
    {
     "name": "stdout",
     "output_type": "stream",
     "text": [
      "\n",
      "best epoch:4/loss:4.5332/f1:0.0000\n"
     ]
    },
    {
     "name": "stderr",
     "output_type": "stream",
     "text": [
      "100%|████████████████████████████████████████████████████████████████████████████████| 214/214 [02:55<00:00,  1.22it/s]\n",
      "2022-05-13 00:05:53,953 INFO: Epoch:[005/500]\n",
      "2022-05-13 00:05:53,954 INFO: Train Loss:4.470 | Acc:0.0111 | F1:0.0040\n",
      "2022-05-13 00:06:06,699 INFO: val Loss:4.529 | Acc:0.0000 | F1:0.0000\n",
      "2022-05-13 00:06:08,303 INFO: -----------------SAVE:5epoch----------------\n"
     ]
    },
    {
     "name": "stdout",
     "output_type": "stream",
     "text": [
      "\n",
      "best epoch:5/loss:4.5291/f1:0.0000\n"
     ]
    },
    {
     "name": "stderr",
     "output_type": "stream",
     "text": [
      "100%|████████████████████████████████████████████████████████████████████████████████| 214/214 [02:56<00:00,  1.21it/s]\n",
      "2022-05-13 00:09:04,701 INFO: Epoch:[006/500]\n",
      "2022-05-13 00:09:04,702 INFO: Train Loss:4.432 | Acc:0.0190 | F1:0.0070\n",
      "2022-05-13 00:09:17,607 INFO: val Loss:4.475 | Acc:0.0047 | F1:0.0009\n",
      "2022-05-13 00:09:19,334 INFO: -----------------SAVE:6epoch----------------\n"
     ]
    },
    {
     "name": "stdout",
     "output_type": "stream",
     "text": [
      "\n",
      "best epoch:6/loss:4.4750/f1:0.0009\n"
     ]
    },
    {
     "name": "stderr",
     "output_type": "stream",
     "text": [
      "100%|████████████████████████████████████████████████████████████████████████████████| 214/214 [02:57<00:00,  1.20it/s]\n",
      "2022-05-13 00:12:17,157 INFO: Epoch:[007/500]\n",
      "2022-05-13 00:12:17,158 INFO: Train Loss:4.364 | Acc:0.0436 | F1:0.0064\n",
      "2022-05-13 00:12:30,136 INFO: val Loss:4.434 | Acc:0.0070 | F1:0.0007\n",
      "2022-05-13 00:12:31,893 INFO: -----------------SAVE:7epoch----------------\n"
     ]
    },
    {
     "name": "stdout",
     "output_type": "stream",
     "text": [
      "\n",
      "best epoch:7/loss:4.4336/f1:0.0007\n"
     ]
    },
    {
     "name": "stderr",
     "output_type": "stream",
     "text": [
      "100%|████████████████████████████████████████████████████████████████████████████████| 214/214 [02:58<00:00,  1.20it/s]\n",
      "2022-05-13 00:15:30,845 INFO: Epoch:[008/500]\n",
      "2022-05-13 00:15:30,845 INFO: Train Loss:4.293 | Acc:0.0666 | F1:0.0084\n",
      "2022-05-13 00:15:43,819 INFO: val Loss:4.387 | Acc:0.0199 | F1:0.0019\n",
      "2022-05-13 00:15:45,565 INFO: -----------------SAVE:8epoch----------------\n"
     ]
    },
    {
     "name": "stdout",
     "output_type": "stream",
     "text": [
      "\n",
      "best epoch:8/loss:4.3870/f1:0.0019\n"
     ]
    },
    {
     "name": "stderr",
     "output_type": "stream",
     "text": [
      "100%|████████████████████████████████████████████████████████████████████████████████| 214/214 [03:02<00:00,  1.18it/s]\n",
      "2022-05-13 00:18:47,577 INFO: Epoch:[009/500]\n",
      "2022-05-13 00:18:47,578 INFO: Train Loss:4.224 | Acc:0.0816 | F1:0.0097\n",
      "2022-05-13 00:19:01,019 INFO: val Loss:4.324 | Acc:0.0257 | F1:0.0027\n",
      "2022-05-13 00:19:02,936 INFO: -----------------SAVE:9epoch----------------\n"
     ]
    },
    {
     "name": "stdout",
     "output_type": "stream",
     "text": [
      "\n",
      "best epoch:9/loss:4.3235/f1:0.0027\n"
     ]
    },
    {
     "name": "stderr",
     "output_type": "stream",
     "text": [
      "100%|████████████████████████████████████████████████████████████████████████████████| 214/214 [03:00<00:00,  1.19it/s]\n",
      "2022-05-13 00:22:03,523 INFO: Epoch:[010/500]\n",
      "2022-05-13 00:22:03,523 INFO: Train Loss:4.157 | Acc:0.0915 | F1:0.0108\n",
      "2022-05-13 00:22:16,544 INFO: val Loss:4.259 | Acc:0.0432 | F1:0.0037\n",
      "2022-05-13 00:22:18,391 INFO: -----------------SAVE:10epoch----------------\n"
     ]
    },
    {
     "name": "stdout",
     "output_type": "stream",
     "text": [
      "\n",
      "best epoch:10/loss:4.2592/f1:0.0037\n"
     ]
    },
    {
     "name": "stderr",
     "output_type": "stream",
     "text": [
      "100%|████████████████████████████████████████████████████████████████████████████████| 214/214 [03:00<00:00,  1.19it/s]\n",
      "2022-05-13 00:25:18,735 INFO: Epoch:[011/500]\n",
      "2022-05-13 00:25:18,735 INFO: Train Loss:4.081 | Acc:0.1038 | F1:0.0112\n",
      "2022-05-13 00:25:31,929 INFO: val Loss:4.223 | Acc:0.0537 | F1:0.0047\n",
      "2022-05-13 00:25:33,914 INFO: -----------------SAVE:11epoch----------------\n"
     ]
    },
    {
     "name": "stdout",
     "output_type": "stream",
     "text": [
      "\n",
      "best epoch:11/loss:4.2228/f1:0.0047\n"
     ]
    },
    {
     "name": "stderr",
     "output_type": "stream",
     "text": [
      "100%|████████████████████████████████████████████████████████████████████████████████| 214/214 [03:00<00:00,  1.19it/s]\n",
      "2022-05-13 00:28:34,406 INFO: Epoch:[012/500]\n",
      "2022-05-13 00:28:34,406 INFO: Train Loss:4.019 | Acc:0.1137 | F1:0.0119\n",
      "2022-05-13 00:28:47,767 INFO: val Loss:4.170 | Acc:0.0643 | F1:0.0055\n",
      "2022-05-13 00:28:49,709 INFO: -----------------SAVE:12epoch----------------\n"
     ]
    },
    {
     "name": "stdout",
     "output_type": "stream",
     "text": [
      "\n",
      "best epoch:12/loss:4.1700/f1:0.0055\n"
     ]
    },
    {
     "name": "stderr",
     "output_type": "stream",
     "text": [
      "100%|████████████████████████████████████████████████████████████████████████████████| 214/214 [02:59<00:00,  1.20it/s]\n",
      "2022-05-13 00:31:48,766 INFO: Epoch:[013/500]\n",
      "2022-05-13 00:31:48,767 INFO: Train Loss:3.944 | Acc:0.1330 | F1:0.0147\n",
      "2022-05-13 00:32:01,815 INFO: val Loss:4.101 | Acc:0.0818 | F1:0.0063\n",
      "2022-05-13 00:32:03,533 INFO: -----------------SAVE:13epoch----------------\n"
     ]
    },
    {
     "name": "stdout",
     "output_type": "stream",
     "text": [
      "\n",
      "best epoch:13/loss:4.1007/f1:0.0063\n"
     ]
    },
    {
     "name": "stderr",
     "output_type": "stream",
     "text": [
      "100%|████████████████████████████████████████████████████████████████████████████████| 214/214 [03:00<00:00,  1.18it/s]\n",
      "2022-05-13 00:35:04,427 INFO: Epoch:[014/500]\n",
      "2022-05-13 00:35:04,427 INFO: Train Loss:3.872 | Acc:0.1447 | F1:0.0161\n",
      "2022-05-13 00:35:17,983 INFO: val Loss:4.040 | Acc:0.0923 | F1:0.0077\n",
      "2022-05-13 00:35:19,923 INFO: -----------------SAVE:14epoch----------------\n"
     ]
    },
    {
     "name": "stdout",
     "output_type": "stream",
     "text": [
      "\n",
      "best epoch:14/loss:4.0396/f1:0.0077\n"
     ]
    },
    {
     "name": "stderr",
     "output_type": "stream",
     "text": [
      "100%|████████████████████████████████████████████████████████████████████████████████| 214/214 [03:05<00:00,  1.15it/s]\n",
      "2022-05-13 00:38:25,253 INFO: Epoch:[015/500]\n",
      "2022-05-13 00:38:25,254 INFO: Train Loss:3.792 | Acc:0.1631 | F1:0.0185\n",
      "2022-05-13 00:38:38,465 INFO: val Loss:3.972 | Acc:0.1180 | F1:0.0092\n",
      "2022-05-13 00:38:40,458 INFO: -----------------SAVE:15epoch----------------\n"
     ]
    },
    {
     "name": "stdout",
     "output_type": "stream",
     "text": [
      "\n",
      "best epoch:15/loss:3.9719/f1:0.0092\n"
     ]
    },
    {
     "name": "stderr",
     "output_type": "stream",
     "text": [
      "100%|████████████████████████████████████████████████████████████████████████████████| 214/214 [03:03<00:00,  1.16it/s]\n",
      "2022-05-13 00:41:44,253 INFO: Epoch:[016/500]\n",
      "2022-05-13 00:41:44,254 INFO: Train Loss:3.723 | Acc:0.1777 | F1:0.0212\n",
      "2022-05-13 00:41:57,462 INFO: val Loss:3.926 | Acc:0.1332 | F1:0.0115\n",
      "2022-05-13 00:41:59,339 INFO: -----------------SAVE:16epoch----------------\n"
     ]
    },
    {
     "name": "stdout",
     "output_type": "stream",
     "text": [
      "\n",
      "best epoch:16/loss:3.9263/f1:0.0115\n"
     ]
    },
    {
     "name": "stderr",
     "output_type": "stream",
     "text": [
      "100%|████████████████████████████████████████████████████████████████████████████████| 214/214 [03:01<00:00,  1.18it/s]\n",
      "2022-05-13 00:45:01,218 INFO: Epoch:[017/500]\n",
      "2022-05-13 00:45:01,219 INFO: Train Loss:3.652 | Acc:0.1935 | F1:0.0236\n",
      "2022-05-13 00:45:14,151 INFO: val Loss:3.846 | Acc:0.1519 | F1:0.0131\n",
      "2022-05-13 00:45:15,992 INFO: -----------------SAVE:17epoch----------------\n"
     ]
    },
    {
     "name": "stdout",
     "output_type": "stream",
     "text": [
      "\n",
      "best epoch:17/loss:3.8458/f1:0.0131\n"
     ]
    },
    {
     "name": "stderr",
     "output_type": "stream",
     "text": [
      "100%|████████████████████████████████████████████████████████████████████████████████| 214/214 [03:00<00:00,  1.18it/s]\n",
      "2022-05-13 00:48:16,995 INFO: Epoch:[018/500]\n",
      "2022-05-13 00:48:16,995 INFO: Train Loss:3.571 | Acc:0.2318 | F1:0.0297\n",
      "2022-05-13 00:48:43,547 INFO: val Loss:3.794 | Acc:0.2021 | F1:0.0209\n",
      "2022-05-13 00:48:45,470 INFO: -----------------SAVE:18epoch----------------\n"
     ]
    },
    {
     "name": "stdout",
     "output_type": "stream",
     "text": [
      "\n",
      "best epoch:18/loss:3.7936/f1:0.0209\n"
     ]
    },
    {
     "name": "stderr",
     "output_type": "stream",
     "text": [
      "100%|████████████████████████████████████████████████████████████████████████████████| 214/214 [05:11<00:00,  1.46s/it]\n",
      "2022-05-13 00:53:57,002 INFO: Epoch:[019/500]\n",
      "2022-05-13 00:53:57,002 INFO: Train Loss:3.504 | Acc:0.2631 | F1:0.0356\n",
      "2022-05-13 00:54:10,202 INFO: val Loss:3.721 | Acc:0.2161 | F1:0.0211\n",
      "2022-05-13 00:54:11,908 INFO: -----------------SAVE:19epoch----------------\n"
     ]
    },
    {
     "name": "stdout",
     "output_type": "stream",
     "text": [
      "\n",
      "best epoch:19/loss:3.7205/f1:0.0211\n"
     ]
    },
    {
     "name": "stderr",
     "output_type": "stream",
     "text": [
      "100%|████████████████████████████████████████████████████████████████████████████████| 214/214 [02:59<00:00,  1.19it/s]\n",
      "2022-05-13 00:57:11,534 INFO: Epoch:[020/500]\n",
      "2022-05-13 00:57:11,535 INFO: Train Loss:3.427 | Acc:0.3084 | F1:0.0425\n",
      "2022-05-13 00:57:24,626 INFO: val Loss:3.616 | Acc:0.2535 | F1:0.0307\n",
      "2022-05-13 00:57:26,410 INFO: -----------------SAVE:20epoch----------------\n"
     ]
    },
    {
     "name": "stdout",
     "output_type": "stream",
     "text": [
      "\n",
      "best epoch:20/loss:3.6165/f1:0.0307\n"
     ]
    },
    {
     "name": "stderr",
     "output_type": "stream",
     "text": [
      "100%|████████████████████████████████████████████████████████████████████████████████| 214/214 [02:59<00:00,  1.19it/s]\n",
      "2022-05-13 01:00:25,656 INFO: Epoch:[021/500]\n",
      "2022-05-13 01:00:25,657 INFO: Train Loss:3.354 | Acc:0.3443 | F1:0.0490\n",
      "2022-05-13 01:00:38,767 INFO: val Loss:3.578 | Acc:0.2886 | F1:0.0381\n",
      "2022-05-13 01:00:40,461 INFO: -----------------SAVE:21epoch----------------\n"
     ]
    },
    {
     "name": "stdout",
     "output_type": "stream",
     "text": [
      "\n",
      "best epoch:21/loss:3.5784/f1:0.0381\n"
     ]
    },
    {
     "name": "stderr",
     "output_type": "stream",
     "text": [
      "100%|████████████████████████████████████████████████████████████████████████████████| 214/214 [02:59<00:00,  1.19it/s]\n",
      "2022-05-13 01:03:40,398 INFO: Epoch:[022/500]\n",
      "2022-05-13 01:03:40,399 INFO: Train Loss:3.265 | Acc:0.3908 | F1:0.0586\n",
      "2022-05-13 01:03:53,306 INFO: val Loss:3.503 | Acc:0.3715 | F1:0.0550\n",
      "2022-05-13 01:03:55,081 INFO: -----------------SAVE:22epoch----------------\n"
     ]
    },
    {
     "name": "stdout",
     "output_type": "stream",
     "text": [
      "\n",
      "best epoch:22/loss:3.5027/f1:0.0550\n"
     ]
    },
    {
     "name": "stderr",
     "output_type": "stream",
     "text": [
      "100%|████████████████████████████████████████████████████████████████████████████████| 214/214 [02:59<00:00,  1.20it/s]\n",
      "2022-05-13 01:06:54,130 INFO: Epoch:[023/500]\n",
      "2022-05-13 01:06:54,131 INFO: Train Loss:3.196 | Acc:0.4423 | F1:0.0697\n",
      "2022-05-13 01:07:07,091 INFO: val Loss:3.401 | Acc:0.4311 | F1:0.0657\n",
      "2022-05-13 01:07:08,777 INFO: -----------------SAVE:23epoch----------------\n"
     ]
    },
    {
     "name": "stdout",
     "output_type": "stream",
     "text": [
      "\n",
      "best epoch:23/loss:3.4013/f1:0.0657\n"
     ]
    },
    {
     "name": "stderr",
     "output_type": "stream",
     "text": [
      "100%|████████████████████████████████████████████████████████████████████████████████| 214/214 [02:58<00:00,  1.20it/s]\n",
      "2022-05-13 01:10:07,348 INFO: Epoch:[024/500]\n",
      "2022-05-13 01:10:07,348 INFO: Train Loss:3.116 | Acc:0.4733 | F1:0.0766\n",
      "2022-05-13 01:10:20,323 INFO: val Loss:3.303 | Acc:0.5269 | F1:0.0807\n",
      "2022-05-13 01:10:22,052 INFO: -----------------SAVE:24epoch----------------\n"
     ]
    },
    {
     "name": "stdout",
     "output_type": "stream",
     "text": [
      "\n",
      "best epoch:24/loss:3.3035/f1:0.0807\n"
     ]
    },
    {
     "name": "stderr",
     "output_type": "stream",
     "text": [
      "100%|████████████████████████████████████████████████████████████████████████████████| 214/214 [03:01<00:00,  1.18it/s]\n",
      "2022-05-13 01:13:23,794 INFO: Epoch:[025/500]\n",
      "2022-05-13 01:13:23,795 INFO: Train Loss:3.033 | Acc:0.5212 | F1:0.0861\n",
      "2022-05-13 01:13:36,679 INFO: val Loss:3.191 | Acc:0.5526 | F1:0.0859\n",
      "2022-05-13 01:13:38,511 INFO: -----------------SAVE:25epoch----------------\n"
     ]
    },
    {
     "name": "stdout",
     "output_type": "stream",
     "text": [
      "\n",
      "best epoch:25/loss:3.1911/f1:0.0859\n"
     ]
    },
    {
     "name": "stderr",
     "output_type": "stream",
     "text": [
      "100%|████████████████████████████████████████████████████████████████████████████████| 214/214 [03:00<00:00,  1.19it/s]\n",
      "2022-05-13 01:16:38,817 INFO: Epoch:[026/500]\n",
      "2022-05-13 01:16:38,817 INFO: Train Loss:2.948 | Acc:0.5685 | F1:0.0960\n",
      "2022-05-13 01:16:51,806 INFO: val Loss:3.069 | Acc:0.6063 | F1:0.0987\n",
      "2022-05-13 01:16:53,504 INFO: -----------------SAVE:26epoch----------------\n"
     ]
    },
    {
     "name": "stdout",
     "output_type": "stream",
     "text": [
      "\n",
      "best epoch:26/loss:3.0686/f1:0.0987\n"
     ]
    },
    {
     "name": "stderr",
     "output_type": "stream",
     "text": [
      "100%|████████████████████████████████████████████████████████████████████████████████| 214/214 [02:59<00:00,  1.19it/s]\n",
      "2022-05-13 01:19:53,265 INFO: Epoch:[027/500]\n",
      "2022-05-13 01:19:53,265 INFO: Train Loss:2.853 | Acc:0.6027 | F1:0.1021\n",
      "2022-05-13 01:20:06,333 INFO: val Loss:2.966 | Acc:0.6379 | F1:0.1038\n",
      "2022-05-13 01:20:07,982 INFO: -----------------SAVE:27epoch----------------\n"
     ]
    },
    {
     "name": "stdout",
     "output_type": "stream",
     "text": [
      "\n",
      "best epoch:27/loss:2.9659/f1:0.1038\n"
     ]
    },
    {
     "name": "stderr",
     "output_type": "stream",
     "text": [
      "100%|████████████████████████████████████████████████████████████████████████████████| 214/214 [02:58<00:00,  1.20it/s]\n",
      "2022-05-13 01:23:06,467 INFO: Epoch:[028/500]\n",
      "2022-05-13 01:23:06,467 INFO: Train Loss:2.768 | Acc:0.6498 | F1:0.1117\n",
      "2022-05-13 01:23:19,460 INFO: val Loss:2.869 | Acc:0.6542 | F1:0.1078\n",
      "2022-05-13 01:23:21,155 INFO: -----------------SAVE:28epoch----------------\n"
     ]
    },
    {
     "name": "stdout",
     "output_type": "stream",
     "text": [
      "\n",
      "best epoch:28/loss:2.8690/f1:0.1078\n"
     ]
    },
    {
     "name": "stderr",
     "output_type": "stream",
     "text": [
      "100%|████████████████████████████████████████████████████████████████████████████████| 214/214 [04:04<00:00,  1.14s/it]\n",
      "2022-05-13 01:27:25,813 INFO: Epoch:[029/500]\n",
      "2022-05-13 01:27:25,814 INFO: Train Loss:2.704 | Acc:0.6755 | F1:0.1170\n",
      "2022-05-13 01:27:39,049 INFO: val Loss:2.779 | Acc:0.7173 | F1:0.1216\n",
      "2022-05-13 01:27:40,772 INFO: -----------------SAVE:29epoch----------------\n"
     ]
    },
    {
     "name": "stdout",
     "output_type": "stream",
     "text": [
      "\n",
      "best epoch:29/loss:2.7787/f1:0.1216\n"
     ]
    },
    {
     "name": "stderr",
     "output_type": "stream",
     "text": [
      "100%|████████████████████████████████████████████████████████████████████████████████| 214/214 [03:05<00:00,  1.15it/s]\n",
      "2022-05-13 01:30:46,306 INFO: Epoch:[030/500]\n",
      "2022-05-13 01:30:46,306 INFO: Train Loss:2.623 | Acc:0.7129 | F1:0.1237\n",
      "2022-05-13 01:30:59,132 INFO: val Loss:2.717 | Acc:0.7407 | F1:0.1254\n",
      "2022-05-13 01:31:00,766 INFO: -----------------SAVE:30epoch----------------\n"
     ]
    },
    {
     "name": "stdout",
     "output_type": "stream",
     "text": [
      "\n",
      "best epoch:30/loss:2.7170/f1:0.1254\n"
     ]
    },
    {
     "name": "stderr",
     "output_type": "stream",
     "text": [
      "100%|████████████████████████████████████████████████████████████████████████████████| 214/214 [02:56<00:00,  1.21it/s]\n",
      "2022-05-13 01:33:57,261 INFO: Epoch:[031/500]\n",
      "2022-05-13 01:33:57,262 INFO: Train Loss:2.549 | Acc:0.7393 | F1:0.1286\n",
      "2022-05-13 01:34:10,185 INFO: val Loss:2.556 | Acc:0.7535 | F1:0.1284\n",
      "2022-05-13 01:34:12,151 INFO: -----------------SAVE:31epoch----------------\n"
     ]
    },
    {
     "name": "stdout",
     "output_type": "stream",
     "text": [
      "\n",
      "best epoch:31/loss:2.5558/f1:0.1284\n"
     ]
    },
    {
     "name": "stderr",
     "output_type": "stream",
     "text": [
      "100%|████████████████████████████████████████████████████████████████████████████████| 214/214 [02:56<00:00,  1.21it/s]\n",
      "2022-05-13 01:37:08,538 INFO: Epoch:[032/500]\n",
      "2022-05-13 01:37:08,539 INFO: Train Loss:2.470 | Acc:0.7732 | F1:0.1345\n",
      "2022-05-13 01:37:21,283 INFO: val Loss:2.481 | Acc:0.7944 | F1:0.1376\n",
      "2022-05-13 01:37:23,002 INFO: -----------------SAVE:32epoch----------------\n"
     ]
    },
    {
     "name": "stdout",
     "output_type": "stream",
     "text": [
      "\n",
      "best epoch:32/loss:2.4808/f1:0.1376\n"
     ]
    },
    {
     "name": "stderr",
     "output_type": "stream",
     "text": [
      "100%|████████████████████████████████████████████████████████████████████████████████| 214/214 [02:55<00:00,  1.22it/s]\n",
      "2022-05-13 01:40:18,912 INFO: Epoch:[033/500]\n",
      "2022-05-13 01:40:18,912 INFO: Train Loss:2.384 | Acc:0.7910 | F1:0.1377\n",
      "2022-05-13 01:40:31,691 INFO: val Loss:2.302 | Acc:0.8072 | F1:0.1402\n",
      "2022-05-13 01:40:33,427 INFO: -----------------SAVE:33epoch----------------\n"
     ]
    },
    {
     "name": "stdout",
     "output_type": "stream",
     "text": [
      "\n",
      "best epoch:33/loss:2.3019/f1:0.1402\n"
     ]
    },
    {
     "name": "stderr",
     "output_type": "stream",
     "text": [
      "100%|████████████████████████████████████████████████████████████████████████████████| 214/214 [02:55<00:00,  1.22it/s]\n",
      "2022-05-13 01:43:29,217 INFO: Epoch:[034/500]\n",
      "2022-05-13 01:43:29,217 INFO: Train Loss:2.311 | Acc:0.8021 | F1:0.1395\n",
      "2022-05-13 01:43:42,004 INFO: val Loss:2.158 | Acc:0.8271 | F1:0.1434\n",
      "2022-05-13 01:43:43,792 INFO: -----------------SAVE:34epoch----------------\n"
     ]
    },
    {
     "name": "stdout",
     "output_type": "stream",
     "text": [
      "\n",
      "best epoch:34/loss:2.1583/f1:0.1434\n"
     ]
    },
    {
     "name": "stderr",
     "output_type": "stream",
     "text": [
      "100%|████████████████████████████████████████████████████████████████████████████████| 214/214 [02:56<00:00,  1.22it/s]\n",
      "2022-05-13 01:46:39,849 INFO: Epoch:[035/500]\n",
      "2022-05-13 01:46:39,850 INFO: Train Loss:2.233 | Acc:0.8053 | F1:0.1398\n",
      "2022-05-13 01:46:52,627 INFO: val Loss:2.049 | Acc:0.8283 | F1:0.1437\n",
      "2022-05-13 01:46:54,448 INFO: -----------------SAVE:35epoch----------------\n"
     ]
    },
    {
     "name": "stdout",
     "output_type": "stream",
     "text": [
      "\n",
      "best epoch:35/loss:2.0487/f1:0.1437\n"
     ]
    },
    {
     "name": "stderr",
     "output_type": "stream",
     "text": [
      "100%|████████████████████████████████████████████████████████████████████████████████| 214/214 [02:56<00:00,  1.22it/s]\n",
      "2022-05-13 01:49:50,508 INFO: Epoch:[036/500]\n",
      "2022-05-13 01:49:50,508 INFO: Train Loss:2.154 | Acc:0.8126 | F1:0.1411\n",
      "2022-05-13 01:50:03,304 INFO: val Loss:1.922 | Acc:0.8306 | F1:0.1440\n",
      "2022-05-13 01:50:05,108 INFO: -----------------SAVE:36epoch----------------\n"
     ]
    },
    {
     "name": "stdout",
     "output_type": "stream",
     "text": [
      "\n",
      "best epoch:36/loss:1.9223/f1:0.1440\n"
     ]
    },
    {
     "name": "stderr",
     "output_type": "stream",
     "text": [
      "100%|████████████████████████████████████████████████████████████████████████████████| 214/214 [02:55<00:00,  1.22it/s]\n",
      "2022-05-13 01:53:00,865 INFO: Epoch:[037/500]\n",
      "2022-05-13 01:53:00,866 INFO: Train Loss:2.080 | Acc:0.8161 | F1:0.1418\n",
      "2022-05-13 01:53:13,674 INFO: val Loss:1.819 | Acc:0.8318 | F1:0.1442\n",
      "2022-05-13 01:53:15,443 INFO: -----------------SAVE:37epoch----------------\n"
     ]
    },
    {
     "name": "stdout",
     "output_type": "stream",
     "text": [
      "\n",
      "best epoch:37/loss:1.8187/f1:0.1442\n"
     ]
    },
    {
     "name": "stderr",
     "output_type": "stream",
     "text": [
      "100%|████████████████████████████████████████████████████████████████████████████████| 214/214 [02:57<00:00,  1.21it/s]\n",
      "2022-05-13 01:56:12,927 INFO: Epoch:[038/500]\n",
      "2022-05-13 01:56:12,928 INFO: Train Loss:2.011 | Acc:0.8153 | F1:0.1415\n",
      "2022-05-13 01:56:25,725 INFO: val Loss:1.722 | Acc:0.8318 | F1:0.1442\n",
      "2022-05-13 01:56:27,442 INFO: -----------------SAVE:38epoch----------------\n"
     ]
    },
    {
     "name": "stdout",
     "output_type": "stream",
     "text": [
      "\n",
      "best epoch:38/loss:1.7220/f1:0.1442\n"
     ]
    },
    {
     "name": "stderr",
     "output_type": "stream",
     "text": [
      "100%|████████████████████████████████████████████████████████████████████████████████| 214/214 [02:56<00:00,  1.21it/s]\n",
      "2022-05-13 01:59:23,782 INFO: Epoch:[039/500]\n",
      "2022-05-13 01:59:23,782 INFO: Train Loss:1.963 | Acc:0.8202 | F1:0.1424\n",
      "2022-05-13 01:59:36,541 INFO: val Loss:1.649 | Acc:0.8341 | F1:0.1446\n",
      "2022-05-13 01:59:38,295 INFO: -----------------SAVE:39epoch----------------\n"
     ]
    },
    {
     "name": "stdout",
     "output_type": "stream",
     "text": [
      "\n",
      "best epoch:39/loss:1.6488/f1:0.1446\n"
     ]
    },
    {
     "name": "stderr",
     "output_type": "stream",
     "text": [
      "100%|████████████████████████████████████████████████████████████████████████████████| 214/214 [02:56<00:00,  1.21it/s]\n",
      "2022-05-13 02:02:34,600 INFO: Epoch:[040/500]\n",
      "2022-05-13 02:02:34,600 INFO: Train Loss:1.911 | Acc:0.8194 | F1:0.1422\n",
      "2022-05-13 02:02:47,536 INFO: val Loss:1.580 | Acc:0.8341 | F1:0.1446\n",
      "2022-05-13 02:02:49,307 INFO: -----------------SAVE:40epoch----------------\n"
     ]
    },
    {
     "name": "stdout",
     "output_type": "stream",
     "text": [
      "\n",
      "best epoch:40/loss:1.5802/f1:0.1446\n"
     ]
    },
    {
     "name": "stderr",
     "output_type": "stream",
     "text": [
      "100%|████████████████████████████████████████████████████████████████████████████████| 214/214 [02:56<00:00,  1.21it/s]\n",
      "2022-05-13 02:05:45,688 INFO: Epoch:[041/500]\n",
      "2022-05-13 02:05:45,689 INFO: Train Loss:1.886 | Acc:0.8176 | F1:0.1420\n",
      "2022-05-13 02:05:58,454 INFO: val Loss:1.525 | Acc:0.8353 | F1:0.1448\n",
      "2022-05-13 02:06:00,111 INFO: -----------------SAVE:41epoch----------------\n"
     ]
    },
    {
     "name": "stdout",
     "output_type": "stream",
     "text": [
      "\n",
      "best epoch:41/loss:1.5255/f1:0.1448\n"
     ]
    },
    {
     "name": "stderr",
     "output_type": "stream",
     "text": [
      "100%|████████████████████████████████████████████████████████████████████████████████| 214/214 [02:56<00:00,  1.21it/s]\n",
      "2022-05-13 02:08:56,313 INFO: Epoch:[042/500]\n",
      "2022-05-13 02:08:56,313 INFO: Train Loss:1.859 | Acc:0.8161 | F1:0.1416\n",
      "2022-05-13 02:09:09,100 INFO: val Loss:1.518 | Acc:0.8353 | F1:0.1448\n",
      "2022-05-13 02:09:10,752 INFO: -----------------SAVE:42epoch----------------\n"
     ]
    },
    {
     "name": "stdout",
     "output_type": "stream",
     "text": [
      "\n",
      "best epoch:42/loss:1.5179/f1:0.1448\n"
     ]
    },
    {
     "name": "stderr",
     "output_type": "stream",
     "text": [
      "100%|████████████████████████████████████████████████████████████████████████████████| 214/214 [02:56<00:00,  1.21it/s]\n",
      "2022-05-13 02:12:07,052 INFO: Epoch:[043/500]\n",
      "2022-05-13 02:12:07,053 INFO: Train Loss:1.851 | Acc:0.8214 | F1:0.1449\n",
      "2022-05-13 02:12:19,860 INFO: val Loss:1.504 | Acc:0.8353 | F1:0.1448\n",
      "2022-05-13 02:12:21,603 INFO: -----------------SAVE:43epoch----------------\n"
     ]
    },
    {
     "name": "stdout",
     "output_type": "stream",
     "text": [
      "\n",
      "best epoch:43/loss:1.5045/f1:0.1448\n"
     ]
    },
    {
     "name": "stderr",
     "output_type": "stream",
     "text": [
      "100%|████████████████████████████████████████████████████████████████████████████████| 214/214 [02:56<00:00,  1.21it/s]\n",
      "2022-05-13 02:15:17,923 INFO: Epoch:[044/500]\n",
      "2022-05-13 02:15:17,924 INFO: Train Loss:1.845 | Acc:0.8229 | F1:0.1457\n",
      "2022-05-13 02:15:30,731 INFO: val Loss:1.470 | Acc:0.8364 | F1:0.1466\n",
      "2022-05-13 02:15:32,498 INFO: -----------------SAVE:44epoch----------------\n"
     ]
    },
    {
     "name": "stdout",
     "output_type": "stream",
     "text": [
      "\n",
      "best epoch:44/loss:1.4697/f1:0.1466\n"
     ]
    },
    {
     "name": "stderr",
     "output_type": "stream",
     "text": [
      "100%|████████████████████████████████████████████████████████████████████████████████| 214/214 [02:56<00:00,  1.21it/s]\n",
      "2022-05-13 02:18:28,763 INFO: Epoch:[045/500]\n",
      "2022-05-13 02:18:28,763 INFO: Train Loss:1.807 | Acc:0.8258 | F1:0.1463\n",
      "2022-05-13 02:18:42,030 INFO: val Loss:1.421 | Acc:0.8353 | F1:0.1447\n",
      "2022-05-13 02:18:43,960 INFO: -----------------SAVE:45epoch----------------\n"
     ]
    },
    {
     "name": "stdout",
     "output_type": "stream",
     "text": [
      "\n",
      "best epoch:45/loss:1.4206/f1:0.1447\n"
     ]
    },
    {
     "name": "stderr",
     "output_type": "stream",
     "text": [
      "100%|████████████████████████████████████████████████████████████████████████████████| 214/214 [03:02<00:00,  1.17it/s]\n",
      "2022-05-13 02:21:46,950 INFO: Epoch:[046/500]\n",
      "2022-05-13 02:21:46,950 INFO: Train Loss:1.795 | Acc:0.8272 | F1:0.1476\n",
      "2022-05-13 02:21:59,729 INFO: val Loss:1.351 | Acc:0.8353 | F1:0.1447\n",
      "2022-05-13 02:22:01,594 INFO: -----------------SAVE:46epoch----------------\n"
     ]
    },
    {
     "name": "stdout",
     "output_type": "stream",
     "text": [
      "\n",
      "best epoch:46/loss:1.3511/f1:0.1447\n"
     ]
    },
    {
     "name": "stderr",
     "output_type": "stream",
     "text": [
      "100%|████████████████████████████████████████████████████████████████████████████████| 214/214 [02:55<00:00,  1.22it/s]\n",
      "2022-05-13 02:24:57,596 INFO: Epoch:[047/500]\n",
      "2022-05-13 02:24:57,596 INFO: Train Loss:1.881 | Acc:0.8246 | F1:0.1477\n",
      "2022-05-13 02:25:10,356 INFO: val Loss:1.469 | Acc:0.8353 | F1:0.1446\n"
     ]
    },
    {
     "name": "stdout",
     "output_type": "stream",
     "text": [
      "\n",
      "best epoch:46/loss:1.3511/f1:0.1447\n"
     ]
    },
    {
     "name": "stderr",
     "output_type": "stream",
     "text": [
      "100%|████████████████████████████████████████████████████████████████████████████████| 214/214 [03:00<00:00,  1.19it/s]\n",
      "2022-05-13 02:28:10,841 INFO: Epoch:[048/500]\n",
      "2022-05-13 02:28:10,842 INFO: Train Loss:1.938 | Acc:0.8243 | F1:0.1485\n",
      "2022-05-13 02:28:24,124 INFO: val Loss:1.513 | Acc:0.8353 | F1:0.1446\n"
     ]
    },
    {
     "name": "stdout",
     "output_type": "stream",
     "text": [
      "\n",
      "best epoch:46/loss:1.3511/f1:0.1447\n"
     ]
    },
    {
     "name": "stderr",
     "output_type": "stream",
     "text": [
      "100%|████████████████████████████████████████████████████████████████████████████████| 214/214 [03:01<00:00,  1.18it/s]\n",
      "2022-05-13 02:31:25,491 INFO: Epoch:[049/500]\n",
      "2022-05-13 02:31:25,492 INFO: Train Loss:2.002 | Acc:0.8211 | F1:0.1480\n",
      "2022-05-13 02:31:38,766 INFO: val Loss:1.669 | Acc:0.8376 | F1:0.1483\n"
     ]
    },
    {
     "name": "stdout",
     "output_type": "stream",
     "text": [
      "\n",
      "best epoch:46/loss:1.3511/f1:0.1447\n"
     ]
    },
    {
     "name": "stderr",
     "output_type": "stream",
     "text": [
      "100%|████████████████████████████████████████████████████████████████████████████████| 214/214 [03:02<00:00,  1.17it/s]\n",
      "2022-05-13 02:34:41,555 INFO: Epoch:[050/500]\n",
      "2022-05-13 02:34:41,556 INFO: Train Loss:2.117 | Acc:0.8199 | F1:0.1480\n",
      "2022-05-13 02:34:54,802 INFO: val Loss:1.728 | Acc:0.8154 | F1:0.1469\n"
     ]
    },
    {
     "name": "stdout",
     "output_type": "stream",
     "text": [
      "\n",
      "best epoch:46/loss:1.3511/f1:0.1447\n"
     ]
    },
    {
     "name": "stderr",
     "output_type": "stream",
     "text": [
      "100%|████████████████████████████████████████████████████████████████████████████████| 214/214 [03:01<00:00,  1.18it/s]\n",
      "2022-05-13 02:37:56,016 INFO: Epoch:[051/500]\n",
      "2022-05-13 02:37:56,017 INFO: Train Loss:2.263 | Acc:0.8164 | F1:0.1458\n",
      "2022-05-13 02:38:09,303 INFO: val Loss:1.776 | Acc:0.7687 | F1:0.1310\n"
     ]
    },
    {
     "name": "stdout",
     "output_type": "stream",
     "text": [
      "\n",
      "best epoch:46/loss:1.3511/f1:0.1447\n"
     ]
    },
    {
     "name": "stderr",
     "output_type": "stream",
     "text": [
      "100%|████████████████████████████████████████████████████████████████████████████████| 214/214 [03:06<00:00,  1.15it/s]\n",
      "2022-05-13 02:41:15,505 INFO: Epoch:[052/500]\n",
      "2022-05-13 02:41:15,505 INFO: Train Loss:2.476 | Acc:0.8112 | F1:0.1463\n",
      "2022-05-13 02:41:28,906 INFO: val Loss:1.909 | Acc:0.8224 | F1:0.1425\n"
     ]
    },
    {
     "name": "stdout",
     "output_type": "stream",
     "text": [
      "\n",
      "best epoch:46/loss:1.3511/f1:0.1447\n"
     ]
    },
    {
     "name": "stderr",
     "output_type": "stream",
     "text": [
      "100%|████████████████████████████████████████████████████████████████████████████████| 214/214 [03:01<00:00,  1.18it/s]\n",
      "2022-05-13 02:44:30,085 INFO: Epoch:[053/500]\n",
      "2022-05-13 02:44:30,086 INFO: Train Loss:2.502 | Acc:0.8100 | F1:0.1453\n",
      "2022-05-13 02:44:43,351 INFO: val Loss:1.905 | Acc:0.8143 | F1:0.1426\n"
     ]
    },
    {
     "name": "stdout",
     "output_type": "stream",
     "text": [
      "\n",
      "best epoch:46/loss:1.3511/f1:0.1447\n"
     ]
    },
    {
     "name": "stderr",
     "output_type": "stream",
     "text": [
      "100%|████████████████████████████████████████████████████████████████████████████████| 214/214 [03:01<00:00,  1.18it/s]\n",
      "2022-05-13 02:47:44,818 INFO: Epoch:[054/500]\n",
      "2022-05-13 02:47:44,818 INFO: Train Loss:2.533 | Acc:0.8100 | F1:0.1458\n",
      "2022-05-13 02:47:58,070 INFO: val Loss:1.968 | Acc:0.8353 | F1:0.1506\n"
     ]
    },
    {
     "name": "stdout",
     "output_type": "stream",
     "text": [
      "\n",
      "best epoch:46/loss:1.3511/f1:0.1447\n"
     ]
    },
    {
     "name": "stderr",
     "output_type": "stream",
     "text": [
      "100%|████████████████████████████████████████████████████████████████████████████████| 214/214 [03:01<00:00,  1.18it/s]\n",
      "2022-05-13 02:50:59,327 INFO: Epoch:[055/500]\n",
      "2022-05-13 02:50:59,327 INFO: Train Loss:2.638 | Acc:0.8065 | F1:0.1455\n",
      "2022-05-13 02:51:12,632 INFO: val Loss:2.074 | Acc:0.8259 | F1:0.1522\n"
     ]
    },
    {
     "name": "stdout",
     "output_type": "stream",
     "text": [
      "\n",
      "best epoch:46/loss:1.3511/f1:0.1447\n"
     ]
    },
    {
     "name": "stderr",
     "output_type": "stream",
     "text": [
      "100%|████████████████████████████████████████████████████████████████████████████████| 214/214 [03:02<00:00,  1.17it/s]\n",
      "2022-05-13 02:54:15,034 INFO: Epoch:[056/500]\n",
      "2022-05-13 02:54:15,035 INFO: Train Loss:2.806 | Acc:0.7834 | F1:0.1414\n",
      "2022-05-13 02:54:28,292 INFO: val Loss:2.221 | Acc:0.8329 | F1:0.1531\n"
     ]
    },
    {
     "name": "stdout",
     "output_type": "stream",
     "text": [
      "\n",
      "best epoch:46/loss:1.3511/f1:0.1447\n"
     ]
    },
    {
     "name": "stderr",
     "output_type": "stream",
     "text": [
      "100%|████████████████████████████████████████████████████████████████████████████████| 214/214 [03:01<00:00,  1.18it/s]\n",
      "2022-05-13 02:57:29,810 INFO: Epoch:[057/500]\n",
      "2022-05-13 02:57:29,810 INFO: Train Loss:2.895 | Acc:0.7431 | F1:0.1353\n",
      "2022-05-13 02:57:43,075 INFO: val Loss:2.285 | Acc:0.8411 | F1:0.1546\n"
     ]
    },
    {
     "name": "stdout",
     "output_type": "stream",
     "text": [
      "\n",
      "best epoch:46/loss:1.3511/f1:0.1447\n"
     ]
    },
    {
     "name": "stderr",
     "output_type": "stream",
     "text": [
      "100%|████████████████████████████████████████████████████████████████████████████████| 214/214 [03:05<00:00,  1.15it/s]\n",
      "2022-05-13 03:00:48,570 INFO: Epoch:[058/500]\n",
      "2022-05-13 03:00:48,570 INFO: Train Loss:2.950 | Acc:0.7112 | F1:0.1321\n",
      "2022-05-13 03:01:01,839 INFO: val Loss:1.681 | Acc:0.8107 | F1:0.1510\n"
     ]
    },
    {
     "name": "stdout",
     "output_type": "stream",
     "text": [
      "\n",
      "best epoch:46/loss:1.3511/f1:0.1447\n"
     ]
    },
    {
     "name": "stderr",
     "output_type": "stream",
     "text": [
      "100%|████████████████████████████████████████████████████████████████████████████████| 214/214 [05:25<00:00,  1.52s/it]\n",
      "2022-05-13 03:06:27,705 INFO: Epoch:[059/500]\n",
      "2022-05-13 03:06:27,705 INFO: Train Loss:3.013 | Acc:0.6697 | F1:0.1268\n",
      "2022-05-13 03:06:49,542 INFO: val Loss:2.409 | Acc:0.8271 | F1:0.1534\n"
     ]
    },
    {
     "name": "stdout",
     "output_type": "stream",
     "text": [
      "\n",
      "best epoch:46/loss:1.3511/f1:0.1447\n"
     ]
    },
    {
     "name": "stderr",
     "output_type": "stream",
     "text": [
      "100%|████████████████████████████████████████████████████████████████████████████████| 214/214 [08:04<00:00,  2.26s/it]\n",
      "2022-05-13 03:14:54,004 INFO: Epoch:[060/500]\n",
      "2022-05-13 03:14:54,004 INFO: Train Loss:3.084 | Acc:0.6203 | F1:0.1205\n",
      "2022-05-13 03:15:17,308 INFO: val Loss:2.588 | Acc:0.7430 | F1:0.1398\n"
     ]
    },
    {
     "name": "stdout",
     "output_type": "stream",
     "text": [
      "\n",
      "best epoch:46/loss:1.3511/f1:0.1447\n"
     ]
    },
    {
     "name": "stderr",
     "output_type": "stream",
     "text": [
      "100%|████████████████████████████████████████████████████████████████████████████████| 214/214 [08:28<00:00,  2.38s/it]\n",
      "2022-05-13 03:23:45,630 INFO: Epoch:[061/500]\n",
      "2022-05-13 03:23:45,630 INFO: Train Loss:3.305 | Acc:0.5215 | F1:0.1067\n",
      "2022-05-13 03:24:33,349 INFO: val Loss:3.074 | Acc:0.6145 | F1:0.1140\n"
     ]
    },
    {
     "name": "stdout",
     "output_type": "stream",
     "text": [
      "\n",
      "best epoch:46/loss:1.3511/f1:0.1447\n"
     ]
    },
    {
     "name": "stderr",
     "output_type": "stream",
     "text": [
      "100%|████████████████████████████████████████████████████████████████████████████████| 214/214 [08:31<00:00,  2.39s/it]\n",
      "2022-05-13 03:33:05,191 INFO: Epoch:[062/500]\n",
      "2022-05-13 03:33:05,191 INFO: Train Loss:3.450 | Acc:0.4665 | F1:0.0966\n",
      "2022-05-13 03:33:29,060 INFO: val Loss:2.980 | Acc:0.6963 | F1:0.1279\n"
     ]
    },
    {
     "name": "stdout",
     "output_type": "stream",
     "text": [
      "\n",
      "best epoch:46/loss:1.3511/f1:0.1447\n"
     ]
    },
    {
     "name": "stderr",
     "output_type": "stream",
     "text": [
      "100%|████████████████████████████████████████████████████████████████████████████████| 214/214 [05:02<00:00,  1.41s/it]\n",
      "2022-05-13 03:38:31,337 INFO: Epoch:[063/500]\n",
      "2022-05-13 03:38:31,337 INFO: Train Loss:3.478 | Acc:0.4724 | F1:0.0971\n",
      "2022-05-13 03:38:46,906 INFO: val Loss:2.974 | Acc:0.6846 | F1:0.1257\n"
     ]
    },
    {
     "name": "stdout",
     "output_type": "stream",
     "text": [
      "\n",
      "best epoch:46/loss:1.3511/f1:0.1447\n"
     ]
    },
    {
     "name": "stderr",
     "output_type": "stream",
     "text": [
      "100%|████████████████████████████████████████████████████████████████████████████████| 214/214 [03:09<00:00,  1.13it/s]\n",
      "2022-05-13 03:41:56,616 INFO: Epoch:[064/500]\n",
      "2022-05-13 03:41:56,617 INFO: Train Loss:3.460 | Acc:0.4540 | F1:0.0938\n",
      "2022-05-13 03:42:10,457 INFO: val Loss:2.945 | Acc:0.6893 | F1:0.1219\n"
     ]
    },
    {
     "name": "stdout",
     "output_type": "stream",
     "text": [
      "\n",
      "best epoch:46/loss:1.3511/f1:0.1447\n"
     ]
    },
    {
     "name": "stderr",
     "output_type": "stream",
     "text": [
      "100%|████████████████████████████████████████████████████████████████████████████████| 214/214 [05:35<00:00,  1.57s/it]\n",
      "2022-05-13 03:47:45,951 INFO: Epoch:[065/500]\n",
      "2022-05-13 03:47:45,952 INFO: Train Loss:3.447 | Acc:0.4683 | F1:0.0940\n",
      "2022-05-13 03:48:26,266 INFO: val Loss:2.886 | Acc:0.7044 | F1:0.1309\n"
     ]
    },
    {
     "name": "stdout",
     "output_type": "stream",
     "text": [
      "\n",
      "best epoch:46/loss:1.3511/f1:0.1447\n"
     ]
    },
    {
     "name": "stderr",
     "output_type": "stream",
     "text": [
      "100%|████████████████████████████████████████████████████████████████████████████████| 214/214 [06:10<00:00,  1.73s/it]\n",
      "2022-05-13 03:54:36,455 INFO: Epoch:[066/500]\n",
      "2022-05-13 03:54:36,455 INFO: Train Loss:3.408 | Acc:0.4768 | F1:0.0954\n",
      "2022-05-13 03:54:55,015 INFO: val Loss:3.573 | Acc:0.6530 | F1:0.1168\n"
     ]
    },
    {
     "name": "stdout",
     "output_type": "stream",
     "text": [
      "\n",
      "best epoch:46/loss:1.3511/f1:0.1447\n"
     ]
    },
    {
     "name": "stderr",
     "output_type": "stream",
     "text": [
      "100%|████████████████████████████████████████████████████████████████████████████████| 214/214 [04:26<00:00,  1.24s/it]\n",
      "2022-05-13 03:59:21,139 INFO: Epoch:[067/500]\n",
      "2022-05-13 03:59:21,140 INFO: Train Loss:3.369 | Acc:0.4852 | F1:0.0986\n",
      "2022-05-13 03:59:37,947 INFO: val Loss:3.505 | Acc:0.6519 | F1:0.1146\n"
     ]
    },
    {
     "name": "stdout",
     "output_type": "stream",
     "text": [
      "\n",
      "best epoch:46/loss:1.3511/f1:0.1447\n"
     ]
    },
    {
     "name": "stderr",
     "output_type": "stream",
     "text": [
      "100%|████████████████████████████████████████████████████████████████████████████████| 214/214 [07:09<00:00,  2.01s/it]\n",
      "2022-05-13 04:06:47,282 INFO: Epoch:[068/500]\n",
      "2022-05-13 04:06:47,282 INFO: Train Loss:3.370 | Acc:0.4773 | F1:0.0964\n",
      "2022-05-13 04:07:20,436 INFO: val Loss:3.027 | Acc:0.6869 | F1:0.1268\n"
     ]
    },
    {
     "name": "stdout",
     "output_type": "stream",
     "text": [
      "\n",
      "best epoch:46/loss:1.3511/f1:0.1447\n"
     ]
    },
    {
     "name": "stderr",
     "output_type": "stream",
     "text": [
      "100%|████████████████████████████████████████████████████████████████████████████████| 214/214 [05:35<00:00,  1.57s/it]\n",
      "2022-05-13 04:12:55,880 INFO: Epoch:[069/500]\n",
      "2022-05-13 04:12:55,880 INFO: Train Loss:3.323 | Acc:0.4961 | F1:0.0988\n",
      "2022-05-13 04:13:09,675 INFO: val Loss:2.949 | Acc:0.6717 | F1:0.1244\n"
     ]
    },
    {
     "name": "stdout",
     "output_type": "stream",
     "text": [
      "\n",
      "best epoch:46/loss:1.3511/f1:0.1447\n"
     ]
    },
    {
     "name": "stderr",
     "output_type": "stream",
     "text": [
      "100%|████████████████████████████████████████████████████████████████████████████████| 214/214 [03:35<00:00,  1.01s/it]\n",
      "2022-05-13 04:16:45,368 INFO: Epoch:[070/500]\n",
      "2022-05-13 04:16:45,369 INFO: Train Loss:3.403 | Acc:0.3952 | F1:0.0815\n",
      "2022-05-13 04:16:58,108 INFO: val Loss:3.909 | Acc:0.4474 | F1:0.0781\n"
     ]
    },
    {
     "name": "stdout",
     "output_type": "stream",
     "text": [
      "\n",
      "best epoch:46/loss:1.3511/f1:0.1447\n"
     ]
    },
    {
     "name": "stderr",
     "output_type": "stream",
     "text": [
      "100%|████████████████████████████████████████████████████████████████████████████████| 214/214 [02:55<00:00,  1.22it/s]\n",
      "2022-05-13 04:19:53,314 INFO: Epoch:[071/500]\n",
      "2022-05-13 04:19:53,314 INFO: Train Loss:3.405 | Acc:0.3736 | F1:0.0768\n",
      "2022-05-13 04:20:06,074 INFO: val Loss:3.269 | Acc:0.4731 | F1:0.0860\n"
     ]
    },
    {
     "name": "stdout",
     "output_type": "stream",
     "text": [
      "\n",
      "best epoch:46/loss:1.3511/f1:0.1447\n"
     ]
    },
    {
     "name": "stderr",
     "output_type": "stream",
     "text": [
      "100%|████████████████████████████████████████████████████████████████████████████████| 214/214 [02:55<00:00,  1.22it/s]\n",
      "2022-05-13 04:23:01,433 INFO: Epoch:[072/500]\n",
      "2022-05-13 04:23:01,434 INFO: Train Loss:3.393 | Acc:0.3218 | F1:0.0653\n",
      "2022-05-13 04:23:14,183 INFO: val Loss:3.768 | Acc:0.3049 | F1:0.0514\n"
     ]
    },
    {
     "name": "stdout",
     "output_type": "stream",
     "text": [
      "\n",
      "best epoch:46/loss:1.3511/f1:0.1447\n"
     ]
    },
    {
     "name": "stderr",
     "output_type": "stream",
     "text": [
      "100%|████████████████████████████████████████████████████████████████████████████████| 214/214 [02:59<00:00,  1.20it/s]\n",
      "2022-05-13 04:26:13,239 INFO: Epoch:[073/500]\n",
      "2022-05-13 04:26:13,240 INFO: Train Loss:3.437 | Acc:0.2613 | F1:0.0494\n",
      "2022-05-13 04:26:25,895 INFO: val Loss:3.428 | Acc:0.3318 | F1:0.0666\n"
     ]
    },
    {
     "name": "stdout",
     "output_type": "stream",
     "text": [
      "\n",
      "best epoch:46/loss:1.3511/f1:0.1447\n"
     ]
    },
    {
     "name": "stderr",
     "output_type": "stream",
     "text": [
      "100%|████████████████████████████████████████████████████████████████████████████████| 214/214 [02:54<00:00,  1.23it/s]\n",
      "2022-05-13 04:29:20,441 INFO: Epoch:[074/500]\n",
      "2022-05-13 04:29:20,441 INFO: Train Loss:3.377 | Acc:0.2695 | F1:0.0507\n",
      "2022-05-13 04:29:33,129 INFO: val Loss:4.676 | Acc:0.3072 | F1:0.0504\n"
     ]
    },
    {
     "name": "stdout",
     "output_type": "stream",
     "text": [
      "\n",
      "best epoch:46/loss:1.3511/f1:0.1447\n"
     ]
    },
    {
     "name": "stderr",
     "output_type": "stream",
     "text": [
      "100%|████████████████████████████████████████████████████████████████████████████████| 214/214 [02:54<00:00,  1.23it/s]\n",
      "2022-05-13 04:32:27,350 INFO: Epoch:[075/500]\n",
      "2022-05-13 04:32:27,351 INFO: Train Loss:3.382 | Acc:0.2648 | F1:0.0490\n",
      "2022-05-13 04:32:40,008 INFO: val Loss:3.337 | Acc:0.2710 | F1:0.0463\n"
     ]
    },
    {
     "name": "stdout",
     "output_type": "stream",
     "text": [
      "\n",
      "best epoch:46/loss:1.3511/f1:0.1447\n"
     ]
    },
    {
     "name": "stderr",
     "output_type": "stream",
     "text": [
      "100%|████████████████████████████████████████████████████████████████████████████████| 214/214 [02:54<00:00,  1.23it/s]\n",
      "2022-05-13 04:35:34,550 INFO: Epoch:[076/500]\n",
      "2022-05-13 04:35:34,551 INFO: Train Loss:3.372 | Acc:0.2607 | F1:0.0492\n",
      "2022-05-13 04:35:47,226 INFO: val Loss:3.330 | Acc:0.2629 | F1:0.0446\n"
     ]
    },
    {
     "name": "stdout",
     "output_type": "stream",
     "text": [
      "\n",
      "best epoch:46/loss:1.3511/f1:0.1447\n"
     ]
    },
    {
     "name": "stderr",
     "output_type": "stream",
     "text": [
      "100%|████████████████████████████████████████████████████████████████████████████████| 214/214 [02:54<00:00,  1.23it/s]\n",
      "2022-05-13 04:38:41,819 INFO: Epoch:[077/500]\n",
      "2022-05-13 04:38:41,819 INFO: Train Loss:3.376 | Acc:0.2096 | F1:0.0368\n",
      "2022-05-13 04:38:54,480 INFO: val Loss:3.482 | Acc:0.1764 | F1:0.0280\n"
     ]
    },
    {
     "name": "stdout",
     "output_type": "stream",
     "text": [
      "\n",
      "best epoch:46/loss:1.3511/f1:0.1447\n"
     ]
    },
    {
     "name": "stderr",
     "output_type": "stream",
     "text": [
      "100%|████████████████████████████████████████████████████████████████████████████████| 214/214 [02:54<00:00,  1.23it/s]\n",
      "2022-05-13 04:41:48,815 INFO: Epoch:[078/500]\n",
      "2022-05-13 04:41:48,815 INFO: Train Loss:3.411 | Acc:0.1824 | F1:0.0282\n",
      "2022-05-13 04:42:01,470 INFO: val Loss:3.554 | Acc:0.1215 | F1:0.0158\n"
     ]
    },
    {
     "name": "stdout",
     "output_type": "stream",
     "text": [
      "\n",
      "best epoch:46/loss:1.3511/f1:0.1447\n"
     ]
    },
    {
     "name": "stderr",
     "output_type": "stream",
     "text": [
      "100%|████████████████████████████████████████████████████████████████████████████████| 214/214 [02:54<00:00,  1.23it/s]\n",
      "2022-05-13 04:44:55,830 INFO: Epoch:[079/500]\n",
      "2022-05-13 04:44:55,830 INFO: Train Loss:3.338 | Acc:0.1850 | F1:0.0280\n",
      "2022-05-13 04:45:08,490 INFO: val Loss:3.496 | Acc:0.1565 | F1:0.0242\n"
     ]
    },
    {
     "name": "stdout",
     "output_type": "stream",
     "text": [
      "\n",
      "best epoch:46/loss:1.3511/f1:0.1447\n"
     ]
    },
    {
     "name": "stderr",
     "output_type": "stream",
     "text": [
      "100%|████████████████████████████████████████████████████████████████████████████████| 214/214 [02:54<00:00,  1.23it/s]\n",
      "2022-05-13 04:48:02,950 INFO: Epoch:[080/500]\n",
      "2022-05-13 04:48:02,950 INFO: Train Loss:3.322 | Acc:0.1818 | F1:0.0281\n",
      "2022-05-13 04:48:15,608 INFO: val Loss:3.374 | Acc:0.1320 | F1:0.0184\n"
     ]
    },
    {
     "name": "stdout",
     "output_type": "stream",
     "text": [
      "\n",
      "best epoch:46/loss:1.3511/f1:0.1447\n"
     ]
    },
    {
     "name": "stderr",
     "output_type": "stream",
     "text": [
      "100%|████████████████████████████████████████████████████████████████████████████████| 214/214 [02:54<00:00,  1.23it/s]\n",
      "2022-05-13 04:51:09,742 INFO: Epoch:[081/500]\n",
      "2022-05-13 04:51:09,742 INFO: Train Loss:3.266 | Acc:0.1730 | F1:0.0262\n",
      "2022-05-13 04:51:22,388 INFO: val Loss:3.455 | Acc:0.0771 | F1:0.0073\n"
     ]
    },
    {
     "name": "stdout",
     "output_type": "stream",
     "text": [
      "\n",
      "best epoch:46/loss:1.3511/f1:0.1447\n"
     ]
    },
    {
     "name": "stderr",
     "output_type": "stream",
     "text": [
      "100%|████████████████████████████████████████████████████████████████████████████████| 214/214 [02:54<00:00,  1.23it/s]\n",
      "2022-05-13 04:54:16,917 INFO: Epoch:[082/500]\n",
      "2022-05-13 04:54:16,917 INFO: Train Loss:3.310 | Acc:0.1523 | F1:0.0188\n",
      "2022-05-13 04:54:29,565 INFO: val Loss:3.544 | Acc:0.0771 | F1:0.0080\n"
     ]
    },
    {
     "name": "stdout",
     "output_type": "stream",
     "text": [
      "\n",
      "best epoch:46/loss:1.3511/f1:0.1447\n"
     ]
    },
    {
     "name": "stderr",
     "output_type": "stream",
     "text": [
      "100%|████████████████████████████████████████████████████████████████████████████████| 214/214 [02:54<00:00,  1.23it/s]\n",
      "2022-05-13 04:57:23,783 INFO: Epoch:[083/500]\n",
      "2022-05-13 04:57:23,783 INFO: Train Loss:3.292 | Acc:0.1538 | F1:0.0187\n",
      "2022-05-13 04:57:36,432 INFO: val Loss:3.501 | Acc:0.0607 | F1:0.0026\n"
     ]
    },
    {
     "name": "stdout",
     "output_type": "stream",
     "text": [
      "\n",
      "best epoch:46/loss:1.3511/f1:0.1447\n"
     ]
    },
    {
     "name": "stderr",
     "output_type": "stream",
     "text": [
      "100%|████████████████████████████████████████████████████████████████████████████████| 214/214 [02:54<00:00,  1.23it/s]\n",
      "2022-05-13 05:00:31,020 INFO: Epoch:[084/500]\n",
      "2022-05-13 05:00:31,021 INFO: Train Loss:3.273 | Acc:0.1768 | F1:0.0202\n",
      "2022-05-13 05:00:43,663 INFO: val Loss:3.410 | Acc:0.1542 | F1:0.0163\n"
     ]
    },
    {
     "name": "stdout",
     "output_type": "stream",
     "text": [
      "\n",
      "best epoch:46/loss:1.3511/f1:0.1447\n"
     ]
    },
    {
     "name": "stderr",
     "output_type": "stream",
     "text": [
      "100%|████████████████████████████████████████████████████████████████████████████████| 214/214 [02:54<00:00,  1.23it/s]\n",
      "2022-05-13 05:03:37,921 INFO: Epoch:[085/500]\n",
      "2022-05-13 05:03:37,921 INFO: Train Loss:3.202 | Acc:0.2046 | F1:0.0214\n",
      "2022-05-13 05:03:50,572 INFO: val Loss:3.499 | Acc:0.1203 | F1:0.0088\n"
     ]
    },
    {
     "name": "stdout",
     "output_type": "stream",
     "text": [
      "\n",
      "best epoch:46/loss:1.3511/f1:0.1447\n"
     ]
    },
    {
     "name": "stderr",
     "output_type": "stream",
     "text": [
      "100%|████████████████████████████████████████████████████████████████████████████████| 214/214 [02:54<00:00,  1.23it/s]\n",
      "2022-05-13 05:06:45,170 INFO: Epoch:[086/500]\n",
      "2022-05-13 05:06:45,171 INFO: Train Loss:3.190 | Acc:0.1964 | F1:0.0197\n",
      "2022-05-13 05:06:57,834 INFO: val Loss:3.353 | Acc:0.1005 | F1:0.0037\n"
     ]
    },
    {
     "name": "stdout",
     "output_type": "stream",
     "text": [
      "\n",
      "best epoch:46/loss:1.3511/f1:0.1447\n"
     ]
    },
    {
     "name": "stderr",
     "output_type": "stream",
     "text": [
      "100%|████████████████████████████████████████████████████████████████████████████████| 214/214 [02:54<00:00,  1.23it/s]\n",
      "2022-05-13 05:09:51,941 INFO: Epoch:[087/500]\n",
      "2022-05-13 05:09:51,942 INFO: Train Loss:3.119 | Acc:0.1967 | F1:0.0189\n",
      "2022-05-13 05:10:04,608 INFO: val Loss:3.185 | Acc:0.1577 | F1:0.0157\n"
     ]
    },
    {
     "name": "stdout",
     "output_type": "stream",
     "text": [
      "\n",
      "best epoch:46/loss:1.3511/f1:0.1447\n"
     ]
    },
    {
     "name": "stderr",
     "output_type": "stream",
     "text": [
      "100%|████████████████████████████████████████████████████████████████████████████████| 214/214 [02:54<00:00,  1.23it/s]\n",
      "2022-05-13 05:12:58,902 INFO: Epoch:[088/500]\n",
      "2022-05-13 05:12:58,903 INFO: Train Loss:3.107 | Acc:0.1842 | F1:0.0174\n",
      "2022-05-13 05:13:11,551 INFO: val Loss:3.353 | Acc:0.0970 | F1:0.0033\n"
     ]
    },
    {
     "name": "stdout",
     "output_type": "stream",
     "text": [
      "\n",
      "best epoch:46/loss:1.3511/f1:0.1447\n"
     ]
    },
    {
     "name": "stderr",
     "output_type": "stream",
     "text": [
      "100%|████████████████████████████████████████████████████████████████████████████████| 214/214 [02:54<00:00,  1.23it/s]\n",
      "2022-05-13 05:16:06,047 INFO: Epoch:[089/500]\n",
      "2022-05-13 05:16:06,048 INFO: Train Loss:3.098 | Acc:0.2014 | F1:0.0188\n",
      "2022-05-13 05:16:18,700 INFO: val Loss:27.780 | Acc:0.0561 | F1:0.0024\n"
     ]
    },
    {
     "name": "stdout",
     "output_type": "stream",
     "text": [
      "\n",
      "best epoch:46/loss:1.3511/f1:0.1447\n"
     ]
    },
    {
     "name": "stderr",
     "output_type": "stream",
     "text": [
      "100%|████████████████████████████████████████████████████████████████████████████████| 214/214 [02:54<00:00,  1.23it/s]\n",
      "2022-05-13 05:19:13,022 INFO: Epoch:[090/500]\n",
      "2022-05-13 05:19:13,022 INFO: Train Loss:3.109 | Acc:0.1780 | F1:0.0147\n",
      "2022-05-13 05:19:25,663 INFO: val Loss:2.990 | Acc:0.1717 | F1:0.0145\n"
     ]
    },
    {
     "name": "stdout",
     "output_type": "stream",
     "text": [
      "\n",
      "best epoch:46/loss:1.3511/f1:0.1447\n"
     ]
    },
    {
     "name": "stderr",
     "output_type": "stream",
     "text": [
      "100%|████████████████████████████████████████████████████████████████████████████████| 214/214 [02:55<00:00,  1.22it/s]\n",
      "2022-05-13 05:22:21,091 INFO: Epoch:[091/500]\n",
      "2022-05-13 05:22:21,091 INFO: Train Loss:3.122 | Acc:0.1502 | F1:0.0134\n",
      "2022-05-13 05:22:33,982 INFO: val Loss:3.177 | Acc:0.1320 | F1:0.0087\n"
     ]
    },
    {
     "name": "stdout",
     "output_type": "stream",
     "text": [
      "\n",
      "best epoch:46/loss:1.3511/f1:0.1447\n"
     ]
    },
    {
     "name": "stderr",
     "output_type": "stream",
     "text": [
      "100%|████████████████████████████████████████████████████████████████████████████████| 214/214 [02:55<00:00,  1.22it/s]\n",
      "2022-05-13 05:25:29,016 INFO: Epoch:[092/500]\n",
      "2022-05-13 05:25:29,016 INFO: Train Loss:3.081 | Acc:0.1652 | F1:0.0157\n",
      "2022-05-13 05:25:41,675 INFO: val Loss:3.221 | Acc:0.0713 | F1:0.0027\n"
     ]
    },
    {
     "name": "stdout",
     "output_type": "stream",
     "text": [
      "\n",
      "best epoch:46/loss:1.3511/f1:0.1447\n"
     ]
    },
    {
     "name": "stderr",
     "output_type": "stream",
     "text": [
      "100%|████████████████████████████████████████████████████████████████████████████████| 214/214 [02:54<00:00,  1.23it/s]\n",
      "2022-05-13 05:28:35,973 INFO: Epoch:[093/500]\n",
      "2022-05-13 05:28:35,974 INFO: Train Loss:3.026 | Acc:0.1792 | F1:0.0165\n",
      "2022-05-13 05:28:48,620 INFO: val Loss:3.285 | Acc:0.0911 | F1:0.0024\n"
     ]
    },
    {
     "name": "stdout",
     "output_type": "stream",
     "text": [
      "\n",
      "best epoch:46/loss:1.3511/f1:0.1447\n"
     ]
    },
    {
     "name": "stderr",
     "output_type": "stream",
     "text": [
      "100%|████████████████████████████████████████████████████████████████████████████████| 214/214 [02:54<00:00,  1.23it/s]\n",
      "2022-05-13 05:31:42,948 INFO: Epoch:[094/500]\n",
      "2022-05-13 05:31:42,949 INFO: Train Loss:3.031 | Acc:0.1912 | F1:0.0169\n",
      "2022-05-13 05:31:55,616 INFO: val Loss:3.067 | Acc:0.1542 | F1:0.0093\n"
     ]
    },
    {
     "name": "stdout",
     "output_type": "stream",
     "text": [
      "\n",
      "best epoch:46/loss:1.3511/f1:0.1447\n"
     ]
    },
    {
     "name": "stderr",
     "output_type": "stream",
     "text": [
      "100%|████████████████████████████████████████████████████████████████████████████████| 214/214 [02:54<00:00,  1.23it/s]\n",
      "2022-05-13 05:34:50,233 INFO: Epoch:[095/500]\n",
      "2022-05-13 05:34:50,234 INFO: Train Loss:2.998 | Acc:0.1900 | F1:0.0169\n",
      "2022-05-13 05:35:02,908 INFO: val Loss:3.144 | Acc:0.1180 | F1:0.0060\n"
     ]
    },
    {
     "name": "stdout",
     "output_type": "stream",
     "text": [
      "\n",
      "best epoch:46/loss:1.3511/f1:0.1447\n"
     ]
    },
    {
     "name": "stderr",
     "output_type": "stream",
     "text": [
      "100%|████████████████████████████████████████████████████████████████████████████████| 214/214 [02:54<00:00,  1.23it/s]\n",
      "2022-05-13 05:37:56,980 INFO: Epoch:[096/500]\n",
      "2022-05-13 05:37:56,981 INFO: Train Loss:2.983 | Acc:0.2140 | F1:0.0225\n",
      "2022-05-13 05:38:09,670 INFO: val Loss:5.455 | Acc:0.1530 | F1:0.0130\n",
      "2022-05-13 05:38:09,671 INFO: \n",
      "Best Val Epoch:46 | Val Loss:1.3511 | Val Acc:0.8353 | Val F1:0.1447\n",
      "2022-05-13 05:38:09,671 INFO: Total Process time:347.799Minute\n",
      "2022-05-13 05:38:09,673 INFO: {'exp_num': '2', 'data_path': './data', 'Kfold': 5, 'model_path': 'results/', 'encoder_name': 'regnety_160', 'drop_path_rate': 0.2, 'img_size': 224, 'batch_size': 16, 'epochs': 500, 'optimizer': 'Lamb', 'initial_lr': 5e-06, 'weight_decay': 0.001, 'aug_ver': 2, 'scheduler': 'cycle', 'warm_epoch': 5, 'max_lr': 0.001, 'min_lr': 5e-06, 'tmax': 145, 'patience': 50, 'clipping': None, 'amp': True, 'multi_gpu': False, 'logging': False, 'num_workers': 0, 'seed': 42, 'fold': 2}\n"
     ]
    },
    {
     "name": "stdout",
     "output_type": "stream",
     "text": [
      "<---- Training Params ---->\n",
      "Read train_df.csv\n",
      "Dataset size:3422\n",
      "Dataset size:855\n"
     ]
    },
    {
     "name": "stderr",
     "output_type": "stream",
     "text": [
      "2022-05-13 05:38:10,443 INFO: Loading pretrained weights from url (https://dl.fbaipublicfiles.com/deit/regnety_160-a5fe301d.pth)\n",
      "2022-05-13 05:38:11,456 INFO: Computational complexity:       15.93 GMac\n",
      "2022-05-13 05:38:11,456 INFO: Number of parameters:           80.83 M \n",
      "100%|████████████████████████████████████████████████████████████████████████████████| 214/214 [03:11<00:00,  1.12it/s]\n",
      "2022-05-13 05:41:22,941 INFO: Epoch:[001/500]\n",
      "2022-05-13 05:41:22,941 INFO: Train Loss:4.486 | Acc:0.0094 | F1:0.0053\n",
      "2022-05-13 05:41:37,755 INFO: val Loss:4.544 | Acc:0.0000 | F1:0.0000\n",
      "2022-05-13 05:41:39,447 INFO: -----------------SAVE:1epoch----------------\n"
     ]
    },
    {
     "name": "stdout",
     "output_type": "stream",
     "text": [
      "\n",
      "best epoch:1/loss:4.5444/f1:0.0000\n"
     ]
    },
    {
     "name": "stderr",
     "output_type": "stream",
     "text": [
      "100%|████████████████████████████████████████████████████████████████████████████████| 214/214 [02:55<00:00,  1.22it/s]\n",
      "2022-05-13 05:44:34,553 INFO: Epoch:[002/500]\n",
      "2022-05-13 05:44:34,554 INFO: Train Loss:4.483 | Acc:0.0108 | F1:0.0043\n",
      "2022-05-13 05:44:47,209 INFO: val Loss:4.530 | Acc:0.0000 | F1:0.0000\n",
      "2022-05-13 05:44:50,270 INFO: -----------------SAVE:2epoch----------------\n"
     ]
    },
    {
     "name": "stdout",
     "output_type": "stream",
     "text": [
      "\n",
      "best epoch:2/loss:4.5296/f1:0.0000\n"
     ]
    },
    {
     "name": "stderr",
     "output_type": "stream",
     "text": [
      "100%|████████████████████████████████████████████████████████████████████████████████| 214/214 [02:54<00:00,  1.22it/s]\n",
      "2022-05-13 05:47:45,087 INFO: Epoch:[003/500]\n",
      "2022-05-13 05:47:45,087 INFO: Train Loss:4.482 | Acc:0.0114 | F1:0.0032\n",
      "2022-05-13 05:47:57,744 INFO: val Loss:4.532 | Acc:0.0000 | F1:0.0000\n"
     ]
    },
    {
     "name": "stdout",
     "output_type": "stream",
     "text": [
      "\n",
      "best epoch:2/loss:4.5296/f1:0.0000\n"
     ]
    },
    {
     "name": "stderr",
     "output_type": "stream",
     "text": [
      "100%|████████████████████████████████████████████████████████████████████████████████| 214/214 [02:54<00:00,  1.22it/s]\n",
      "2022-05-13 05:50:52,588 INFO: Epoch:[004/500]\n",
      "2022-05-13 05:50:52,588 INFO: Train Loss:4.479 | Acc:0.0096 | F1:0.0029\n",
      "2022-05-13 05:51:05,240 INFO: val Loss:4.530 | Acc:0.0000 | F1:0.0000\n"
     ]
    },
    {
     "name": "stdout",
     "output_type": "stream",
     "text": [
      "\n",
      "best epoch:2/loss:4.5296/f1:0.0000\n"
     ]
    },
    {
     "name": "stderr",
     "output_type": "stream",
     "text": [
      "100%|████████████████████████████████████████████████████████████████████████████████| 214/214 [02:54<00:00,  1.23it/s]\n",
      "2022-05-13 05:53:59,829 INFO: Epoch:[005/500]\n",
      "2022-05-13 05:53:59,830 INFO: Train Loss:4.468 | Acc:0.0123 | F1:0.0038\n",
      "2022-05-13 05:54:12,519 INFO: val Loss:4.532 | Acc:0.0000 | F1:0.0000\n"
     ]
    },
    {
     "name": "stdout",
     "output_type": "stream",
     "text": [
      "\n",
      "best epoch:2/loss:4.5296/f1:0.0000\n"
     ]
    },
    {
     "name": "stderr",
     "output_type": "stream",
     "text": [
      "100%|████████████████████████████████████████████████████████████████████████████████| 214/214 [02:54<00:00,  1.23it/s]\n",
      "2022-05-13 05:57:07,215 INFO: Epoch:[006/500]\n",
      "2022-05-13 05:57:07,215 INFO: Train Loss:4.437 | Acc:0.0184 | F1:0.0057\n",
      "2022-05-13 05:57:19,870 INFO: val Loss:4.482 | Acc:0.0012 | F1:0.0001\n",
      "2022-05-13 05:57:21,756 INFO: -----------------SAVE:6epoch----------------\n"
     ]
    },
    {
     "name": "stdout",
     "output_type": "stream",
     "text": [
      "\n",
      "best epoch:6/loss:4.4818/f1:0.0001\n"
     ]
    },
    {
     "name": "stderr",
     "output_type": "stream",
     "text": [
      "100%|████████████████████████████████████████████████████████████████████████████████| 214/214 [02:54<00:00,  1.22it/s]\n",
      "2022-05-13 06:00:16,651 INFO: Epoch:[007/500]\n",
      "2022-05-13 06:00:16,651 INFO: Train Loss:4.368 | Acc:0.0397 | F1:0.0072\n",
      "2022-05-13 06:00:29,311 INFO: val Loss:4.422 | Acc:0.0117 | F1:0.0011\n",
      "2022-05-13 06:00:31,016 INFO: -----------------SAVE:7epoch----------------\n"
     ]
    },
    {
     "name": "stdout",
     "output_type": "stream",
     "text": [
      "\n",
      "best epoch:7/loss:4.4218/f1:0.0011\n"
     ]
    },
    {
     "name": "stderr",
     "output_type": "stream",
     "text": [
      "100%|████████████████████████████████████████████████████████████████████████████████| 214/214 [02:55<00:00,  1.22it/s]\n",
      "2022-05-13 06:03:26,229 INFO: Epoch:[008/500]\n",
      "2022-05-13 06:03:26,229 INFO: Train Loss:4.293 | Acc:0.0593 | F1:0.0103\n",
      "2022-05-13 06:03:38,905 INFO: val Loss:4.379 | Acc:0.0211 | F1:0.0025\n",
      "2022-05-13 06:03:40,694 INFO: -----------------SAVE:8epoch----------------\n"
     ]
    },
    {
     "name": "stdout",
     "output_type": "stream",
     "text": [
      "\n",
      "best epoch:8/loss:4.3791/f1:0.0025\n"
     ]
    },
    {
     "name": "stderr",
     "output_type": "stream",
     "text": [
      "100%|████████████████████████████████████████████████████████████████████████████████| 214/214 [02:55<00:00,  1.22it/s]\n",
      "2022-05-13 06:06:35,749 INFO: Epoch:[009/500]\n",
      "2022-05-13 06:06:35,750 INFO: Train Loss:4.224 | Acc:0.0786 | F1:0.0085\n",
      "2022-05-13 06:06:48,437 INFO: val Loss:4.321 | Acc:0.0304 | F1:0.0033\n",
      "2022-05-13 06:06:50,173 INFO: -----------------SAVE:9epoch----------------\n"
     ]
    },
    {
     "name": "stdout",
     "output_type": "stream",
     "text": [
      "\n",
      "best epoch:9/loss:4.3212/f1:0.0033\n"
     ]
    },
    {
     "name": "stderr",
     "output_type": "stream",
     "text": [
      "100%|████████████████████████████████████████████████████████████████████████████████| 214/214 [02:54<00:00,  1.22it/s]\n",
      "2022-05-13 06:09:45,015 INFO: Epoch:[010/500]\n",
      "2022-05-13 06:09:45,015 INFO: Train Loss:4.149 | Acc:0.0877 | F1:0.0098\n",
      "2022-05-13 06:09:57,686 INFO: val Loss:4.271 | Acc:0.0374 | F1:0.0031\n",
      "2022-05-13 06:09:59,441 INFO: -----------------SAVE:10epoch----------------\n"
     ]
    },
    {
     "name": "stdout",
     "output_type": "stream",
     "text": [
      "\n",
      "best epoch:10/loss:4.2706/f1:0.0031\n"
     ]
    },
    {
     "name": "stderr",
     "output_type": "stream",
     "text": [
      "100%|████████████████████████████████████████████████████████████████████████████████| 214/214 [02:55<00:00,  1.22it/s]\n",
      "2022-05-13 06:12:54,503 INFO: Epoch:[011/500]\n",
      "2022-05-13 06:12:54,504 INFO: Train Loss:4.083 | Acc:0.1020 | F1:0.0111\n",
      "2022-05-13 06:13:07,174 INFO: val Loss:4.218 | Acc:0.0468 | F1:0.0043\n",
      "2022-05-13 06:13:08,926 INFO: -----------------SAVE:11epoch----------------\n"
     ]
    },
    {
     "name": "stdout",
     "output_type": "stream",
     "text": [
      "\n",
      "best epoch:11/loss:4.2179/f1:0.0043\n"
     ]
    },
    {
     "name": "stderr",
     "output_type": "stream",
     "text": [
      "100%|████████████████████████████████████████████████████████████████████████████████| 214/214 [02:54<00:00,  1.22it/s]\n",
      "2022-05-13 06:16:03,848 INFO: Epoch:[012/500]\n",
      "2022-05-13 06:16:03,849 INFO: Train Loss:4.012 | Acc:0.1090 | F1:0.0117\n",
      "2022-05-13 06:16:16,520 INFO: val Loss:4.156 | Acc:0.0561 | F1:0.0048\n",
      "2022-05-13 06:16:18,247 INFO: -----------------SAVE:12epoch----------------\n"
     ]
    },
    {
     "name": "stdout",
     "output_type": "stream",
     "text": [
      "\n",
      "best epoch:12/loss:4.1559/f1:0.0048\n"
     ]
    },
    {
     "name": "stderr",
     "output_type": "stream",
     "text": [
      "100%|████████████████████████████████████████████████████████████████████████████████| 214/214 [02:54<00:00,  1.23it/s]\n",
      "2022-05-13 06:19:12,834 INFO: Epoch:[013/500]\n",
      "2022-05-13 06:19:12,834 INFO: Train Loss:3.938 | Acc:0.1277 | F1:0.0149\n",
      "2022-05-13 06:19:25,505 INFO: val Loss:4.102 | Acc:0.0632 | F1:0.0054\n",
      "2022-05-13 06:19:27,222 INFO: -----------------SAVE:13epoch----------------\n"
     ]
    },
    {
     "name": "stdout",
     "output_type": "stream",
     "text": [
      "\n",
      "best epoch:13/loss:4.1022/f1:0.0054\n"
     ]
    },
    {
     "name": "stderr",
     "output_type": "stream",
     "text": [
      "100%|████████████████████████████████████████████████████████████████████████████████| 214/214 [02:54<00:00,  1.22it/s]\n",
      "2022-05-13 06:22:22,149 INFO: Epoch:[014/500]\n",
      "2022-05-13 06:22:22,149 INFO: Train Loss:3.865 | Acc:0.1435 | F1:0.0166\n",
      "2022-05-13 06:22:34,834 INFO: val Loss:4.030 | Acc:0.0854 | F1:0.0079\n",
      "2022-05-13 06:22:36,549 INFO: -----------------SAVE:14epoch----------------\n"
     ]
    },
    {
     "name": "stdout",
     "output_type": "stream",
     "text": [
      "\n",
      "best epoch:14/loss:4.0302/f1:0.0079\n"
     ]
    },
    {
     "name": "stderr",
     "output_type": "stream",
     "text": [
      "100%|████████████████████████████████████████████████████████████████████████████████| 214/214 [02:54<00:00,  1.22it/s]\n",
      "2022-05-13 06:25:31,274 INFO: Epoch:[015/500]\n",
      "2022-05-13 06:25:31,274 INFO: Train Loss:3.799 | Acc:0.1639 | F1:0.0194\n",
      "2022-05-13 06:25:43,967 INFO: val Loss:3.960 | Acc:0.1099 | F1:0.0093\n",
      "2022-05-13 06:25:45,702 INFO: -----------------SAVE:15epoch----------------\n"
     ]
    },
    {
     "name": "stdout",
     "output_type": "stream",
     "text": [
      "\n",
      "best epoch:15/loss:3.9604/f1:0.0093\n"
     ]
    },
    {
     "name": "stderr",
     "output_type": "stream",
     "text": [
      "100%|████████████████████████████████████████████████████████████████████████████████| 214/214 [02:54<00:00,  1.23it/s]\n",
      "2022-05-13 06:28:40,358 INFO: Epoch:[016/500]\n",
      "2022-05-13 06:28:40,358 INFO: Train Loss:3.728 | Acc:0.1742 | F1:0.0204\n",
      "2022-05-13 06:28:53,081 INFO: val Loss:3.950 | Acc:0.1427 | F1:0.0114\n",
      "2022-05-13 06:28:54,823 INFO: -----------------SAVE:16epoch----------------\n"
     ]
    },
    {
     "name": "stdout",
     "output_type": "stream",
     "text": [
      "\n",
      "best epoch:16/loss:3.9504/f1:0.0114\n"
     ]
    },
    {
     "name": "stderr",
     "output_type": "stream",
     "text": [
      "100%|████████████████████████████████████████████████████████████████████████████████| 214/214 [02:54<00:00,  1.22it/s]\n",
      "2022-05-13 06:31:49,699 INFO: Epoch:[017/500]\n",
      "2022-05-13 06:31:49,699 INFO: Train Loss:3.654 | Acc:0.2116 | F1:0.0265\n",
      "2022-05-13 06:32:02,370 INFO: val Loss:3.881 | Acc:0.1497 | F1:0.0130\n",
      "2022-05-13 06:32:04,132 INFO: -----------------SAVE:17epoch----------------\n"
     ]
    },
    {
     "name": "stdout",
     "output_type": "stream",
     "text": [
      "\n",
      "best epoch:17/loss:3.8806/f1:0.0130\n"
     ]
    },
    {
     "name": "stderr",
     "output_type": "stream",
     "text": [
      "100%|████████████████████████████████████████████████████████████████████████████████| 214/214 [02:54<00:00,  1.22it/s]\n",
      "2022-05-13 06:34:58,937 INFO: Epoch:[018/500]\n",
      "2022-05-13 06:34:58,937 INFO: Train Loss:3.581 | Acc:0.2253 | F1:0.0285\n",
      "2022-05-13 06:35:11,605 INFO: val Loss:3.829 | Acc:0.1708 | F1:0.0154\n",
      "2022-05-13 06:35:13,338 INFO: -----------------SAVE:18epoch----------------\n"
     ]
    },
    {
     "name": "stdout",
     "output_type": "stream",
     "text": [
      "\n",
      "best epoch:18/loss:3.8286/f1:0.0154\n"
     ]
    },
    {
     "name": "stderr",
     "output_type": "stream",
     "text": [
      "100%|████████████████████████████████████████████████████████████████████████████████| 214/214 [02:54<00:00,  1.22it/s]\n",
      "2022-05-13 06:38:08,248 INFO: Epoch:[019/500]\n",
      "2022-05-13 06:38:08,248 INFO: Train Loss:3.511 | Acc:0.2566 | F1:0.0350\n",
      "2022-05-13 06:38:20,907 INFO: val Loss:3.726 | Acc:0.2035 | F1:0.0206\n",
      "2022-05-13 06:38:22,617 INFO: -----------------SAVE:19epoch----------------\n"
     ]
    },
    {
     "name": "stdout",
     "output_type": "stream",
     "text": [
      "\n",
      "best epoch:19/loss:3.7265/f1:0.0206\n"
     ]
    },
    {
     "name": "stderr",
     "output_type": "stream",
     "text": [
      "100%|████████████████████████████████████████████████████████████████████████████████| 214/214 [02:54<00:00,  1.22it/s]\n",
      "2022-05-13 06:41:17,561 INFO: Epoch:[020/500]\n",
      "2022-05-13 06:41:17,561 INFO: Train Loss:3.446 | Acc:0.2919 | F1:0.0403\n",
      "2022-05-13 06:41:30,215 INFO: val Loss:3.645 | Acc:0.2421 | F1:0.0281\n",
      "2022-05-13 06:41:31,918 INFO: -----------------SAVE:20epoch----------------\n"
     ]
    },
    {
     "name": "stdout",
     "output_type": "stream",
     "text": [
      "\n",
      "best epoch:20/loss:3.6446/f1:0.0281\n"
     ]
    },
    {
     "name": "stderr",
     "output_type": "stream",
     "text": [
      "100%|████████████████████████████████████████████████████████████████████████████████| 214/214 [02:54<00:00,  1.22it/s]\n",
      "2022-05-13 06:44:26,828 INFO: Epoch:[021/500]\n",
      "2022-05-13 06:44:26,828 INFO: Train Loss:3.365 | Acc:0.3320 | F1:0.0474\n",
      "2022-05-13 06:44:39,491 INFO: val Loss:3.620 | Acc:0.2737 | F1:0.0355\n",
      "2022-05-13 06:44:41,210 INFO: -----------------SAVE:21epoch----------------\n"
     ]
    },
    {
     "name": "stdout",
     "output_type": "stream",
     "text": [
      "\n",
      "best epoch:21/loss:3.6197/f1:0.0355\n"
     ]
    },
    {
     "name": "stderr",
     "output_type": "stream",
     "text": [
      "100%|████████████████████████████████████████████████████████████████████████████████| 214/214 [02:54<00:00,  1.22it/s]\n",
      "2022-05-13 06:47:36,140 INFO: Epoch:[022/500]\n",
      "2022-05-13 06:47:36,140 INFO: Train Loss:3.281 | Acc:0.3717 | F1:0.0562\n",
      "2022-05-13 06:47:48,797 INFO: val Loss:3.491 | Acc:0.3661 | F1:0.0529\n",
      "2022-05-13 06:47:50,642 INFO: -----------------SAVE:22epoch----------------\n"
     ]
    },
    {
     "name": "stdout",
     "output_type": "stream",
     "text": [
      "\n",
      "best epoch:22/loss:3.4908/f1:0.0529\n"
     ]
    },
    {
     "name": "stderr",
     "output_type": "stream",
     "text": [
      "100%|████████████████████████████████████████████████████████████████████████████████| 214/214 [02:54<00:00,  1.22it/s]\n",
      "2022-05-13 06:50:45,376 INFO: Epoch:[023/500]\n",
      "2022-05-13 06:50:45,376 INFO: Train Loss:3.209 | Acc:0.4202 | F1:0.0667\n",
      "2022-05-13 06:50:58,052 INFO: val Loss:3.413 | Acc:0.4012 | F1:0.0575\n",
      "2022-05-13 06:50:59,790 INFO: -----------------SAVE:23epoch----------------\n"
     ]
    },
    {
     "name": "stdout",
     "output_type": "stream",
     "text": [
      "\n",
      "best epoch:23/loss:3.4131/f1:0.0575\n"
     ]
    },
    {
     "name": "stderr",
     "output_type": "stream",
     "text": [
      "100%|████████████████████████████████████████████████████████████████████████████████| 214/214 [02:54<00:00,  1.22it/s]\n",
      "2022-05-13 06:53:54,646 INFO: Epoch:[024/500]\n",
      "2022-05-13 06:53:54,647 INFO: Train Loss:3.146 | Acc:0.4699 | F1:0.0778\n",
      "2022-05-13 06:54:07,342 INFO: val Loss:3.354 | Acc:0.4573 | F1:0.0688\n",
      "2022-05-13 06:54:09,085 INFO: -----------------SAVE:24epoch----------------\n"
     ]
    },
    {
     "name": "stdout",
     "output_type": "stream",
     "text": [
      "\n",
      "best epoch:24/loss:3.3539/f1:0.0688\n"
     ]
    },
    {
     "name": "stderr",
     "output_type": "stream",
     "text": [
      "100%|████████████████████████████████████████████████████████████████████████████████| 214/214 [02:54<00:00,  1.22it/s]\n",
      "2022-05-13 06:57:03,829 INFO: Epoch:[025/500]\n",
      "2022-05-13 06:57:03,829 INFO: Train Loss:3.065 | Acc:0.5094 | F1:0.0866\n",
      "2022-05-13 06:57:16,527 INFO: val Loss:3.289 | Acc:0.5298 | F1:0.0838\n",
      "2022-05-13 06:57:18,236 INFO: -----------------SAVE:25epoch----------------\n"
     ]
    },
    {
     "name": "stdout",
     "output_type": "stream",
     "text": [
      "\n",
      "best epoch:25/loss:3.2891/f1:0.0838\n"
     ]
    },
    {
     "name": "stderr",
     "output_type": "stream",
     "text": [
      "100%|████████████████████████████████████████████████████████████████████████████████| 214/214 [02:54<00:00,  1.22it/s]\n",
      "2022-05-13 07:00:13,164 INFO: Epoch:[026/500]\n",
      "2022-05-13 07:00:13,164 INFO: Train Loss:2.989 | Acc:0.5567 | F1:0.0952\n",
      "2022-05-13 07:00:25,826 INFO: val Loss:3.211 | Acc:0.6035 | F1:0.0990\n",
      "2022-05-13 07:00:27,552 INFO: -----------------SAVE:26epoch----------------\n"
     ]
    },
    {
     "name": "stdout",
     "output_type": "stream",
     "text": [
      "\n",
      "best epoch:26/loss:3.2109/f1:0.0990\n"
     ]
    },
    {
     "name": "stderr",
     "output_type": "stream",
     "text": [
      "100%|████████████████████████████████████████████████████████████████████████████████| 214/214 [02:55<00:00,  1.22it/s]\n",
      "2022-05-13 07:03:23,010 INFO: Epoch:[027/500]\n",
      "2022-05-13 07:03:23,011 INFO: Train Loss:2.922 | Acc:0.6096 | F1:0.1058\n",
      "2022-05-13 07:03:35,688 INFO: val Loss:3.142 | Acc:0.6398 | F1:0.1066\n",
      "2022-05-13 07:03:37,426 INFO: -----------------SAVE:27epoch----------------\n"
     ]
    },
    {
     "name": "stdout",
     "output_type": "stream",
     "text": [
      "\n",
      "best epoch:27/loss:3.1424/f1:0.1066\n"
     ]
    },
    {
     "name": "stderr",
     "output_type": "stream",
     "text": [
      "100%|████████████████████████████████████████████████████████████████████████████████| 214/214 [02:54<00:00,  1.22it/s]\n",
      "2022-05-13 07:06:32,160 INFO: Epoch:[028/500]\n",
      "2022-05-13 07:06:32,160 INFO: Train Loss:2.851 | Acc:0.6645 | F1:0.1155\n",
      "2022-05-13 07:06:44,834 INFO: val Loss:3.034 | Acc:0.7041 | F1:0.1175\n",
      "2022-05-13 07:06:46,547 INFO: -----------------SAVE:28epoch----------------\n"
     ]
    },
    {
     "name": "stdout",
     "output_type": "stream",
     "text": [
      "\n",
      "best epoch:28/loss:3.0344/f1:0.1175\n"
     ]
    },
    {
     "name": "stderr",
     "output_type": "stream",
     "text": [
      "100%|████████████████████████████████████████████████████████████████████████████████| 214/214 [02:54<00:00,  1.23it/s]\n",
      "2022-05-13 07:09:41,230 INFO: Epoch:[029/500]\n",
      "2022-05-13 07:09:41,231 INFO: Train Loss:2.789 | Acc:0.6917 | F1:0.1207\n",
      "2022-05-13 07:09:53,894 INFO: val Loss:2.920 | Acc:0.7462 | F1:0.1266\n",
      "2022-05-13 07:09:55,645 INFO: -----------------SAVE:29epoch----------------\n"
     ]
    },
    {
     "name": "stdout",
     "output_type": "stream",
     "text": [
      "\n",
      "best epoch:29/loss:2.9197/f1:0.1266\n"
     ]
    },
    {
     "name": "stderr",
     "output_type": "stream",
     "text": [
      "100%|████████████████████████████████████████████████████████████████████████████████| 214/214 [02:54<00:00,  1.22it/s]\n",
      "2022-05-13 07:12:50,366 INFO: Epoch:[030/500]\n",
      "2022-05-13 07:12:50,367 INFO: Train Loss:2.696 | Acc:0.7329 | F1:0.1283\n",
      "2022-05-13 07:13:03,056 INFO: val Loss:2.808 | Acc:0.7591 | F1:0.1286\n",
      "2022-05-13 07:13:04,950 INFO: -----------------SAVE:30epoch----------------\n"
     ]
    },
    {
     "name": "stdout",
     "output_type": "stream",
     "text": [
      "\n",
      "best epoch:30/loss:2.8076/f1:0.1286\n"
     ]
    },
    {
     "name": "stderr",
     "output_type": "stream",
     "text": [
      "100%|████████████████████████████████████████████████████████████████████████████████| 214/214 [02:54<00:00,  1.22it/s]\n",
      "2022-05-13 07:15:59,735 INFO: Epoch:[031/500]\n",
      "2022-05-13 07:15:59,736 INFO: Train Loss:2.606 | Acc:0.7504 | F1:0.1311\n",
      "2022-05-13 07:16:12,438 INFO: val Loss:2.740 | Acc:0.7684 | F1:0.1309\n",
      "2022-05-13 07:16:14,223 INFO: -----------------SAVE:31epoch----------------\n"
     ]
    },
    {
     "name": "stdout",
     "output_type": "stream",
     "text": [
      "\n",
      "best epoch:31/loss:2.7401/f1:0.1309\n"
     ]
    },
    {
     "name": "stderr",
     "output_type": "stream",
     "text": [
      "100%|████████████████████████████████████████████████████████████████████████████████| 214/214 [02:54<00:00,  1.22it/s]\n",
      "2022-05-13 07:19:08,929 INFO: Epoch:[032/500]\n",
      "2022-05-13 07:19:08,930 INFO: Train Loss:2.508 | Acc:0.7724 | F1:0.1352\n",
      "2022-05-13 07:19:21,590 INFO: val Loss:2.587 | Acc:0.7895 | F1:0.1363\n",
      "2022-05-13 07:19:23,303 INFO: -----------------SAVE:32epoch----------------\n"
     ]
    },
    {
     "name": "stdout",
     "output_type": "stream",
     "text": [
      "\n",
      "best epoch:32/loss:2.5873/f1:0.1363\n"
     ]
    },
    {
     "name": "stderr",
     "output_type": "stream",
     "text": [
      "100%|████████████████████████████████████████████████████████████████████████████████| 214/214 [02:54<00:00,  1.22it/s]\n",
      "2022-05-13 07:22:18,013 INFO: Epoch:[033/500]\n",
      "2022-05-13 07:22:18,013 INFO: Train Loss:2.422 | Acc:0.7832 | F1:0.1367\n",
      "2022-05-13 07:22:30,676 INFO: val Loss:2.434 | Acc:0.8023 | F1:0.1392\n",
      "2022-05-13 07:22:32,387 INFO: -----------------SAVE:33epoch----------------\n"
     ]
    },
    {
     "name": "stdout",
     "output_type": "stream",
     "text": [
      "\n",
      "best epoch:33/loss:2.4344/f1:0.1392\n"
     ]
    },
    {
     "name": "stderr",
     "output_type": "stream",
     "text": [
      "100%|████████████████████████████████████████████████████████████████████████████████| 214/214 [02:54<00:00,  1.22it/s]\n",
      "2022-05-13 07:25:27,130 INFO: Epoch:[034/500]\n",
      "2022-05-13 07:25:27,130 INFO: Train Loss:2.335 | Acc:0.7954 | F1:0.1385\n",
      "2022-05-13 07:25:39,792 INFO: val Loss:2.328 | Acc:0.7953 | F1:0.1369\n",
      "2022-05-13 07:25:41,496 INFO: -----------------SAVE:34epoch----------------\n"
     ]
    },
    {
     "name": "stdout",
     "output_type": "stream",
     "text": [
      "\n",
      "best epoch:34/loss:2.3281/f1:0.1369\n"
     ]
    },
    {
     "name": "stderr",
     "output_type": "stream",
     "text": [
      "100%|████████████████████████████████████████████████████████████████████████████████| 214/214 [02:54<00:00,  1.22it/s]\n",
      "2022-05-13 07:28:36,232 INFO: Epoch:[035/500]\n",
      "2022-05-13 07:28:36,232 INFO: Train Loss:2.256 | Acc:0.8080 | F1:0.1407\n",
      "2022-05-13 07:28:48,889 INFO: val Loss:2.163 | Acc:0.8211 | F1:0.1424\n",
      "2022-05-13 07:28:50,613 INFO: -----------------SAVE:35epoch----------------\n"
     ]
    },
    {
     "name": "stdout",
     "output_type": "stream",
     "text": [
      "\n",
      "best epoch:35/loss:2.1632/f1:0.1424\n"
     ]
    },
    {
     "name": "stderr",
     "output_type": "stream",
     "text": [
      "100%|████████████████████████████████████████████████████████████████████████████████| 214/214 [02:54<00:00,  1.22it/s]\n",
      "2022-05-13 07:31:45,501 INFO: Epoch:[036/500]\n",
      "2022-05-13 07:31:45,501 INFO: Train Loss:2.173 | Acc:0.8086 | F1:0.1407\n",
      "2022-05-13 07:31:58,174 INFO: val Loss:2.079 | Acc:0.8211 | F1:0.1424\n",
      "2022-05-13 07:31:59,933 INFO: -----------------SAVE:36epoch----------------\n"
     ]
    },
    {
     "name": "stdout",
     "output_type": "stream",
     "text": [
      "\n",
      "best epoch:36/loss:2.0788/f1:0.1424\n"
     ]
    },
    {
     "name": "stderr",
     "output_type": "stream",
     "text": [
      "100%|████████████████████████████████████████████████████████████████████████████████| 214/214 [02:54<00:00,  1.22it/s]\n",
      "2022-05-13 07:34:54,673 INFO: Epoch:[037/500]\n",
      "2022-05-13 07:34:54,674 INFO: Train Loss:2.105 | Acc:0.8159 | F1:0.1419\n",
      "2022-05-13 07:35:07,344 INFO: val Loss:2.014 | Acc:0.8281 | F1:0.1437\n",
      "2022-05-13 07:35:09,113 INFO: -----------------SAVE:37epoch----------------\n"
     ]
    },
    {
     "name": "stdout",
     "output_type": "stream",
     "text": [
      "\n",
      "best epoch:37/loss:2.0140/f1:0.1437\n"
     ]
    },
    {
     "name": "stderr",
     "output_type": "stream",
     "text": [
      "100%|████████████████████████████████████████████████████████████████████████████████| 214/214 [02:54<00:00,  1.23it/s]\n",
      "2022-05-13 07:38:03,777 INFO: Epoch:[038/500]\n",
      "2022-05-13 07:38:03,778 INFO: Train Loss:2.044 | Acc:0.8182 | F1:0.1422\n",
      "2022-05-13 07:38:16,456 INFO: val Loss:1.902 | Acc:0.8339 | F1:0.1446\n",
      "2022-05-13 07:38:18,211 INFO: -----------------SAVE:38epoch----------------\n"
     ]
    },
    {
     "name": "stdout",
     "output_type": "stream",
     "text": [
      "\n",
      "best epoch:38/loss:1.9018/f1:0.1446\n"
     ]
    },
    {
     "name": "stderr",
     "output_type": "stream",
     "text": [
      "100%|████████████████████████████████████████████████████████████████████████████████| 214/214 [02:54<00:00,  1.22it/s]\n",
      "2022-05-13 07:41:12,980 INFO: Epoch:[039/500]\n",
      "2022-05-13 07:41:12,981 INFO: Train Loss:1.988 | Acc:0.8179 | F1:0.1420\n",
      "2022-05-13 07:41:25,701 INFO: val Loss:1.841 | Acc:0.8351 | F1:0.1447\n",
      "2022-05-13 07:41:27,556 INFO: -----------------SAVE:39epoch----------------\n"
     ]
    },
    {
     "name": "stdout",
     "output_type": "stream",
     "text": [
      "\n",
      "best epoch:39/loss:1.8410/f1:0.1447\n"
     ]
    },
    {
     "name": "stderr",
     "output_type": "stream",
     "text": [
      "100%|████████████████████████████████████████████████████████████████████████████████| 214/214 [02:54<00:00,  1.22it/s]\n",
      "2022-05-13 07:44:22,352 INFO: Epoch:[040/500]\n",
      "2022-05-13 07:44:22,352 INFO: Train Loss:1.953 | Acc:0.8168 | F1:0.1418\n",
      "2022-05-13 07:44:35,015 INFO: val Loss:1.764 | Acc:0.8339 | F1:0.1446\n",
      "2022-05-13 07:44:36,801 INFO: -----------------SAVE:40epoch----------------\n"
     ]
    },
    {
     "name": "stdout",
     "output_type": "stream",
     "text": [
      "\n",
      "best epoch:40/loss:1.7639/f1:0.1446\n"
     ]
    },
    {
     "name": "stderr",
     "output_type": "stream",
     "text": [
      "100%|████████████████████████████████████████████████████████████████████████████████| 214/214 [02:54<00:00,  1.22it/s]\n",
      "2022-05-13 07:47:31,635 INFO: Epoch:[041/500]\n",
      "2022-05-13 07:47:31,635 INFO: Train Loss:1.884 | Acc:0.8244 | F1:0.1431\n",
      "2022-05-13 07:47:44,305 INFO: val Loss:1.700 | Acc:0.8339 | F1:0.1446\n",
      "2022-05-13 07:47:46,026 INFO: -----------------SAVE:41epoch----------------\n"
     ]
    },
    {
     "name": "stdout",
     "output_type": "stream",
     "text": [
      "\n",
      "best epoch:41/loss:1.7000/f1:0.1446\n"
     ]
    },
    {
     "name": "stderr",
     "output_type": "stream",
     "text": [
      "100%|████████████████████████████████████████████████████████████████████████████████| 214/214 [02:54<00:00,  1.22it/s]\n",
      "2022-05-13 07:50:40,928 INFO: Epoch:[042/500]\n",
      "2022-05-13 07:50:40,929 INFO: Train Loss:1.893 | Acc:0.8191 | F1:0.1426\n",
      "2022-05-13 07:50:53,597 INFO: val Loss:1.644 | Acc:0.8339 | F1:0.1444\n",
      "2022-05-13 07:50:55,342 INFO: -----------------SAVE:42epoch----------------\n"
     ]
    },
    {
     "name": "stdout",
     "output_type": "stream",
     "text": [
      "\n",
      "best epoch:42/loss:1.6444/f1:0.1444\n"
     ]
    },
    {
     "name": "stderr",
     "output_type": "stream",
     "text": [
      "100%|████████████████████████████████████████████████████████████████████████████████| 214/214 [02:55<00:00,  1.22it/s]\n",
      "2022-05-13 07:53:50,397 INFO: Epoch:[043/500]\n",
      "2022-05-13 07:53:50,398 INFO: Train Loss:1.854 | Acc:0.8232 | F1:0.1441\n",
      "2022-05-13 07:54:03,085 INFO: val Loss:1.629 | Acc:0.8351 | F1:0.1448\n",
      "2022-05-13 07:54:04,830 INFO: -----------------SAVE:43epoch----------------\n"
     ]
    },
    {
     "name": "stdout",
     "output_type": "stream",
     "text": [
      "\n",
      "best epoch:43/loss:1.6290/f1:0.1448\n"
     ]
    },
    {
     "name": "stderr",
     "output_type": "stream",
     "text": [
      "100%|████████████████████████████████████████████████████████████████████████████████| 214/214 [02:54<00:00,  1.22it/s]\n",
      "2022-05-13 07:56:59,806 INFO: Epoch:[044/500]\n",
      "2022-05-13 07:56:59,807 INFO: Train Loss:1.842 | Acc:0.8238 | F1:0.1446\n",
      "2022-05-13 07:57:12,487 INFO: val Loss:1.572 | Acc:0.8351 | F1:0.1449\n",
      "2022-05-13 07:57:14,251 INFO: -----------------SAVE:44epoch----------------\n"
     ]
    },
    {
     "name": "stdout",
     "output_type": "stream",
     "text": [
      "\n",
      "best epoch:44/loss:1.5723/f1:0.1449\n"
     ]
    },
    {
     "name": "stderr",
     "output_type": "stream",
     "text": [
      "100%|████████████████████████████████████████████████████████████████████████████████| 214/214 [02:54<00:00,  1.22it/s]\n",
      "2022-05-13 08:00:09,058 INFO: Epoch:[045/500]\n",
      "2022-05-13 08:00:09,058 INFO: Train Loss:1.857 | Acc:0.8267 | F1:0.1472\n",
      "2022-05-13 08:00:21,736 INFO: val Loss:1.554 | Acc:0.8351 | F1:0.1448\n",
      "2022-05-13 08:00:23,468 INFO: -----------------SAVE:45epoch----------------\n"
     ]
    },
    {
     "name": "stdout",
     "output_type": "stream",
     "text": [
      "\n",
      "best epoch:45/loss:1.5537/f1:0.1448\n"
     ]
    },
    {
     "name": "stderr",
     "output_type": "stream",
     "text": [
      "100%|████████████████████████████████████████████████████████████████████████████████| 214/214 [02:54<00:00,  1.22it/s]\n",
      "2022-05-13 08:03:18,211 INFO: Epoch:[046/500]\n",
      "2022-05-13 08:03:18,211 INFO: Train Loss:1.864 | Acc:0.8247 | F1:0.1466\n",
      "2022-05-13 08:03:30,890 INFO: val Loss:1.558 | Acc:0.8351 | F1:0.1447\n"
     ]
    },
    {
     "name": "stdout",
     "output_type": "stream",
     "text": [
      "\n",
      "best epoch:45/loss:1.5537/f1:0.1448\n"
     ]
    },
    {
     "name": "stderr",
     "output_type": "stream",
     "text": [
      "100%|████████████████████████████████████████████████████████████████████████████████| 214/214 [02:54<00:00,  1.23it/s]\n",
      "2022-05-13 08:06:25,484 INFO: Epoch:[047/500]\n",
      "2022-05-13 08:06:25,485 INFO: Train Loss:1.876 | Acc:0.8285 | F1:0.1484\n",
      "2022-05-13 08:06:38,148 INFO: val Loss:1.568 | Acc:0.8339 | F1:0.1444\n"
     ]
    },
    {
     "name": "stdout",
     "output_type": "stream",
     "text": [
      "\n",
      "best epoch:45/loss:1.5537/f1:0.1448\n"
     ]
    },
    {
     "name": "stderr",
     "output_type": "stream",
     "text": [
      "100%|████████████████████████████████████████████████████████████████████████████████| 214/214 [02:54<00:00,  1.23it/s]\n",
      "2022-05-13 08:09:32,816 INFO: Epoch:[048/500]\n",
      "2022-05-13 08:09:32,816 INFO: Train Loss:1.927 | Acc:0.8203 | F1:0.1454\n",
      "2022-05-13 08:09:45,469 INFO: val Loss:1.535 | Acc:0.8374 | F1:0.1493\n",
      "2022-05-13 08:09:47,191 INFO: -----------------SAVE:48epoch----------------\n"
     ]
    },
    {
     "name": "stdout",
     "output_type": "stream",
     "text": [
      "\n",
      "best epoch:48/loss:1.5351/f1:0.1493\n"
     ]
    },
    {
     "name": "stderr",
     "output_type": "stream",
     "text": [
      "100%|████████████████████████████████████████████████████████████████████████████████| 214/214 [02:54<00:00,  1.22it/s]\n",
      "2022-05-13 08:12:41,940 INFO: Epoch:[049/500]\n",
      "2022-05-13 08:12:41,941 INFO: Train Loss:1.977 | Acc:0.8238 | F1:0.1471\n",
      "2022-05-13 08:12:54,590 INFO: val Loss:1.482 | Acc:0.8339 | F1:0.1461\n",
      "2022-05-13 08:12:56,290 INFO: -----------------SAVE:49epoch----------------\n"
     ]
    },
    {
     "name": "stdout",
     "output_type": "stream",
     "text": [
      "\n",
      "best epoch:49/loss:1.4818/f1:0.1461\n"
     ]
    },
    {
     "name": "stderr",
     "output_type": "stream",
     "text": [
      "100%|████████████████████████████████████████████████████████████████████████████████| 214/214 [02:54<00:00,  1.22it/s]\n",
      "2022-05-13 08:15:51,205 INFO: Epoch:[050/500]\n",
      "2022-05-13 08:15:51,206 INFO: Train Loss:2.032 | Acc:0.8223 | F1:0.1472\n",
      "2022-05-13 08:16:03,882 INFO: val Loss:1.455 | Acc:0.8292 | F1:0.1452\n",
      "2022-05-13 08:16:05,665 INFO: -----------------SAVE:50epoch----------------\n"
     ]
    },
    {
     "name": "stdout",
     "output_type": "stream",
     "text": [
      "\n",
      "best epoch:50/loss:1.4552/f1:0.1452\n"
     ]
    },
    {
     "name": "stderr",
     "output_type": "stream",
     "text": [
      "100%|████████████████████████████████████████████████████████████████████████████████| 214/214 [02:54<00:00,  1.22it/s]\n",
      "2022-05-13 08:19:00,409 INFO: Epoch:[051/500]\n",
      "2022-05-13 08:19:00,410 INFO: Train Loss:2.137 | Acc:0.8188 | F1:0.1456\n",
      "2022-05-13 08:19:13,075 INFO: val Loss:1.645 | Acc:0.8140 | F1:0.1409\n"
     ]
    },
    {
     "name": "stdout",
     "output_type": "stream",
     "text": [
      "\n",
      "best epoch:50/loss:1.4552/f1:0.1452\n"
     ]
    },
    {
     "name": "stderr",
     "output_type": "stream",
     "text": [
      "100%|████████████████████████████████████████████████████████████████████████████████| 214/214 [02:54<00:00,  1.22it/s]\n",
      "2022-05-13 08:22:07,841 INFO: Epoch:[052/500]\n",
      "2022-05-13 08:22:07,841 INFO: Train Loss:2.264 | Acc:0.8168 | F1:0.1465\n",
      "2022-05-13 08:22:20,496 INFO: val Loss:1.624 | Acc:0.8058 | F1:0.1392\n"
     ]
    },
    {
     "name": "stdout",
     "output_type": "stream",
     "text": [
      "\n",
      "best epoch:50/loss:1.4552/f1:0.1452\n"
     ]
    },
    {
     "name": "stderr",
     "output_type": "stream",
     "text": [
      "100%|████████████████████████████████████████████████████████████████████████████████| 214/214 [02:54<00:00,  1.22it/s]\n",
      "2022-05-13 08:25:15,247 INFO: Epoch:[053/500]\n",
      "2022-05-13 08:25:15,248 INFO: Train Loss:2.335 | Acc:0.8057 | F1:0.1431\n",
      "2022-05-13 08:25:28,027 INFO: val Loss:1.675 | Acc:0.8164 | F1:0.1414\n"
     ]
    },
    {
     "name": "stdout",
     "output_type": "stream",
     "text": [
      "\n",
      "best epoch:50/loss:1.4552/f1:0.1452\n"
     ]
    },
    {
     "name": "stderr",
     "output_type": "stream",
     "text": [
      "100%|████████████████████████████████████████████████████████████████████████████████| 214/214 [02:54<00:00,  1.22it/s]\n",
      "2022-05-13 08:28:22,885 INFO: Epoch:[054/500]\n",
      "2022-05-13 08:28:22,885 INFO: Train Loss:2.446 | Acc:0.7946 | F1:0.1421\n",
      "2022-05-13 08:28:35,530 INFO: val Loss:2.009 | Acc:0.8082 | F1:0.1413\n"
     ]
    },
    {
     "name": "stdout",
     "output_type": "stream",
     "text": [
      "\n",
      "best epoch:50/loss:1.4552/f1:0.1452\n"
     ]
    },
    {
     "name": "stderr",
     "output_type": "stream",
     "text": [
      "100%|████████████████████████████████████████████████████████████████████████████████| 214/214 [02:54<00:00,  1.22it/s]\n",
      "2022-05-13 08:31:30,254 INFO: Epoch:[055/500]\n",
      "2022-05-13 08:31:30,254 INFO: Train Loss:2.543 | Acc:0.7852 | F1:0.1405\n",
      "2022-05-13 08:31:42,938 INFO: val Loss:1.843 | Acc:0.8211 | F1:0.1439\n"
     ]
    },
    {
     "name": "stdout",
     "output_type": "stream",
     "text": [
      "\n",
      "best epoch:50/loss:1.4552/f1:0.1452\n"
     ]
    },
    {
     "name": "stderr",
     "output_type": "stream",
     "text": [
      "100%|████████████████████████████████████████████████████████████████████████████████| 214/214 [02:54<00:00,  1.22it/s]\n",
      "2022-05-13 08:34:37,816 INFO: Epoch:[056/500]\n",
      "2022-05-13 08:34:37,816 INFO: Train Loss:2.585 | Acc:0.7797 | F1:0.1387\n",
      "2022-05-13 08:34:50,486 INFO: val Loss:2.121 | Acc:0.8199 | F1:0.1420\n"
     ]
    },
    {
     "name": "stdout",
     "output_type": "stream",
     "text": [
      "\n",
      "best epoch:50/loss:1.4552/f1:0.1452\n"
     ]
    },
    {
     "name": "stderr",
     "output_type": "stream",
     "text": [
      "100%|████████████████████████████████████████████████████████████████████████████████| 214/214 [02:54<00:00,  1.22it/s]\n",
      "2022-05-13 08:37:45,264 INFO: Epoch:[057/500]\n",
      "2022-05-13 08:37:45,265 INFO: Train Loss:2.656 | Acc:0.7759 | F1:0.1395\n",
      "2022-05-13 08:37:57,963 INFO: val Loss:2.414 | Acc:0.7708 | F1:0.1325\n"
     ]
    },
    {
     "name": "stdout",
     "output_type": "stream",
     "text": [
      "\n",
      "best epoch:50/loss:1.4552/f1:0.1452\n"
     ]
    },
    {
     "name": "stderr",
     "output_type": "stream",
     "text": [
      "100%|████████████████████████████████████████████████████████████████████████████████| 214/214 [02:54<00:00,  1.23it/s]\n",
      "2022-05-13 08:40:52,428 INFO: Epoch:[058/500]\n",
      "2022-05-13 08:40:52,429 INFO: Train Loss:2.562 | Acc:0.7525 | F1:0.1340\n",
      "2022-05-13 08:41:05,108 INFO: val Loss:2.109 | Acc:0.8140 | F1:0.1409\n"
     ]
    },
    {
     "name": "stdout",
     "output_type": "stream",
     "text": [
      "\n",
      "best epoch:50/loss:1.4552/f1:0.1452\n"
     ]
    },
    {
     "name": "stderr",
     "output_type": "stream",
     "text": [
      "100%|████████████████████████████████████████████████████████████████████████████████| 214/214 [02:54<00:00,  1.23it/s]\n",
      "2022-05-13 08:43:59,589 INFO: Epoch:[059/500]\n",
      "2022-05-13 08:43:59,590 INFO: Train Loss:2.744 | Acc:0.7373 | F1:0.1314\n",
      "2022-05-13 08:44:12,291 INFO: val Loss:2.526 | Acc:0.8105 | F1:0.1402\n"
     ]
    },
    {
     "name": "stdout",
     "output_type": "stream",
     "text": [
      "\n",
      "best epoch:50/loss:1.4552/f1:0.1452\n"
     ]
    },
    {
     "name": "stderr",
     "output_type": "stream",
     "text": [
      "100%|████████████████████████████████████████████████████████████████████████████████| 214/214 [02:54<00:00,  1.23it/s]\n",
      "2022-05-13 08:47:06,840 INFO: Epoch:[060/500]\n",
      "2022-05-13 08:47:06,840 INFO: Train Loss:2.954 | Acc:0.7259 | F1:0.1293\n",
      "2022-05-13 08:47:19,505 INFO: val Loss:2.448 | Acc:0.8269 | F1:0.1431\n"
     ]
    },
    {
     "name": "stdout",
     "output_type": "stream",
     "text": [
      "\n",
      "best epoch:50/loss:1.4552/f1:0.1452\n"
     ]
    },
    {
     "name": "stderr",
     "output_type": "stream",
     "text": [
      "100%|████████████████████████████████████████████████████████████████████████████████| 214/214 [02:54<00:00,  1.23it/s]\n",
      "2022-05-13 08:50:13,930 INFO: Epoch:[061/500]\n",
      "2022-05-13 08:50:13,931 INFO: Train Loss:3.029 | Acc:0.6879 | F1:0.1229\n",
      "2022-05-13 08:50:26,594 INFO: val Loss:2.526 | Acc:0.7942 | F1:0.1411\n"
     ]
    },
    {
     "name": "stdout",
     "output_type": "stream",
     "text": [
      "\n",
      "best epoch:50/loss:1.4552/f1:0.1452\n"
     ]
    },
    {
     "name": "stderr",
     "output_type": "stream",
     "text": [
      "100%|████████████████████████████████████████████████████████████████████████████████| 214/214 [02:54<00:00,  1.23it/s]\n",
      "2022-05-13 08:53:21,216 INFO: Epoch:[062/500]\n",
      "2022-05-13 08:53:21,217 INFO: Train Loss:2.962 | Acc:0.6186 | F1:0.1136\n",
      "2022-05-13 08:53:33,871 INFO: val Loss:2.407 | Acc:0.7883 | F1:0.1373\n"
     ]
    },
    {
     "name": "stdout",
     "output_type": "stream",
     "text": [
      "\n",
      "best epoch:50/loss:1.4552/f1:0.1452\n"
     ]
    },
    {
     "name": "stderr",
     "output_type": "stream",
     "text": [
      "100%|████████████████████████████████████████████████████████████████████████████████| 214/214 [02:54<00:00,  1.23it/s]\n",
      "2022-05-13 08:56:28,445 INFO: Epoch:[063/500]\n",
      "2022-05-13 08:56:28,445 INFO: Train Loss:2.961 | Acc:0.5646 | F1:0.1027\n",
      "2022-05-13 08:56:41,114 INFO: val Loss:2.681 | Acc:0.7778 | F1:0.1350\n"
     ]
    },
    {
     "name": "stdout",
     "output_type": "stream",
     "text": [
      "\n",
      "best epoch:50/loss:1.4552/f1:0.1452\n"
     ]
    },
    {
     "name": "stderr",
     "output_type": "stream",
     "text": [
      "100%|████████████████████████████████████████████████████████████████████████████████| 214/214 [02:54<00:00,  1.23it/s]\n",
      "2022-05-13 08:59:35,490 INFO: Epoch:[064/500]\n",
      "2022-05-13 08:59:35,491 INFO: Train Loss:3.002 | Acc:0.5491 | F1:0.0986\n",
      "2022-05-13 08:59:48,143 INFO: val Loss:2.757 | Acc:0.7649 | F1:0.1330\n"
     ]
    },
    {
     "name": "stdout",
     "output_type": "stream",
     "text": [
      "\n",
      "best epoch:50/loss:1.4552/f1:0.1452\n"
     ]
    },
    {
     "name": "stderr",
     "output_type": "stream",
     "text": [
      "100%|████████████████████████████████████████████████████████████████████████████████| 214/214 [02:54<00:00,  1.22it/s]\n",
      "2022-05-13 09:02:43,008 INFO: Epoch:[065/500]\n",
      "2022-05-13 09:02:43,008 INFO: Train Loss:3.014 | Acc:0.5380 | F1:0.0975\n",
      "2022-05-13 09:02:55,690 INFO: val Loss:2.831 | Acc:0.7088 | F1:0.1242\n"
     ]
    },
    {
     "name": "stdout",
     "output_type": "stream",
     "text": [
      "\n",
      "best epoch:50/loss:1.4552/f1:0.1452\n"
     ]
    },
    {
     "name": "stderr",
     "output_type": "stream",
     "text": [
      "100%|████████████████████████████████████████████████████████████████████████████████| 214/214 [02:54<00:00,  1.22it/s]\n",
      "2022-05-13 09:05:50,453 INFO: Epoch:[066/500]\n",
      "2022-05-13 09:05:50,454 INFO: Train Loss:3.043 | Acc:0.5508 | F1:0.0982\n",
      "2022-05-13 09:06:03,135 INFO: val Loss:2.921 | Acc:0.7135 | F1:0.1244\n"
     ]
    },
    {
     "name": "stdout",
     "output_type": "stream",
     "text": [
      "\n",
      "best epoch:50/loss:1.4552/f1:0.1452\n"
     ]
    },
    {
     "name": "stderr",
     "output_type": "stream",
     "text": [
      "100%|████████████████████████████████████████████████████████████████████████████████| 214/214 [02:54<00:00,  1.22it/s]\n",
      "2022-05-13 09:08:57,986 INFO: Epoch:[067/500]\n",
      "2022-05-13 09:08:57,987 INFO: Train Loss:3.158 | Acc:0.5228 | F1:0.0944\n",
      "2022-05-13 09:09:10,670 INFO: val Loss:3.404 | Acc:0.6175 | F1:0.1089\n"
     ]
    },
    {
     "name": "stdout",
     "output_type": "stream",
     "text": [
      "\n",
      "best epoch:50/loss:1.4552/f1:0.1452\n"
     ]
    },
    {
     "name": "stderr",
     "output_type": "stream",
     "text": [
      "100%|████████████████████████████████████████████████████████████████████████████████| 214/214 [02:58<00:00,  1.20it/s]\n",
      "2022-05-13 09:12:09,313 INFO: Epoch:[068/500]\n",
      "2022-05-13 09:12:09,314 INFO: Train Loss:3.173 | Acc:0.5137 | F1:0.0929\n",
      "2022-05-13 09:12:22,034 INFO: val Loss:3.363 | Acc:0.6807 | F1:0.1190\n"
     ]
    },
    {
     "name": "stdout",
     "output_type": "stream",
     "text": [
      "\n",
      "best epoch:50/loss:1.4552/f1:0.1452\n"
     ]
    },
    {
     "name": "stderr",
     "output_type": "stream",
     "text": [
      "100%|████████████████████████████████████████████████████████████████████████████████| 214/214 [02:55<00:00,  1.22it/s]\n",
      "2022-05-13 09:15:18,005 INFO: Epoch:[069/500]\n",
      "2022-05-13 09:15:18,006 INFO: Train Loss:3.156 | Acc:0.5424 | F1:0.0995\n",
      "2022-05-13 09:15:30,707 INFO: val Loss:3.414 | Acc:0.5942 | F1:0.1022\n"
     ]
    },
    {
     "name": "stdout",
     "output_type": "stream",
     "text": [
      "\n",
      "best epoch:50/loss:1.4552/f1:0.1452\n"
     ]
    },
    {
     "name": "stderr",
     "output_type": "stream",
     "text": [
      "100%|████████████████████████████████████████████████████████████████████████████████| 214/214 [02:54<00:00,  1.23it/s]\n",
      "2022-05-13 09:18:25,329 INFO: Epoch:[070/500]\n",
      "2022-05-13 09:18:25,329 INFO: Train Loss:3.201 | Acc:0.5114 | F1:0.0934\n",
      "2022-05-13 09:18:38,023 INFO: val Loss:3.430 | Acc:0.7322 | F1:0.1285\n"
     ]
    },
    {
     "name": "stdout",
     "output_type": "stream",
     "text": [
      "\n",
      "best epoch:50/loss:1.4552/f1:0.1452\n"
     ]
    },
    {
     "name": "stderr",
     "output_type": "stream",
     "text": [
      "100%|████████████████████████████████████████████████████████████████████████████████| 214/214 [02:54<00:00,  1.22it/s]\n",
      "2022-05-13 09:21:32,757 INFO: Epoch:[071/500]\n",
      "2022-05-13 09:21:32,758 INFO: Train Loss:3.354 | Acc:0.4439 | F1:0.0809\n",
      "2022-05-13 09:21:45,437 INFO: val Loss:3.295 | Acc:0.4784 | F1:0.0878\n"
     ]
    },
    {
     "name": "stdout",
     "output_type": "stream",
     "text": [
      "\n",
      "best epoch:50/loss:1.4552/f1:0.1452\n"
     ]
    },
    {
     "name": "stderr",
     "output_type": "stream",
     "text": [
      "100%|████████████████████████████████████████████████████████████████████████████████| 214/214 [02:54<00:00,  1.22it/s]\n",
      "2022-05-13 09:24:40,422 INFO: Epoch:[072/500]\n",
      "2022-05-13 09:24:40,422 INFO: Train Loss:3.322 | Acc:0.4179 | F1:0.0761\n",
      "2022-05-13 09:24:53,228 INFO: val Loss:3.369 | Acc:0.3661 | F1:0.0584\n"
     ]
    },
    {
     "name": "stdout",
     "output_type": "stream",
     "text": [
      "\n",
      "best epoch:50/loss:1.4552/f1:0.1452\n"
     ]
    },
    {
     "name": "stderr",
     "output_type": "stream",
     "text": [
      "100%|████████████████████████████████████████████████████████████████████████████████| 214/214 [02:54<00:00,  1.23it/s]\n",
      "2022-05-13 09:27:47,628 INFO: Epoch:[073/500]\n",
      "2022-05-13 09:27:47,628 INFO: Train Loss:3.317 | Acc:0.3881 | F1:0.0708\n",
      "2022-05-13 09:28:00,304 INFO: val Loss:3.279 | Acc:0.3053 | F1:0.0496\n"
     ]
    },
    {
     "name": "stdout",
     "output_type": "stream",
     "text": [
      "\n",
      "best epoch:50/loss:1.4552/f1:0.1452\n"
     ]
    },
    {
     "name": "stderr",
     "output_type": "stream",
     "text": [
      "100%|████████████████████████████████████████████████████████████████████████████████| 214/214 [02:54<00:00,  1.23it/s]\n",
      "2022-05-13 09:30:54,670 INFO: Epoch:[074/500]\n",
      "2022-05-13 09:30:54,670 INFO: Train Loss:3.250 | Acc:0.3857 | F1:0.0700\n",
      "2022-05-13 09:31:07,341 INFO: val Loss:3.331 | Acc:0.3111 | F1:0.0507\n"
     ]
    },
    {
     "name": "stdout",
     "output_type": "stream",
     "text": [
      "\n",
      "best epoch:50/loss:1.4552/f1:0.1452\n"
     ]
    },
    {
     "name": "stderr",
     "output_type": "stream",
     "text": [
      "100%|████████████████████████████████████████████████████████████████████████████████| 214/214 [03:07<00:00,  1.14it/s]\n",
      "2022-05-13 09:34:15,294 INFO: Epoch:[075/500]\n",
      "2022-05-13 09:34:15,294 INFO: Train Loss:3.200 | Acc:0.3884 | F1:0.0698\n",
      "2022-05-13 09:34:27,985 INFO: val Loss:3.401 | Acc:0.2842 | F1:0.0458\n"
     ]
    },
    {
     "name": "stdout",
     "output_type": "stream",
     "text": [
      "\n",
      "best epoch:50/loss:1.4552/f1:0.1452\n"
     ]
    },
    {
     "name": "stderr",
     "output_type": "stream",
     "text": [
      "100%|████████████████████████████████████████████████████████████████████████████████| 214/214 [02:55<00:00,  1.22it/s]\n",
      "2022-05-13 09:37:23,335 INFO: Epoch:[076/500]\n",
      "2022-05-13 09:37:23,336 INFO: Train Loss:3.233 | Acc:0.3726 | F1:0.0683\n",
      "2022-05-13 09:37:36,043 INFO: val Loss:3.597 | Acc:0.2269 | F1:0.0312\n"
     ]
    },
    {
     "name": "stdout",
     "output_type": "stream",
     "text": [
      "\n",
      "best epoch:50/loss:1.4552/f1:0.1452\n"
     ]
    },
    {
     "name": "stderr",
     "output_type": "stream",
     "text": [
      "100%|████████████████████████████████████████████████████████████████████████████████| 214/214 [02:54<00:00,  1.23it/s]\n",
      "2022-05-13 09:40:30,709 INFO: Epoch:[077/500]\n",
      "2022-05-13 09:40:30,709 INFO: Train Loss:3.136 | Acc:0.3644 | F1:0.0642\n",
      "2022-05-13 09:40:43,405 INFO: val Loss:3.368 | Acc:0.2608 | F1:0.0344\n"
     ]
    },
    {
     "name": "stdout",
     "output_type": "stream",
     "text": [
      "\n",
      "best epoch:50/loss:1.4552/f1:0.1452\n"
     ]
    },
    {
     "name": "stderr",
     "output_type": "stream",
     "text": [
      "100%|████████████████████████████████████████████████████████████████████████████████| 214/214 [02:57<00:00,  1.20it/s]\n",
      "2022-05-13 09:43:41,271 INFO: Epoch:[078/500]\n",
      "2022-05-13 09:43:41,272 INFO: Train Loss:3.110 | Acc:0.3293 | F1:0.0571\n",
      "2022-05-13 09:43:54,111 INFO: val Loss:3.427 | Acc:0.2164 | F1:0.0295\n"
     ]
    },
    {
     "name": "stdout",
     "output_type": "stream",
     "text": [
      "\n",
      "best epoch:50/loss:1.4552/f1:0.1452\n"
     ]
    },
    {
     "name": "stderr",
     "output_type": "stream",
     "text": [
      "100%|████████████████████████████████████████████████████████████████████████████████| 214/214 [03:00<00:00,  1.19it/s]\n",
      "2022-05-13 09:46:54,381 INFO: Epoch:[079/500]\n",
      "2022-05-13 09:46:54,381 INFO: Train Loss:3.102 | Acc:0.3063 | F1:0.0513\n",
      "2022-05-13 09:47:08,853 INFO: val Loss:3.488 | Acc:0.1532 | F1:0.0221\n"
     ]
    },
    {
     "name": "stdout",
     "output_type": "stream",
     "text": [
      "\n",
      "best epoch:50/loss:1.4552/f1:0.1452\n"
     ]
    },
    {
     "name": "stderr",
     "output_type": "stream",
     "text": [
      "100%|████████████████████████████████████████████████████████████████████████████████| 214/214 [03:04<00:00,  1.16it/s]\n",
      "2022-05-13 09:50:13,658 INFO: Epoch:[080/500]\n",
      "2022-05-13 09:50:13,659 INFO: Train Loss:3.145 | Acc:0.2703 | F1:0.0446\n",
      "2022-05-13 09:50:30,510 INFO: val Loss:3.523 | Acc:0.1064 | F1:0.0130\n"
     ]
    },
    {
     "name": "stdout",
     "output_type": "stream",
     "text": [
      "\n",
      "best epoch:50/loss:1.4552/f1:0.1452\n"
     ]
    },
    {
     "name": "stderr",
     "output_type": "stream",
     "text": [
      "100%|████████████████████████████████████████████████████████████████████████████████| 214/214 [03:18<00:00,  1.08it/s]\n",
      "2022-05-13 09:53:48,849 INFO: Epoch:[081/500]\n",
      "2022-05-13 09:53:48,849 INFO: Train Loss:3.201 | Acc:0.2104 | F1:0.0333\n",
      "2022-05-13 09:54:01,595 INFO: val Loss:3.583 | Acc:0.0772 | F1:0.0056\n"
     ]
    },
    {
     "name": "stdout",
     "output_type": "stream",
     "text": [
      "\n",
      "best epoch:50/loss:1.4552/f1:0.1452\n"
     ]
    },
    {
     "name": "stderr",
     "output_type": "stream",
     "text": [
      "100%|████████████████████████████████████████████████████████████████████████████████| 214/214 [03:03<00:00,  1.17it/s]\n",
      "2022-05-13 09:57:05,068 INFO: Epoch:[082/500]\n",
      "2022-05-13 09:57:05,068 INFO: Train Loss:3.290 | Acc:0.1674 | F1:0.0261\n",
      "2022-05-13 09:57:18,434 INFO: val Loss:3.605 | Acc:0.0702 | F1:0.0033\n"
     ]
    },
    {
     "name": "stdout",
     "output_type": "stream",
     "text": [
      "\n",
      "best epoch:50/loss:1.4552/f1:0.1452\n"
     ]
    },
    {
     "name": "stderr",
     "output_type": "stream",
     "text": [
      "100%|████████████████████████████████████████████████████████████████████████████████| 214/214 [03:05<00:00,  1.15it/s]\n",
      "2022-05-13 10:00:24,235 INFO: Epoch:[083/500]\n",
      "2022-05-13 10:00:24,235 INFO: Train Loss:3.591 | Acc:0.1014 | F1:0.0135\n",
      "2022-05-13 10:00:37,159 INFO: val Loss:3.611 | Acc:0.0655 | F1:0.0014\n"
     ]
    },
    {
     "name": "stdout",
     "output_type": "stream",
     "text": [
      "\n",
      "best epoch:50/loss:1.4552/f1:0.1452\n"
     ]
    },
    {
     "name": "stderr",
     "output_type": "stream",
     "text": [
      "100%|████████████████████████████████████████████████████████████████████████████████| 214/214 [02:57<00:00,  1.20it/s]\n",
      "2022-05-13 10:03:34,853 INFO: Epoch:[084/500]\n",
      "2022-05-13 10:03:34,854 INFO: Train Loss:3.568 | Acc:0.0722 | F1:0.0056\n",
      "2022-05-13 10:03:48,062 INFO: val Loss:3.602 | Acc:0.0655 | F1:0.0014\n"
     ]
    },
    {
     "name": "stdout",
     "output_type": "stream",
     "text": [
      "\n",
      "best epoch:50/loss:1.4552/f1:0.1452\n"
     ]
    },
    {
     "name": "stderr",
     "output_type": "stream",
     "text": [
      "100%|████████████████████████████████████████████████████████████████████████████████| 214/214 [02:59<00:00,  1.19it/s]\n",
      "2022-05-13 10:06:47,359 INFO: Epoch:[085/500]\n",
      "2022-05-13 10:06:47,359 INFO: Train Loss:3.534 | Acc:0.0792 | F1:0.0051\n",
      "2022-05-13 10:07:00,308 INFO: val Loss:3.647 | Acc:0.0912 | F1:0.0019\n"
     ]
    },
    {
     "name": "stdout",
     "output_type": "stream",
     "text": [
      "\n",
      "best epoch:50/loss:1.4552/f1:0.1452\n"
     ]
    },
    {
     "name": "stderr",
     "output_type": "stream",
     "text": [
      "100%|████████████████████████████████████████████████████████████████████████████████| 214/214 [03:24<00:00,  1.05it/s]\n",
      "2022-05-13 10:10:24,838 INFO: Epoch:[086/500]\n",
      "2022-05-13 10:10:24,838 INFO: Train Loss:3.498 | Acc:0.0909 | F1:0.0042\n",
      "2022-05-13 10:10:41,417 INFO: val Loss:3.651 | Acc:0.0912 | F1:0.0019\n"
     ]
    },
    {
     "name": "stdout",
     "output_type": "stream",
     "text": [
      "\n",
      "best epoch:50/loss:1.4552/f1:0.1452\n"
     ]
    },
    {
     "name": "stderr",
     "output_type": "stream",
     "text": [
      "100%|████████████████████████████████████████████████████████████████████████████████| 214/214 [03:37<00:00,  1.02s/it]\n",
      "2022-05-13 10:14:18,962 INFO: Epoch:[087/500]\n",
      "2022-05-13 10:14:18,963 INFO: Train Loss:3.516 | Acc:0.0923 | F1:0.0030\n",
      "2022-05-13 10:14:35,453 INFO: val Loss:3.609 | Acc:0.0912 | F1:0.0019\n"
     ]
    },
    {
     "name": "stdout",
     "output_type": "stream",
     "text": [
      "\n",
      "best epoch:50/loss:1.4552/f1:0.1452\n"
     ]
    },
    {
     "name": "stderr",
     "output_type": "stream",
     "text": [
      "100%|████████████████████████████████████████████████████████████████████████████████| 214/214 [03:37<00:00,  1.02s/it]\n",
      "2022-05-13 10:18:12,919 INFO: Epoch:[088/500]\n",
      "2022-05-13 10:18:12,919 INFO: Train Loss:3.468 | Acc:0.0929 | F1:0.0026\n",
      "2022-05-13 10:18:29,003 INFO: val Loss:3.486 | Acc:0.0912 | F1:0.0019\n"
     ]
    },
    {
     "name": "stdout",
     "output_type": "stream",
     "text": [
      "\n",
      "best epoch:50/loss:1.4552/f1:0.1452\n"
     ]
    },
    {
     "name": "stderr",
     "output_type": "stream",
     "text": [
      "100%|████████████████████████████████████████████████████████████████████████████████| 214/214 [03:37<00:00,  1.01s/it]\n",
      "2022-05-13 10:22:06,168 INFO: Epoch:[089/500]\n",
      "2022-05-13 10:22:06,168 INFO: Train Loss:3.465 | Acc:0.0912 | F1:0.0020\n",
      "2022-05-13 10:22:22,686 INFO: val Loss:3.510 | Acc:0.0912 | F1:0.0019\n"
     ]
    },
    {
     "name": "stdout",
     "output_type": "stream",
     "text": [
      "\n",
      "best epoch:50/loss:1.4552/f1:0.1452\n"
     ]
    },
    {
     "name": "stderr",
     "output_type": "stream",
     "text": [
      "100%|████████████████████████████████████████████████████████████████████████████████| 214/214 [03:42<00:00,  1.04s/it]\n",
      "2022-05-13 10:26:05,542 INFO: Epoch:[090/500]\n",
      "2022-05-13 10:26:05,543 INFO: Train Loss:3.475 | Acc:0.0915 | F1:0.0020\n",
      "2022-05-13 10:26:22,177 INFO: val Loss:3.497 | Acc:0.0912 | F1:0.0019\n"
     ]
    },
    {
     "name": "stdout",
     "output_type": "stream",
     "text": [
      "\n",
      "best epoch:50/loss:1.4552/f1:0.1452\n"
     ]
    },
    {
     "name": "stderr",
     "output_type": "stream",
     "text": [
      "100%|████████████████████████████████████████████████████████████████████████████████| 214/214 [03:42<00:00,  1.04s/it]\n",
      "2022-05-13 10:30:04,307 INFO: Epoch:[091/500]\n",
      "2022-05-13 10:30:04,307 INFO: Train Loss:3.456 | Acc:0.0915 | F1:0.0019\n",
      "2022-05-13 10:30:20,639 INFO: val Loss:3.456 | Acc:0.0912 | F1:0.0019\n"
     ]
    },
    {
     "name": "stdout",
     "output_type": "stream",
     "text": [
      "\n",
      "best epoch:50/loss:1.4552/f1:0.1452\n"
     ]
    },
    {
     "name": "stderr",
     "output_type": "stream",
     "text": [
      "100%|████████████████████████████████████████████████████████████████████████████████| 214/214 [03:38<00:00,  1.02s/it]\n",
      "2022-05-13 10:33:58,771 INFO: Epoch:[092/500]\n",
      "2022-05-13 10:33:58,772 INFO: Train Loss:3.452 | Acc:0.0915 | F1:0.0019\n",
      "2022-05-13 10:34:14,999 INFO: val Loss:3.464 | Acc:0.0912 | F1:0.0019\n"
     ]
    },
    {
     "name": "stdout",
     "output_type": "stream",
     "text": [
      "\n",
      "best epoch:50/loss:1.4552/f1:0.1452\n"
     ]
    },
    {
     "name": "stderr",
     "output_type": "stream",
     "text": [
      "100%|████████████████████████████████████████████████████████████████████████████████| 214/214 [03:42<00:00,  1.04s/it]\n",
      "2022-05-13 10:37:57,157 INFO: Epoch:[093/500]\n",
      "2022-05-13 10:37:57,158 INFO: Train Loss:3.447 | Acc:0.0888 | F1:0.0031\n",
      "2022-05-13 10:38:13,520 INFO: val Loss:3.464 | Acc:0.0912 | F1:0.0019\n"
     ]
    },
    {
     "name": "stdout",
     "output_type": "stream",
     "text": [
      "\n",
      "best epoch:50/loss:1.4552/f1:0.1452\n"
     ]
    },
    {
     "name": "stderr",
     "output_type": "stream",
     "text": [
      "100%|████████████████████████████████████████████████████████████████████████████████| 214/214 [04:04<00:00,  1.14s/it]\n",
      "2022-05-13 10:42:18,188 INFO: Epoch:[094/500]\n",
      "2022-05-13 10:42:18,188 INFO: Train Loss:3.448 | Acc:0.0906 | F1:0.0020\n",
      "2022-05-13 10:42:38,402 INFO: val Loss:3.476 | Acc:0.0912 | F1:0.0019\n"
     ]
    },
    {
     "name": "stdout",
     "output_type": "stream",
     "text": [
      "\n",
      "best epoch:50/loss:1.4552/f1:0.1452\n"
     ]
    },
    {
     "name": "stderr",
     "output_type": "stream",
     "text": [
      "100%|████████████████████████████████████████████████████████████████████████████████| 214/214 [05:37<00:00,  1.58s/it]\n",
      "2022-05-13 10:48:16,135 INFO: Epoch:[095/500]\n",
      "2022-05-13 10:48:16,135 INFO: Train Loss:3.455 | Acc:0.0915 | F1:0.0019\n",
      "2022-05-13 10:48:30,331 INFO: val Loss:3.477 | Acc:0.0912 | F1:0.0019\n"
     ]
    },
    {
     "name": "stdout",
     "output_type": "stream",
     "text": [
      "\n",
      "best epoch:50/loss:1.4552/f1:0.1452\n"
     ]
    },
    {
     "name": "stderr",
     "output_type": "stream",
     "text": [
      "100%|████████████████████████████████████████████████████████████████████████████████| 214/214 [02:56<00:00,  1.21it/s]\n",
      "2022-05-13 10:51:26,594 INFO: Epoch:[096/500]\n",
      "2022-05-13 10:51:26,594 INFO: Train Loss:3.459 | Acc:0.0915 | F1:0.0019\n",
      "2022-05-13 10:51:39,286 INFO: val Loss:3.472 | Acc:0.0912 | F1:0.0019\n"
     ]
    },
    {
     "name": "stdout",
     "output_type": "stream",
     "text": [
      "\n",
      "best epoch:50/loss:1.4552/f1:0.1452\n"
     ]
    },
    {
     "name": "stderr",
     "output_type": "stream",
     "text": [
      "100%|████████████████████████████████████████████████████████████████████████████████| 214/214 [02:55<00:00,  1.22it/s]\n",
      "2022-05-13 10:54:35,131 INFO: Epoch:[097/500]\n",
      "2022-05-13 10:54:35,132 INFO: Train Loss:3.463 | Acc:0.0900 | F1:0.0021\n",
      "2022-05-13 10:54:47,842 INFO: val Loss:3.482 | Acc:0.0912 | F1:0.0019\n"
     ]
    },
    {
     "name": "stdout",
     "output_type": "stream",
     "text": [
      "\n",
      "best epoch:50/loss:1.4552/f1:0.1452\n"
     ]
    },
    {
     "name": "stderr",
     "output_type": "stream",
     "text": [
      "100%|████████████████████████████████████████████████████████████████████████████████| 214/214 [02:55<00:00,  1.22it/s]\n",
      "2022-05-13 10:57:43,168 INFO: Epoch:[098/500]\n",
      "2022-05-13 10:57:43,169 INFO: Train Loss:3.471 | Acc:0.0915 | F1:0.0019\n",
      "2022-05-13 10:57:55,888 INFO: val Loss:3.491 | Acc:0.0912 | F1:0.0019\n"
     ]
    },
    {
     "name": "stdout",
     "output_type": "stream",
     "text": [
      "\n",
      "best epoch:50/loss:1.4552/f1:0.1452\n"
     ]
    },
    {
     "name": "stderr",
     "output_type": "stream",
     "text": [
      " 70%|████████████████████████████████████████████████████████                        | 150/214 [02:01<00:52,  1.23it/s]\n"
     ]
    },
    {
     "ename": "KeyboardInterrupt",
     "evalue": "",
     "output_type": "error",
     "traceback": [
      "\u001b[1;31m---------------------------------------------------------------------------\u001b[0m",
      "\u001b[1;31mKeyboardInterrupt\u001b[0m                         Traceback (most recent call last)",
      "Input \u001b[1;32mIn [12]\u001b[0m, in \u001b[0;36m<cell line: 4>\u001b[1;34m()\u001b[0m\n\u001b[0;32m      5\u001b[0m args\u001b[38;5;241m.\u001b[39mfold \u001b[38;5;241m=\u001b[39m s_fold\n\u001b[0;32m      6\u001b[0m args\u001b[38;5;241m.\u001b[39mexp_num \u001b[38;5;241m=\u001b[39m \u001b[38;5;28mstr\u001b[39m(s_fold)\n\u001b[1;32m----> 7\u001b[0m save_path \u001b[38;5;241m=\u001b[39m \u001b[43mmain\u001b[49m\u001b[43m(\u001b[49m\u001b[43margs\u001b[49m\u001b[43m)\u001b[49m\n\u001b[0;32m      8\u001b[0m models_path\u001b[38;5;241m.\u001b[39mappend(save_path)\n",
      "Input \u001b[1;32mIn [8]\u001b[0m, in \u001b[0;36mmain\u001b[1;34m(args)\u001b[0m\n\u001b[0;32m     16\u001b[0m \u001b[38;5;66;03m# Create model directory\u001b[39;00m\n\u001b[0;32m     17\u001b[0m os\u001b[38;5;241m.\u001b[39mmakedirs(save_path, exist_ok\u001b[38;5;241m=\u001b[39m\u001b[38;5;28;01mTrue\u001b[39;00m)\n\u001b[1;32m---> 18\u001b[0m \u001b[43mTrainer\u001b[49m\u001b[43m(\u001b[49m\u001b[43margs\u001b[49m\u001b[43m,\u001b[49m\u001b[43m \u001b[49m\u001b[43msave_path\u001b[49m\u001b[43m)\u001b[49m\n\u001b[0;32m     20\u001b[0m \u001b[38;5;28;01mreturn\u001b[39;00m save_path\n",
      "Input \u001b[1;32mIn [7]\u001b[0m, in \u001b[0;36mTrainer.__init__\u001b[1;34m(self, args, save_path)\u001b[0m\n\u001b[0;32m     88\u001b[0m         \u001b[38;5;28mself\u001b[39m\u001b[38;5;241m.\u001b[39mscheduler\u001b[38;5;241m.\u001b[39mstep()\n\u001b[0;32m     90\u001b[0m \u001b[38;5;66;03m# Training\u001b[39;00m\n\u001b[1;32m---> 91\u001b[0m train_loss, train_acc, train_f1 \u001b[38;5;241m=\u001b[39m \u001b[38;5;28;43mself\u001b[39;49m\u001b[38;5;241;43m.\u001b[39;49m\u001b[43mtraining\u001b[49m\u001b[43m(\u001b[49m\u001b[43margs\u001b[49m\u001b[43m)\u001b[49m\n\u001b[0;32m     93\u001b[0m \u001b[38;5;66;03m# Model weight in Multi_GPU or Single GPU\u001b[39;00m\n\u001b[0;32m     94\u001b[0m state_dict\u001b[38;5;241m=\u001b[39m \u001b[38;5;28mself\u001b[39m\u001b[38;5;241m.\u001b[39mmodel\u001b[38;5;241m.\u001b[39mmodule\u001b[38;5;241m.\u001b[39mstate_dict() \u001b[38;5;28;01mif\u001b[39;00m args\u001b[38;5;241m.\u001b[39mmulti_gpu \u001b[38;5;28;01melse\u001b[39;00m \u001b[38;5;28mself\u001b[39m\u001b[38;5;241m.\u001b[39mmodel\u001b[38;5;241m.\u001b[39mstate_dict()\n",
      "Input \u001b[1;32mIn [7]\u001b[0m, in \u001b[0;36mTrainer.training\u001b[1;34m(self, args)\u001b[0m\n\u001b[0;32m    132\u001b[0m         targets_list \u001b[38;5;241m=\u001b[39m []\n\u001b[0;32m    134\u001b[0m         scaler \u001b[38;5;241m=\u001b[39m grad_scaler\u001b[38;5;241m.\u001b[39mGradScaler()\n\u001b[1;32m--> 135\u001b[0m         \u001b[38;5;28;01mfor\u001b[39;00m i, (images, targets) \u001b[38;5;129;01min\u001b[39;00m \u001b[38;5;28menumerate\u001b[39m(tqdm(\u001b[38;5;28mself\u001b[39m\u001b[38;5;241m.\u001b[39mtrain_loader)):\n\u001b[0;32m    136\u001b[0m             images \u001b[38;5;241m=\u001b[39m torch\u001b[38;5;241m.\u001b[39mtensor(images, device\u001b[38;5;241m=\u001b[39m\u001b[38;5;28mself\u001b[39m\u001b[38;5;241m.\u001b[39mdevice, dtype\u001b[38;5;241m=\u001b[39mtorch\u001b[38;5;241m.\u001b[39mfloat32)\n\u001b[0;32m    137\u001b[0m             \u001b[38;5;66;03m# ValueError: too many dimensions 'str'\u001b[39;00m\n\u001b[0;32m    138\u001b[0m \u001b[38;5;66;03m#             targets = torch.tensor(int(targets), device=self.device, dtype=torch.long)\u001b[39;00m\n",
      "File \u001b[1;32m~\\anaconda3\\envs\\project2\\lib\\site-packages\\tqdm\\std.py:1195\u001b[0m, in \u001b[0;36mtqdm.__iter__\u001b[1;34m(self)\u001b[0m\n\u001b[0;32m   1192\u001b[0m time \u001b[38;5;241m=\u001b[39m \u001b[38;5;28mself\u001b[39m\u001b[38;5;241m.\u001b[39m_time\n\u001b[0;32m   1194\u001b[0m \u001b[38;5;28;01mtry\u001b[39;00m:\n\u001b[1;32m-> 1195\u001b[0m     \u001b[38;5;28;01mfor\u001b[39;00m obj \u001b[38;5;129;01min\u001b[39;00m iterable:\n\u001b[0;32m   1196\u001b[0m         \u001b[38;5;28;01myield\u001b[39;00m obj\n\u001b[0;32m   1197\u001b[0m         \u001b[38;5;66;03m# Update and possibly print the progressbar.\u001b[39;00m\n\u001b[0;32m   1198\u001b[0m         \u001b[38;5;66;03m# Note: does not call self.update(1) for speed optimisation.\u001b[39;00m\n",
      "File \u001b[1;32m~\\AppData\\Roaming\\Python\\Python38\\site-packages\\torch\\utils\\data\\dataloader.py:435\u001b[0m, in \u001b[0;36m_BaseDataLoaderIter.__next__\u001b[1;34m(self)\u001b[0m\n\u001b[0;32m    433\u001b[0m \u001b[38;5;28;01mif\u001b[39;00m \u001b[38;5;28mself\u001b[39m\u001b[38;5;241m.\u001b[39m_sampler_iter \u001b[38;5;129;01mis\u001b[39;00m \u001b[38;5;28;01mNone\u001b[39;00m:\n\u001b[0;32m    434\u001b[0m     \u001b[38;5;28mself\u001b[39m\u001b[38;5;241m.\u001b[39m_reset()\n\u001b[1;32m--> 435\u001b[0m data \u001b[38;5;241m=\u001b[39m \u001b[38;5;28;43mself\u001b[39;49m\u001b[38;5;241;43m.\u001b[39;49m\u001b[43m_next_data\u001b[49m\u001b[43m(\u001b[49m\u001b[43m)\u001b[49m\n\u001b[0;32m    436\u001b[0m \u001b[38;5;28mself\u001b[39m\u001b[38;5;241m.\u001b[39m_num_yielded \u001b[38;5;241m+\u001b[39m\u001b[38;5;241m=\u001b[39m \u001b[38;5;241m1\u001b[39m\n\u001b[0;32m    437\u001b[0m \u001b[38;5;28;01mif\u001b[39;00m \u001b[38;5;28mself\u001b[39m\u001b[38;5;241m.\u001b[39m_dataset_kind \u001b[38;5;241m==\u001b[39m _DatasetKind\u001b[38;5;241m.\u001b[39mIterable \u001b[38;5;129;01mand\u001b[39;00m \\\n\u001b[0;32m    438\u001b[0m         \u001b[38;5;28mself\u001b[39m\u001b[38;5;241m.\u001b[39m_IterableDataset_len_called \u001b[38;5;129;01mis\u001b[39;00m \u001b[38;5;129;01mnot\u001b[39;00m \u001b[38;5;28;01mNone\u001b[39;00m \u001b[38;5;129;01mand\u001b[39;00m \\\n\u001b[0;32m    439\u001b[0m         \u001b[38;5;28mself\u001b[39m\u001b[38;5;241m.\u001b[39m_num_yielded \u001b[38;5;241m>\u001b[39m \u001b[38;5;28mself\u001b[39m\u001b[38;5;241m.\u001b[39m_IterableDataset_len_called:\n",
      "File \u001b[1;32m~\\AppData\\Roaming\\Python\\Python38\\site-packages\\torch\\utils\\data\\dataloader.py:475\u001b[0m, in \u001b[0;36m_SingleProcessDataLoaderIter._next_data\u001b[1;34m(self)\u001b[0m\n\u001b[0;32m    473\u001b[0m \u001b[38;5;28;01mdef\u001b[39;00m \u001b[38;5;21m_next_data\u001b[39m(\u001b[38;5;28mself\u001b[39m):\n\u001b[0;32m    474\u001b[0m     index \u001b[38;5;241m=\u001b[39m \u001b[38;5;28mself\u001b[39m\u001b[38;5;241m.\u001b[39m_next_index()  \u001b[38;5;66;03m# may raise StopIteration\u001b[39;00m\n\u001b[1;32m--> 475\u001b[0m     data \u001b[38;5;241m=\u001b[39m \u001b[38;5;28;43mself\u001b[39;49m\u001b[38;5;241;43m.\u001b[39;49m\u001b[43m_dataset_fetcher\u001b[49m\u001b[38;5;241;43m.\u001b[39;49m\u001b[43mfetch\u001b[49m\u001b[43m(\u001b[49m\u001b[43mindex\u001b[49m\u001b[43m)\u001b[49m  \u001b[38;5;66;03m# may raise StopIteration\u001b[39;00m\n\u001b[0;32m    476\u001b[0m     \u001b[38;5;28;01mif\u001b[39;00m \u001b[38;5;28mself\u001b[39m\u001b[38;5;241m.\u001b[39m_pin_memory:\n\u001b[0;32m    477\u001b[0m         data \u001b[38;5;241m=\u001b[39m _utils\u001b[38;5;241m.\u001b[39mpin_memory\u001b[38;5;241m.\u001b[39mpin_memory(data)\n",
      "File \u001b[1;32m~\\AppData\\Roaming\\Python\\Python38\\site-packages\\torch\\utils\\data\\_utils\\fetch.py:44\u001b[0m, in \u001b[0;36m_MapDatasetFetcher.fetch\u001b[1;34m(self, possibly_batched_index)\u001b[0m\n\u001b[0;32m     42\u001b[0m \u001b[38;5;28;01mdef\u001b[39;00m \u001b[38;5;21mfetch\u001b[39m(\u001b[38;5;28mself\u001b[39m, possibly_batched_index):\n\u001b[0;32m     43\u001b[0m     \u001b[38;5;28;01mif\u001b[39;00m \u001b[38;5;28mself\u001b[39m\u001b[38;5;241m.\u001b[39mauto_collation:\n\u001b[1;32m---> 44\u001b[0m         data \u001b[38;5;241m=\u001b[39m [\u001b[38;5;28mself\u001b[39m\u001b[38;5;241m.\u001b[39mdataset[idx] \u001b[38;5;28;01mfor\u001b[39;00m idx \u001b[38;5;129;01min\u001b[39;00m possibly_batched_index]\n\u001b[0;32m     45\u001b[0m     \u001b[38;5;28;01melse\u001b[39;00m:\n\u001b[0;32m     46\u001b[0m         data \u001b[38;5;241m=\u001b[39m \u001b[38;5;28mself\u001b[39m\u001b[38;5;241m.\u001b[39mdataset[possibly_batched_index]\n",
      "File \u001b[1;32m~\\AppData\\Roaming\\Python\\Python38\\site-packages\\torch\\utils\\data\\_utils\\fetch.py:44\u001b[0m, in \u001b[0;36m<listcomp>\u001b[1;34m(.0)\u001b[0m\n\u001b[0;32m     42\u001b[0m \u001b[38;5;28;01mdef\u001b[39;00m \u001b[38;5;21mfetch\u001b[39m(\u001b[38;5;28mself\u001b[39m, possibly_batched_index):\n\u001b[0;32m     43\u001b[0m     \u001b[38;5;28;01mif\u001b[39;00m \u001b[38;5;28mself\u001b[39m\u001b[38;5;241m.\u001b[39mauto_collation:\n\u001b[1;32m---> 44\u001b[0m         data \u001b[38;5;241m=\u001b[39m [\u001b[38;5;28;43mself\u001b[39;49m\u001b[38;5;241;43m.\u001b[39;49m\u001b[43mdataset\u001b[49m\u001b[43m[\u001b[49m\u001b[43midx\u001b[49m\u001b[43m]\u001b[49m \u001b[38;5;28;01mfor\u001b[39;00m idx \u001b[38;5;129;01min\u001b[39;00m possibly_batched_index]\n\u001b[0;32m     45\u001b[0m     \u001b[38;5;28;01melse\u001b[39;00m:\n\u001b[0;32m     46\u001b[0m         data \u001b[38;5;241m=\u001b[39m \u001b[38;5;28mself\u001b[39m\u001b[38;5;241m.\u001b[39mdataset[possibly_batched_index]\n",
      "Input \u001b[1;32mIn [5]\u001b[0m, in \u001b[0;36mTrain_Dataset.__getitem__\u001b[1;34m(self, idx)\u001b[0m\n\u001b[0;32m     24\u001b[0m \u001b[38;5;66;03m#         print(f'target:{target}')\u001b[39;00m\n\u001b[0;32m     26\u001b[0m         \u001b[38;5;28;01mif\u001b[39;00m \u001b[38;5;28mself\u001b[39m\u001b[38;5;241m.\u001b[39mtransform \u001b[38;5;129;01mis\u001b[39;00m \u001b[38;5;129;01mnot\u001b[39;00m \u001b[38;5;28;01mNone\u001b[39;00m:\n\u001b[0;32m     27\u001b[0m         \u001b[38;5;66;03m# HWC => CHW-layout 변환\u001b[39;00m\n\u001b[1;32m---> 28\u001b[0m             image \u001b[38;5;241m=\u001b[39m \u001b[38;5;28;43mself\u001b[39;49m\u001b[38;5;241;43m.\u001b[39;49m\u001b[43mtransform\u001b[49m\u001b[43m(\u001b[49m\u001b[43mtorch\u001b[49m\u001b[38;5;241;43m.\u001b[39;49m\u001b[43mfrom_numpy\u001b[49m\u001b[43m(\u001b[49m\u001b[43mimage\u001b[49m\u001b[38;5;241;43m.\u001b[39;49m\u001b[43mtranspose\u001b[49m\u001b[43m(\u001b[49m\u001b[38;5;241;43m2\u001b[39;49m\u001b[43m,\u001b[49m\u001b[38;5;241;43m0\u001b[39;49m\u001b[43m,\u001b[49m\u001b[38;5;241;43m1\u001b[39;49m\u001b[43m)\u001b[49m\u001b[43m)\u001b[49m\u001b[43m)\u001b[49m\n\u001b[0;32m     30\u001b[0m         \u001b[38;5;28;01mreturn\u001b[39;00m image, target\n",
      "File \u001b[1;32m~\\AppData\\Roaming\\Python\\Python38\\site-packages\\torchvision\\transforms\\transforms.py:67\u001b[0m, in \u001b[0;36mCompose.__call__\u001b[1;34m(self, img)\u001b[0m\n\u001b[0;32m     65\u001b[0m \u001b[38;5;28;01mdef\u001b[39;00m \u001b[38;5;21m__call__\u001b[39m(\u001b[38;5;28mself\u001b[39m, img):\n\u001b[0;32m     66\u001b[0m     \u001b[38;5;28;01mfor\u001b[39;00m t \u001b[38;5;129;01min\u001b[39;00m \u001b[38;5;28mself\u001b[39m\u001b[38;5;241m.\u001b[39mtransforms:\n\u001b[1;32m---> 67\u001b[0m         img \u001b[38;5;241m=\u001b[39m \u001b[43mt\u001b[49m\u001b[43m(\u001b[49m\u001b[43mimg\u001b[49m\u001b[43m)\u001b[49m\n\u001b[0;32m     68\u001b[0m     \u001b[38;5;28;01mreturn\u001b[39;00m img\n",
      "File \u001b[1;32m~\\AppData\\Roaming\\Python\\Python38\\site-packages\\torch\\nn\\modules\\module.py:727\u001b[0m, in \u001b[0;36mModule._call_impl\u001b[1;34m(self, *input, **kwargs)\u001b[0m\n\u001b[0;32m    725\u001b[0m     result \u001b[38;5;241m=\u001b[39m \u001b[38;5;28mself\u001b[39m\u001b[38;5;241m.\u001b[39m_slow_forward(\u001b[38;5;241m*\u001b[39m\u001b[38;5;28minput\u001b[39m, \u001b[38;5;241m*\u001b[39m\u001b[38;5;241m*\u001b[39mkwargs)\n\u001b[0;32m    726\u001b[0m \u001b[38;5;28;01melse\u001b[39;00m:\n\u001b[1;32m--> 727\u001b[0m     result \u001b[38;5;241m=\u001b[39m \u001b[38;5;28;43mself\u001b[39;49m\u001b[38;5;241;43m.\u001b[39;49m\u001b[43mforward\u001b[49m\u001b[43m(\u001b[49m\u001b[38;5;241;43m*\u001b[39;49m\u001b[38;5;28;43minput\u001b[39;49m\u001b[43m,\u001b[49m\u001b[43m \u001b[49m\u001b[38;5;241;43m*\u001b[39;49m\u001b[38;5;241;43m*\u001b[39;49m\u001b[43mkwargs\u001b[49m\u001b[43m)\u001b[49m\n\u001b[0;32m    728\u001b[0m \u001b[38;5;28;01mfor\u001b[39;00m hook \u001b[38;5;129;01min\u001b[39;00m itertools\u001b[38;5;241m.\u001b[39mchain(\n\u001b[0;32m    729\u001b[0m         _global_forward_hooks\u001b[38;5;241m.\u001b[39mvalues(),\n\u001b[0;32m    730\u001b[0m         \u001b[38;5;28mself\u001b[39m\u001b[38;5;241m.\u001b[39m_forward_hooks\u001b[38;5;241m.\u001b[39mvalues()):\n\u001b[0;32m    731\u001b[0m     hook_result \u001b[38;5;241m=\u001b[39m hook(\u001b[38;5;28mself\u001b[39m, \u001b[38;5;28minput\u001b[39m, result)\n",
      "File \u001b[1;32m~\\AppData\\Roaming\\Python\\Python38\\site-packages\\torchvision\\transforms\\transforms.py:1309\u001b[0m, in \u001b[0;36mRandomAffine.forward\u001b[1;34m(self, img)\u001b[0m\n\u001b[0;32m   1306\u001b[0m img_size \u001b[38;5;241m=\u001b[39m F\u001b[38;5;241m.\u001b[39m_get_image_size(img)\n\u001b[0;32m   1308\u001b[0m ret \u001b[38;5;241m=\u001b[39m \u001b[38;5;28mself\u001b[39m\u001b[38;5;241m.\u001b[39mget_params(\u001b[38;5;28mself\u001b[39m\u001b[38;5;241m.\u001b[39mdegrees, \u001b[38;5;28mself\u001b[39m\u001b[38;5;241m.\u001b[39mtranslate, \u001b[38;5;28mself\u001b[39m\u001b[38;5;241m.\u001b[39mscale, \u001b[38;5;28mself\u001b[39m\u001b[38;5;241m.\u001b[39mshear, img_size)\n\u001b[1;32m-> 1309\u001b[0m \u001b[38;5;28;01mreturn\u001b[39;00m \u001b[43mF\u001b[49m\u001b[38;5;241;43m.\u001b[39;49m\u001b[43maffine\u001b[49m\u001b[43m(\u001b[49m\u001b[43mimg\u001b[49m\u001b[43m,\u001b[49m\u001b[43m \u001b[49m\u001b[38;5;241;43m*\u001b[39;49m\u001b[43mret\u001b[49m\u001b[43m,\u001b[49m\u001b[43m \u001b[49m\u001b[43mresample\u001b[49m\u001b[38;5;241;43m=\u001b[39;49m\u001b[38;5;28;43mself\u001b[39;49m\u001b[38;5;241;43m.\u001b[39;49m\u001b[43mresample\u001b[49m\u001b[43m,\u001b[49m\u001b[43m \u001b[49m\u001b[43mfillcolor\u001b[49m\u001b[38;5;241;43m=\u001b[39;49m\u001b[38;5;28;43mself\u001b[39;49m\u001b[38;5;241;43m.\u001b[39;49m\u001b[43mfillcolor\u001b[49m\u001b[43m)\u001b[49m\n",
      "File \u001b[1;32m~\\AppData\\Roaming\\Python\\Python38\\site-packages\\torchvision\\transforms\\functional.py:920\u001b[0m, in \u001b[0;36maffine\u001b[1;34m(img, angle, translate, scale, shear, resample, fillcolor)\u001b[0m\n\u001b[0;32m    918\u001b[0m translate_f \u001b[38;5;241m=\u001b[39m [\u001b[38;5;241m1.0\u001b[39m \u001b[38;5;241m*\u001b[39m t \u001b[38;5;28;01mfor\u001b[39;00m t \u001b[38;5;129;01min\u001b[39;00m translate]\n\u001b[0;32m    919\u001b[0m matrix \u001b[38;5;241m=\u001b[39m _get_inverse_affine_matrix([\u001b[38;5;241m0.0\u001b[39m, \u001b[38;5;241m0.0\u001b[39m], angle, translate_f, scale, shear)\n\u001b[1;32m--> 920\u001b[0m \u001b[38;5;28;01mreturn\u001b[39;00m \u001b[43mF_t\u001b[49m\u001b[38;5;241;43m.\u001b[39;49m\u001b[43maffine\u001b[49m\u001b[43m(\u001b[49m\u001b[43mimg\u001b[49m\u001b[43m,\u001b[49m\u001b[43m \u001b[49m\u001b[43mmatrix\u001b[49m\u001b[38;5;241;43m=\u001b[39;49m\u001b[43mmatrix\u001b[49m\u001b[43m,\u001b[49m\u001b[43m \u001b[49m\u001b[43mresample\u001b[49m\u001b[38;5;241;43m=\u001b[39;49m\u001b[43mresample\u001b[49m\u001b[43m,\u001b[49m\u001b[43m \u001b[49m\u001b[43mfillcolor\u001b[49m\u001b[38;5;241;43m=\u001b[39;49m\u001b[43mfillcolor\u001b[49m\u001b[43m)\u001b[49m\n",
      "File \u001b[1;32m~\\AppData\\Roaming\\Python\\Python38\\site-packages\\torchvision\\transforms\\functional_tensor.py:977\u001b[0m, in \u001b[0;36maffine\u001b[1;34m(img, matrix, resample, fillcolor)\u001b[0m\n\u001b[0;32m    975\u001b[0m grid \u001b[38;5;241m=\u001b[39m _gen_affine_grid(theta, w\u001b[38;5;241m=\u001b[39mshape[\u001b[38;5;241m-\u001b[39m\u001b[38;5;241m1\u001b[39m], h\u001b[38;5;241m=\u001b[39mshape[\u001b[38;5;241m-\u001b[39m\u001b[38;5;241m2\u001b[39m], ow\u001b[38;5;241m=\u001b[39mshape[\u001b[38;5;241m-\u001b[39m\u001b[38;5;241m1\u001b[39m], oh\u001b[38;5;241m=\u001b[39mshape[\u001b[38;5;241m-\u001b[39m\u001b[38;5;241m2\u001b[39m])\n\u001b[0;32m    976\u001b[0m mode \u001b[38;5;241m=\u001b[39m _interpolation_modes[resample]\n\u001b[1;32m--> 977\u001b[0m \u001b[38;5;28;01mreturn\u001b[39;00m \u001b[43m_apply_grid_transform\u001b[49m\u001b[43m(\u001b[49m\u001b[43mimg\u001b[49m\u001b[43m,\u001b[49m\u001b[43m \u001b[49m\u001b[43mgrid\u001b[49m\u001b[43m,\u001b[49m\u001b[43m \u001b[49m\u001b[43mmode\u001b[49m\u001b[43m)\u001b[49m\n",
      "File \u001b[1;32m~\\AppData\\Roaming\\Python\\Python38\\site-packages\\torchvision\\transforms\\functional_tensor.py:917\u001b[0m, in \u001b[0;36m_apply_grid_transform\u001b[1;34m(img, grid, mode)\u001b[0m\n\u001b[0;32m    914\u001b[0m     grid \u001b[38;5;241m=\u001b[39m grid\u001b[38;5;241m.\u001b[39mexpand(img\u001b[38;5;241m.\u001b[39mshape[\u001b[38;5;241m0\u001b[39m], grid\u001b[38;5;241m.\u001b[39mshape[\u001b[38;5;241m1\u001b[39m], grid\u001b[38;5;241m.\u001b[39mshape[\u001b[38;5;241m2\u001b[39m], grid\u001b[38;5;241m.\u001b[39mshape[\u001b[38;5;241m3\u001b[39m])\n\u001b[0;32m    915\u001b[0m img \u001b[38;5;241m=\u001b[39m grid_sample(img, grid, mode\u001b[38;5;241m=\u001b[39mmode, padding_mode\u001b[38;5;241m=\u001b[39m\u001b[38;5;124m\"\u001b[39m\u001b[38;5;124mzeros\u001b[39m\u001b[38;5;124m\"\u001b[39m, align_corners\u001b[38;5;241m=\u001b[39m\u001b[38;5;28;01mFalse\u001b[39;00m)\n\u001b[1;32m--> 917\u001b[0m img \u001b[38;5;241m=\u001b[39m \u001b[43m_cast_squeeze_out\u001b[49m\u001b[43m(\u001b[49m\u001b[43mimg\u001b[49m\u001b[43m,\u001b[49m\u001b[43m \u001b[49m\u001b[43mneed_cast\u001b[49m\u001b[43m,\u001b[49m\u001b[43m \u001b[49m\u001b[43mneed_squeeze\u001b[49m\u001b[43m,\u001b[49m\u001b[43m \u001b[49m\u001b[43mout_dtype\u001b[49m\u001b[43m)\u001b[49m\n\u001b[0;32m    918\u001b[0m \u001b[38;5;28;01mreturn\u001b[39;00m img\n",
      "File \u001b[1;32m~\\AppData\\Roaming\\Python\\Python38\\site-packages\\torchvision\\transforms\\functional_tensor.py:899\u001b[0m, in \u001b[0;36m_cast_squeeze_out\u001b[1;34m(img, need_cast, need_squeeze, out_dtype)\u001b[0m\n\u001b[0;32m    897\u001b[0m \u001b[38;5;28;01mdef\u001b[39;00m \u001b[38;5;21m_cast_squeeze_out\u001b[39m(img: Tensor, need_cast: \u001b[38;5;28mbool\u001b[39m, need_squeeze: \u001b[38;5;28mbool\u001b[39m, out_dtype: torch\u001b[38;5;241m.\u001b[39mdtype):\n\u001b[0;32m    898\u001b[0m     \u001b[38;5;28;01mif\u001b[39;00m need_squeeze:\n\u001b[1;32m--> 899\u001b[0m         img \u001b[38;5;241m=\u001b[39m \u001b[43mimg\u001b[49m\u001b[38;5;241;43m.\u001b[39;49m\u001b[43msqueeze\u001b[49m\u001b[43m(\u001b[49m\u001b[43mdim\u001b[49m\u001b[38;5;241;43m=\u001b[39;49m\u001b[38;5;241;43m0\u001b[39;49m\u001b[43m)\u001b[49m\n\u001b[0;32m    901\u001b[0m     \u001b[38;5;28;01mif\u001b[39;00m need_cast:\n\u001b[0;32m    902\u001b[0m         \u001b[38;5;66;03m# it is better to round before cast\u001b[39;00m\n\u001b[0;32m    903\u001b[0m         img \u001b[38;5;241m=\u001b[39m torch\u001b[38;5;241m.\u001b[39mround(img)\u001b[38;5;241m.\u001b[39mto(out_dtype)\n",
      "\u001b[1;31mKeyboardInterrupt\u001b[0m: "
     ]
    }
   ],
   "source": [
    "start = 0 # first time : Only Trainset\n",
    "# steps = 6 # Number of pseudo labeling times \n",
    "models_path = []\n",
    "for s_fold in range(5): # 5fold\n",
    "    args.fold = s_fold\n",
    "    args.exp_num = str(s_fold)\n",
    "    save_path = main(args)\n",
    "    models_path.append(save_path)\n",
    "    \n",
    "# pseudo labeling하는 경우\n",
    "# for step in range(start, steps+1): \n",
    "#     models_path = []\n",
    "#     args.step = step\n",
    "#     for s_fold in range(5): # 5fold\n",
    "#         args.fold = s_fold\n",
    "#         args.exp_num = str(s_fold)\n",
    "#         save_path = main(args)\n",
    "#         models_path.append(save_path)\n",
    "#     ensemble = ensemble_5fold(models_path, test_loader, device)\n",
    "#     make_pseudo_df(df_train, df_test, ensemble, step+1)"
   ]
  },
  {
   "cell_type": "code",
   "execution_count": null,
   "id": "9f4dc33e",
   "metadata": {},
   "outputs": [],
   "source": [
    "# def ensemble_fold(model_path_list, test_loader, device):\n",
    "#     predict_list = []\n",
    "#     for model_path in model_path_list:  # 고려사항\n",
    "# #         prediction = predict(encoder_name= 'efficientnet_b3', \n",
    "#         prediction = predict(encoder_name= 'regnety_080', \n",
    "# #         prediction = predict(encoder_name= 'regnety_040', \n",
    "#                              test_loader = test_loader, device = device, model_path = model_path)\n",
    "#         predict_list.append(prediction)\n",
    "#     ensemble = predict_list[0]\n",
    "\n",
    "#     return ensemble"
   ]
  },
  {
   "cell_type": "markdown",
   "id": "33b2fc7a",
   "metadata": {},
   "source": [
    "모델 불러와서 ensemble"
   ]
  },
  {
   "cell_type": "code",
   "execution_count": null,
   "id": "06458143",
   "metadata": {},
   "outputs": [],
   "source": [
    "# models_path=[]"
   ]
  },
  {
   "cell_type": "code",
   "execution_count": null,
   "id": "bf023064",
   "metadata": {},
   "outputs": [],
   "source": [
    "# save_path = os.path.join(args.model_path, (args.exp_num).zfill(3))"
   ]
  },
  {
   "cell_type": "code",
   "execution_count": null,
   "id": "ab914137",
   "metadata": {},
   "outputs": [],
   "source": [
    "# models_path.append(save_path)"
   ]
  },
  {
   "cell_type": "code",
   "execution_count": null,
   "id": "7cd40e1a",
   "metadata": {},
   "outputs": [],
   "source": [
    "# save_path = os.path.join(args.model_path, (str(1)).zfill(3))\n",
    "# models_path.append(save_path)\n",
    "\n",
    "# save_path = os.path.join(args.model_path, (str(2)).zfill(3))\n",
    "# models_path.append(save_path)\n",
    "\n",
    "# save_path = os.path.join(args.model_path, (str(3)).zfill(3))\n",
    "# models_path.append(save_path)\n",
    "\n",
    "# save_path = os.path.join(args.model_path, (str(4)).zfill(3))\n",
    "# models_path.append(save_path)"
   ]
  },
  {
   "cell_type": "code",
   "execution_count": null,
   "id": "13095466",
   "metadata": {},
   "outputs": [],
   "source": []
  },
  {
   "cell_type": "code",
   "execution_count": null,
   "id": "ed375131",
   "metadata": {},
   "outputs": [],
   "source": [
    "models_path"
   ]
  },
  {
   "cell_type": "code",
   "execution_count": null,
   "id": "87d1cd46",
   "metadata": {},
   "outputs": [],
   "source": []
  },
  {
   "cell_type": "code",
   "execution_count": null,
   "id": "d5803db0",
   "metadata": {},
   "outputs": [],
   "source": [
    "ensemble = ensemble_5fold(models_path, test_loader, device)"
   ]
  },
  {
   "cell_type": "code",
   "execution_count": null,
   "id": "224f82de",
   "metadata": {},
   "outputs": [],
   "source": [
    "# For submission\n",
    "sub.iloc[:, 1] = ensemble.argmax(axis=1)\n",
    "labels = ['bottle-broken_large', 'bottle-broken_small', 'bottle-contamination', 'bottle-good', 'cable-bent_wire', 'cable-cable_swap', 'cable-combined', 'cable-cut_inner_insulation', 'cable-cut_outer_insulation', 'cable-good', 'cable-missing_cable', 'cable-missing_wire', 'cable-poke_insulation', 'capsule-crack', 'capsule-faulty_imprint', 'capsule-good', 'capsule-poke', 'capsule-scratch', 'capsule-squeeze', 'carpet-color', 'carpet-cut', 'carpet-good', 'carpet-hole', 'carpet-metal_contamination', 'carpet-thread', 'grid-bent', 'grid-broken', 'grid-glue', 'grid-good', 'grid-metal_contamination', 'grid-thread', 'hazelnut-crack', 'hazelnut-cut', 'hazelnut-good', 'hazelnut-hole', 'hazelnut-print', 'leather-color', 'leather-cut', 'leather-fold', 'leather-glue', 'leather-good', 'leather-poke', 'metal_nut-bent', 'metal_nut-color', 'metal_nut-flip', 'metal_nut-good', 'metal_nut-scratch', 'pill-color', 'pill-combined', 'pill-contamination', 'pill-crack', 'pill-faulty_imprint', 'pill-good', 'pill-pill_type', 'pill-scratch', 'screw-good', 'screw-manipulated_front', 'screw-scratch_head', 'screw-scratch_neck', 'screw-thread_side', 'screw-thread_top', 'tile-crack', 'tile-glue_strip', 'tile-good', 'tile-gray_stroke', 'tile-oil', 'tile-rough', 'toothbrush-defective', 'toothbrush-good', 'transistor-bent_lead', 'transistor-cut_lead', 'transistor-damaged_case', 'transistor-good', 'transistor-misplaced', 'wood-color', 'wood-combined', 'wood-good', 'wood-hole', 'wood-liquid', 'wood-scratch', 'zipper-broken_teeth', 'zipper-combined', 'zipper-fabric_border', 'zipper-fabric_interior', 'zipper-good', 'zipper-rough', 'zipper-split_teeth', 'zipper-squeezed_teeth']\n",
    "original_labels = dict(zip(range(len(labels)),labels))\n",
    "sub['label'] = sub['label'].replace(original_labels)\n",
    "sub"
   ]
  },
  {
   "cell_type": "code",
   "execution_count": null,
   "id": "796ea827",
   "metadata": {},
   "outputs": [],
   "source": [
    "sub.to_csv('./data/0511_1_submission.csv', index=False)"
   ]
  },
  {
   "cell_type": "code",
   "execution_count": null,
   "id": "0a5c5880",
   "metadata": {},
   "outputs": [],
   "source": [
    "# 정상 샘플 개수\n",
    "good_cnt = 0\n",
    "for i in range(len(sub)):\n",
    "    if sub['label'][i][-4:] == 'good':\n",
    "        good_cnt += 1\n",
    "print(good_cnt)"
   ]
  },
  {
   "cell_type": "code",
   "execution_count": null,
   "id": "82f050c4",
   "metadata": {},
   "outputs": [],
   "source": [
    "# 학습에 사용한 모델의 batch_size, epoch, img_size 기록\n",
    "print('batch_size =', args.batch_size)\n",
    "print('epochs =', args.epochs)\n",
    "print('img_size =', args.img_size)\n",
    "print('patience =', args.patience)"
   ]
  },
  {
   "cell_type": "code",
   "execution_count": null,
   "id": "28937c58",
   "metadata": {},
   "outputs": [],
   "source": [
    "print('model =', args.encoder_name)"
   ]
  },
  {
   "cell_type": "code",
   "execution_count": null,
   "id": "e62b7ec7",
   "metadata": {},
   "outputs": [],
   "source": []
  },
  {
   "cell_type": "code",
   "execution_count": null,
   "id": "57c914b5",
   "metadata": {},
   "outputs": [],
   "source": []
  },
  {
   "cell_type": "code",
   "execution_count": null,
   "id": "03c6a1c4",
   "metadata": {},
   "outputs": [],
   "source": []
  },
  {
   "cell_type": "code",
   "execution_count": null,
   "id": "4ecf5bd2",
   "metadata": {},
   "outputs": [],
   "source": []
  }
 ],
 "metadata": {
  "kernelspec": {
   "display_name": "Python [conda env:project2] *",
   "language": "python",
   "name": "conda-env-project2-py"
  },
  "language_info": {
   "codemirror_mode": {
    "name": "ipython",
    "version": 3
   },
   "file_extension": ".py",
   "mimetype": "text/x-python",
   "name": "python",
   "nbconvert_exporter": "python",
   "pygments_lexer": "ipython3",
   "version": "3.8.13"
  }
 },
 "nbformat": 4,
 "nbformat_minor": 5
}
